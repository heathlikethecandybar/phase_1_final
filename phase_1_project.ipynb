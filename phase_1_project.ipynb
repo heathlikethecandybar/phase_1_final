{
 "cells": [
  {
   "cell_type": "markdown",
   "metadata": {
    "ExecuteTime": {
     "end_time": "2022-07-26T18:07:17.858503Z",
     "start_time": "2022-07-26T18:07:17.856002Z"
    }
   },
   "source": [
    "# Microsoft Movie Studio Analysis \n",
    "\n",
    "\n",
    "* Student name/ Author: Heath Rittler\n",
    "* Student pace: self paced\n",
    "* Scheduled project review date/time: 8/1/2022\n",
    "* Instructor name: Claude Fried"
   ]
  },
  {
   "cell_type": "markdown",
   "metadata": {},
   "source": [
    "# Introduction\n",
    "Microsoft wants to create original video content. However, they do not know much about creating movies, or which types of movies are most successful at the box office. The purpose of this analysis is to evaluate box office data and to provide Microsoft with recommendations on which types of content would make them most successful in their endeavor.\n",
    "\n",
    "Suggestions for types of content:\n",
    "\n",
    "Create movies that have the highest ROI to maximize initial investment & early profitability.\n",
    "Focus on movies that are appealing to a broader audience and international box offices.\n",
    "Develop franchise movies to optimize box office performance and additional opportunities for monetization."
   ]
  },
  {
   "cell_type": "code",
   "execution_count": 1,
   "metadata": {
    "ExecuteTime": {
     "end_time": "2022-08-03T17:26:33.904726Z",
     "start_time": "2022-08-03T17:26:31.489337Z"
    }
   },
   "outputs": [],
   "source": [
    "# import cleaning, analysis, and charting packages\n",
    "\n",
    "import pandas as pd\n",
    "import numpy as np\n",
    "import sqlite3\n",
    "import requests as rq\n",
    "from sklearn.preprocessing import OneHotEncoder\n",
    "from zipfile import ZipFile\n",
    "from matplotlib import pyplot as plt\n",
    "import matplotlib.ticker as mtick\n",
    "import seaborn as sns\n",
    "\n",
    "\n",
    "%matplotlib inline\n",
    "plt.style.use('seaborn-talk')"
   ]
  },
  {
   "cell_type": "markdown",
   "metadata": {},
   "source": [
    "# Datasets explore\n",
    "Viewing and connecting to initial datasets that were provided.  Including dataset that I found as well through Opus."
   ]
  },
  {
   "cell_type": "markdown",
   "metadata": {},
   "source": [
    "## bom.movie_gross dataset"
   ]
  },
  {
   "cell_type": "code",
   "execution_count": 2,
   "metadata": {
    "ExecuteTime": {
     "end_time": "2022-08-03T17:26:33.944598Z",
     "start_time": "2022-08-03T17:26:33.909073Z"
    }
   },
   "outputs": [
    {
     "data": {
      "text/html": [
       "<div>\n",
       "<style scoped>\n",
       "    .dataframe tbody tr th:only-of-type {\n",
       "        vertical-align: middle;\n",
       "    }\n",
       "\n",
       "    .dataframe tbody tr th {\n",
       "        vertical-align: top;\n",
       "    }\n",
       "\n",
       "    .dataframe thead th {\n",
       "        text-align: right;\n",
       "    }\n",
       "</style>\n",
       "<table border=\"1\" class=\"dataframe\">\n",
       "  <thead>\n",
       "    <tr style=\"text-align: right;\">\n",
       "      <th></th>\n",
       "      <th>title</th>\n",
       "      <th>studio</th>\n",
       "      <th>domestic_gross</th>\n",
       "      <th>foreign_gross</th>\n",
       "      <th>year</th>\n",
       "    </tr>\n",
       "  </thead>\n",
       "  <tbody>\n",
       "    <tr>\n",
       "      <th>0</th>\n",
       "      <td>Toy Story 3</td>\n",
       "      <td>BV</td>\n",
       "      <td>415000000.0</td>\n",
       "      <td>652000000</td>\n",
       "      <td>2010</td>\n",
       "    </tr>\n",
       "    <tr>\n",
       "      <th>1</th>\n",
       "      <td>Alice in Wonderland (2010)</td>\n",
       "      <td>BV</td>\n",
       "      <td>334200000.0</td>\n",
       "      <td>691300000</td>\n",
       "      <td>2010</td>\n",
       "    </tr>\n",
       "    <tr>\n",
       "      <th>2</th>\n",
       "      <td>Harry Potter and the Deathly Hallows Part 1</td>\n",
       "      <td>WB</td>\n",
       "      <td>296000000.0</td>\n",
       "      <td>664300000</td>\n",
       "      <td>2010</td>\n",
       "    </tr>\n",
       "    <tr>\n",
       "      <th>3</th>\n",
       "      <td>Inception</td>\n",
       "      <td>WB</td>\n",
       "      <td>292600000.0</td>\n",
       "      <td>535700000</td>\n",
       "      <td>2010</td>\n",
       "    </tr>\n",
       "    <tr>\n",
       "      <th>4</th>\n",
       "      <td>Shrek Forever After</td>\n",
       "      <td>P/DW</td>\n",
       "      <td>238700000.0</td>\n",
       "      <td>513900000</td>\n",
       "      <td>2010</td>\n",
       "    </tr>\n",
       "  </tbody>\n",
       "</table>\n",
       "</div>"
      ],
      "text/plain": [
       "                                         title studio  domestic_gross  \\\n",
       "0                                  Toy Story 3     BV     415000000.0   \n",
       "1                   Alice in Wonderland (2010)     BV     334200000.0   \n",
       "2  Harry Potter and the Deathly Hallows Part 1     WB     296000000.0   \n",
       "3                                    Inception     WB     292600000.0   \n",
       "4                          Shrek Forever After   P/DW     238700000.0   \n",
       "\n",
       "  foreign_gross  year  \n",
       "0     652000000  2010  \n",
       "1     691300000  2010  \n",
       "2     664300000  2010  \n",
       "3     535700000  2010  \n",
       "4     513900000  2010  "
      ]
     },
     "execution_count": 2,
     "metadata": {},
     "output_type": "execute_result"
    }
   ],
   "source": [
    "df = pd.read_csv('data/bom.movie_gross.csv')\n",
    "df.head()\n",
    "## need tmdb.movies file for genres"
   ]
  },
  {
   "cell_type": "code",
   "execution_count": 3,
   "metadata": {
    "ExecuteTime": {
     "end_time": "2022-08-03T17:26:33.952910Z",
     "start_time": "2022-08-03T17:26:33.947425Z"
    },
    "scrolled": false
   },
   "outputs": [
    {
     "name": "stdout",
     "output_type": "stream",
     "text": [
      "The \"bom.movie_gross.csv\" dataset starts in year 2010 and ends in 2018 .\n",
      "There are 3387 movie title records in the dataset.\n"
     ]
    }
   ],
   "source": [
    "print('The \"bom.movie_gross.csv\" dataset starts in year', df['year'].min(),'and ends in', df['year'].max(),'.')\n",
    "print('There are', df['title'].count(),'movie title records in the dataset.')"
   ]
  },
  {
   "cell_type": "code",
   "execution_count": 4,
   "metadata": {
    "ExecuteTime": {
     "end_time": "2022-08-03T17:26:33.969421Z",
     "start_time": "2022-08-03T17:26:33.956073Z"
    }
   },
   "outputs": [],
   "source": [
    "#cleaning gnarliness in the foreign gross column and changing to int\n",
    "df['foreign_gross'] = pd.to_numeric(df['foreign_gross'], errors='coerce')\n",
    "df = df.dropna(subset=['foreign_gross'])\n",
    "df['foreign_gross'] = df['foreign_gross'].astype(int)"
   ]
  },
  {
   "cell_type": "markdown",
   "metadata": {},
   "source": [
    "Dataset is pretty simple.  Looking for more data around performance to understand success.  Would be a good dataframe to join if needed split between domestic and foreign gross box office performance or studio information."
   ]
  },
  {
   "cell_type": "markdown",
   "metadata": {},
   "source": [
    "## tmdb.movies dataset"
   ]
  },
  {
   "cell_type": "code",
   "execution_count": 5,
   "metadata": {
    "ExecuteTime": {
     "end_time": "2022-08-03T17:26:34.077236Z",
     "start_time": "2022-08-03T17:26:33.972468Z"
    }
   },
   "outputs": [
    {
     "data": {
      "text/html": [
       "<div>\n",
       "<style scoped>\n",
       "    .dataframe tbody tr th:only-of-type {\n",
       "        vertical-align: middle;\n",
       "    }\n",
       "\n",
       "    .dataframe tbody tr th {\n",
       "        vertical-align: top;\n",
       "    }\n",
       "\n",
       "    .dataframe thead th {\n",
       "        text-align: right;\n",
       "    }\n",
       "</style>\n",
       "<table border=\"1\" class=\"dataframe\">\n",
       "  <thead>\n",
       "    <tr style=\"text-align: right;\">\n",
       "      <th></th>\n",
       "      <th>Unnamed: 0</th>\n",
       "      <th>genre_ids</th>\n",
       "      <th>id</th>\n",
       "      <th>original_language</th>\n",
       "      <th>original_title</th>\n",
       "      <th>popularity</th>\n",
       "      <th>release_date</th>\n",
       "      <th>title</th>\n",
       "      <th>vote_average</th>\n",
       "      <th>vote_count</th>\n",
       "    </tr>\n",
       "  </thead>\n",
       "  <tbody>\n",
       "    <tr>\n",
       "      <th>0</th>\n",
       "      <td>0</td>\n",
       "      <td>[12, 14, 10751]</td>\n",
       "      <td>12444</td>\n",
       "      <td>en</td>\n",
       "      <td>Harry Potter and the Deathly Hallows: Part 1</td>\n",
       "      <td>33.533</td>\n",
       "      <td>2010-11-19</td>\n",
       "      <td>Harry Potter and the Deathly Hallows: Part 1</td>\n",
       "      <td>7.7</td>\n",
       "      <td>10788</td>\n",
       "    </tr>\n",
       "    <tr>\n",
       "      <th>1</th>\n",
       "      <td>1</td>\n",
       "      <td>[14, 12, 16, 10751]</td>\n",
       "      <td>10191</td>\n",
       "      <td>en</td>\n",
       "      <td>How to Train Your Dragon</td>\n",
       "      <td>28.734</td>\n",
       "      <td>2010-03-26</td>\n",
       "      <td>How to Train Your Dragon</td>\n",
       "      <td>7.7</td>\n",
       "      <td>7610</td>\n",
       "    </tr>\n",
       "    <tr>\n",
       "      <th>2</th>\n",
       "      <td>2</td>\n",
       "      <td>[12, 28, 878]</td>\n",
       "      <td>10138</td>\n",
       "      <td>en</td>\n",
       "      <td>Iron Man 2</td>\n",
       "      <td>28.515</td>\n",
       "      <td>2010-05-07</td>\n",
       "      <td>Iron Man 2</td>\n",
       "      <td>6.8</td>\n",
       "      <td>12368</td>\n",
       "    </tr>\n",
       "    <tr>\n",
       "      <th>3</th>\n",
       "      <td>3</td>\n",
       "      <td>[16, 35, 10751]</td>\n",
       "      <td>862</td>\n",
       "      <td>en</td>\n",
       "      <td>Toy Story</td>\n",
       "      <td>28.005</td>\n",
       "      <td>1995-11-22</td>\n",
       "      <td>Toy Story</td>\n",
       "      <td>7.9</td>\n",
       "      <td>10174</td>\n",
       "    </tr>\n",
       "    <tr>\n",
       "      <th>4</th>\n",
       "      <td>4</td>\n",
       "      <td>[28, 878, 12]</td>\n",
       "      <td>27205</td>\n",
       "      <td>en</td>\n",
       "      <td>Inception</td>\n",
       "      <td>27.920</td>\n",
       "      <td>2010-07-16</td>\n",
       "      <td>Inception</td>\n",
       "      <td>8.3</td>\n",
       "      <td>22186</td>\n",
       "    </tr>\n",
       "  </tbody>\n",
       "</table>\n",
       "</div>"
      ],
      "text/plain": [
       "   Unnamed: 0            genre_ids     id original_language  \\\n",
       "0           0      [12, 14, 10751]  12444                en   \n",
       "1           1  [14, 12, 16, 10751]  10191                en   \n",
       "2           2        [12, 28, 878]  10138                en   \n",
       "3           3      [16, 35, 10751]    862                en   \n",
       "4           4        [28, 878, 12]  27205                en   \n",
       "\n",
       "                                 original_title  popularity release_date  \\\n",
       "0  Harry Potter and the Deathly Hallows: Part 1      33.533   2010-11-19   \n",
       "1                      How to Train Your Dragon      28.734   2010-03-26   \n",
       "2                                    Iron Man 2      28.515   2010-05-07   \n",
       "3                                     Toy Story      28.005   1995-11-22   \n",
       "4                                     Inception      27.920   2010-07-16   \n",
       "\n",
       "                                          title  vote_average  vote_count  \n",
       "0  Harry Potter and the Deathly Hallows: Part 1           7.7       10788  \n",
       "1                      How to Train Your Dragon           7.7        7610  \n",
       "2                                    Iron Man 2           6.8       12368  \n",
       "3                                     Toy Story           7.9       10174  \n",
       "4                                     Inception           8.3       22186  "
      ]
     },
     "execution_count": 5,
     "metadata": {},
     "output_type": "execute_result"
    }
   ],
   "source": [
    "data = pd.read_csv('data/tmdb.movies.csv')\n",
    "data.head()"
   ]
  },
  {
   "cell_type": "code",
   "execution_count": 6,
   "metadata": {
    "ExecuteTime": {
     "end_time": "2022-08-03T17:26:34.099768Z",
     "start_time": "2022-08-03T17:26:34.079884Z"
    }
   },
   "outputs": [
    {
     "name": "stdout",
     "output_type": "stream",
     "text": [
      "<class 'pandas.core.frame.DataFrame'>\n",
      "RangeIndex: 26517 entries, 0 to 26516\n",
      "Data columns (total 10 columns):\n",
      " #   Column             Non-Null Count  Dtype  \n",
      "---  ------             --------------  -----  \n",
      " 0   Unnamed: 0         26517 non-null  int64  \n",
      " 1   genre_ids          26517 non-null  object \n",
      " 2   id                 26517 non-null  int64  \n",
      " 3   original_language  26517 non-null  object \n",
      " 4   original_title     26517 non-null  object \n",
      " 5   popularity         26517 non-null  float64\n",
      " 6   release_date       26517 non-null  object \n",
      " 7   title              26517 non-null  object \n",
      " 8   vote_average       26517 non-null  float64\n",
      " 9   vote_count         26517 non-null  int64  \n",
      "dtypes: float64(2), int64(3), object(5)\n",
      "memory usage: 2.0+ MB\n"
     ]
    }
   ],
   "source": [
    "data.info()"
   ]
  },
  {
   "cell_type": "markdown",
   "metadata": {},
   "source": [
    "Dataset has good information around popularity and consumer sentiment around interest.  Good information, however, I think revenue will be more import.  Interesting information around genre, and language.  Also has specific release date vs release year."
   ]
  },
  {
   "cell_type": "markdown",
   "metadata": {
    "ExecuteTime": {
     "end_time": "2022-07-24T18:33:36.394623Z",
     "start_time": "2022-07-24T18:33:36.392133Z"
    }
   },
   "source": [
    "## budgets dataset"
   ]
  },
  {
   "cell_type": "code",
   "execution_count": 7,
   "metadata": {
    "ExecuteTime": {
     "end_time": "2022-08-03T17:26:34.140859Z",
     "start_time": "2022-08-03T17:26:34.102244Z"
    },
    "scrolled": true
   },
   "outputs": [
    {
     "data": {
      "text/html": [
       "<div>\n",
       "<style scoped>\n",
       "    .dataframe tbody tr th:only-of-type {\n",
       "        vertical-align: middle;\n",
       "    }\n",
       "\n",
       "    .dataframe tbody tr th {\n",
       "        vertical-align: top;\n",
       "    }\n",
       "\n",
       "    .dataframe thead th {\n",
       "        text-align: right;\n",
       "    }\n",
       "</style>\n",
       "<table border=\"1\" class=\"dataframe\">\n",
       "  <thead>\n",
       "    <tr style=\"text-align: right;\">\n",
       "      <th></th>\n",
       "      <th>id</th>\n",
       "      <th>release_date</th>\n",
       "      <th>movie</th>\n",
       "      <th>production_budget</th>\n",
       "      <th>domestic_gross</th>\n",
       "      <th>worldwide_gross</th>\n",
       "    </tr>\n",
       "  </thead>\n",
       "  <tbody>\n",
       "    <tr>\n",
       "      <th>0</th>\n",
       "      <td>1</td>\n",
       "      <td>Dec 18, 2009</td>\n",
       "      <td>Avatar</td>\n",
       "      <td>$425,000,000</td>\n",
       "      <td>$760,507,625</td>\n",
       "      <td>$2,776,345,279</td>\n",
       "    </tr>\n",
       "    <tr>\n",
       "      <th>1</th>\n",
       "      <td>2</td>\n",
       "      <td>May 20, 2011</td>\n",
       "      <td>Pirates of the Caribbean: On Stranger Tides</td>\n",
       "      <td>$410,600,000</td>\n",
       "      <td>$241,063,875</td>\n",
       "      <td>$1,045,663,875</td>\n",
       "    </tr>\n",
       "    <tr>\n",
       "      <th>2</th>\n",
       "      <td>3</td>\n",
       "      <td>Jun 7, 2019</td>\n",
       "      <td>Dark Phoenix</td>\n",
       "      <td>$350,000,000</td>\n",
       "      <td>$42,762,350</td>\n",
       "      <td>$149,762,350</td>\n",
       "    </tr>\n",
       "    <tr>\n",
       "      <th>3</th>\n",
       "      <td>4</td>\n",
       "      <td>May 1, 2015</td>\n",
       "      <td>Avengers: Age of Ultron</td>\n",
       "      <td>$330,600,000</td>\n",
       "      <td>$459,005,868</td>\n",
       "      <td>$1,403,013,963</td>\n",
       "    </tr>\n",
       "    <tr>\n",
       "      <th>4</th>\n",
       "      <td>5</td>\n",
       "      <td>Dec 15, 2017</td>\n",
       "      <td>Star Wars Ep. VIII: The Last Jedi</td>\n",
       "      <td>$317,000,000</td>\n",
       "      <td>$620,181,382</td>\n",
       "      <td>$1,316,721,747</td>\n",
       "    </tr>\n",
       "  </tbody>\n",
       "</table>\n",
       "</div>"
      ],
      "text/plain": [
       "   id  release_date                                        movie  \\\n",
       "0   1  Dec 18, 2009                                       Avatar   \n",
       "1   2  May 20, 2011  Pirates of the Caribbean: On Stranger Tides   \n",
       "2   3   Jun 7, 2019                                 Dark Phoenix   \n",
       "3   4   May 1, 2015                      Avengers: Age of Ultron   \n",
       "4   5  Dec 15, 2017            Star Wars Ep. VIII: The Last Jedi   \n",
       "\n",
       "  production_budget domestic_gross worldwide_gross  \n",
       "0      $425,000,000   $760,507,625  $2,776,345,279  \n",
       "1      $410,600,000   $241,063,875  $1,045,663,875  \n",
       "2      $350,000,000    $42,762,350    $149,762,350  \n",
       "3      $330,600,000   $459,005,868  $1,403,013,963  \n",
       "4      $317,000,000   $620,181,382  $1,316,721,747  "
      ]
     },
     "execution_count": 7,
     "metadata": {},
     "output_type": "execute_result"
    }
   ],
   "source": [
    "budgets = pd.read_csv('data/tn.movie_budgets.csv')\n",
    "budgets.head()"
   ]
  },
  {
   "cell_type": "code",
   "execution_count": 8,
   "metadata": {
    "ExecuteTime": {
     "end_time": "2022-08-03T17:26:34.159603Z",
     "start_time": "2022-08-03T17:26:34.145670Z"
    },
    "scrolled": true
   },
   "outputs": [
    {
     "name": "stdout",
     "output_type": "stream",
     "text": [
      "<class 'pandas.core.frame.DataFrame'>\n",
      "RangeIndex: 5782 entries, 0 to 5781\n",
      "Data columns (total 6 columns):\n",
      " #   Column             Non-Null Count  Dtype \n",
      "---  ------             --------------  ----- \n",
      " 0   id                 5782 non-null   int64 \n",
      " 1   release_date       5782 non-null   object\n",
      " 2   movie              5782 non-null   object\n",
      " 3   production_budget  5782 non-null   object\n",
      " 4   domestic_gross     5782 non-null   object\n",
      " 5   worldwide_gross    5782 non-null   object\n",
      "dtypes: int64(1), object(5)\n",
      "memory usage: 271.2+ KB\n"
     ]
    }
   ],
   "source": [
    "budgets.info()"
   ]
  },
  {
   "cell_type": "markdown",
   "metadata": {},
   "source": [
    "Another simple dataset, however includes budget!  Will continue to review all the datasets to understand best suited for my analysis."
   ]
  },
  {
   "cell_type": "markdown",
   "metadata": {},
   "source": [
    "## Mov_Info dataset"
   ]
  },
  {
   "cell_type": "code",
   "execution_count": 9,
   "metadata": {
    "ExecuteTime": {
     "end_time": "2022-08-03T17:26:34.208019Z",
     "start_time": "2022-08-03T17:26:34.164230Z"
    },
    "scrolled": true
   },
   "outputs": [
    {
     "data": {
      "text/html": [
       "<div>\n",
       "<style scoped>\n",
       "    .dataframe tbody tr th:only-of-type {\n",
       "        vertical-align: middle;\n",
       "    }\n",
       "\n",
       "    .dataframe tbody tr th {\n",
       "        vertical-align: top;\n",
       "    }\n",
       "\n",
       "    .dataframe thead th {\n",
       "        text-align: right;\n",
       "    }\n",
       "</style>\n",
       "<table border=\"1\" class=\"dataframe\">\n",
       "  <thead>\n",
       "    <tr style=\"text-align: right;\">\n",
       "      <th></th>\n",
       "      <th>id</th>\n",
       "      <th>synopsis</th>\n",
       "      <th>rating</th>\n",
       "      <th>genre</th>\n",
       "      <th>director</th>\n",
       "      <th>writer</th>\n",
       "      <th>theater_date</th>\n",
       "      <th>dvd_date</th>\n",
       "      <th>currency</th>\n",
       "      <th>box_office</th>\n",
       "      <th>runtime</th>\n",
       "      <th>studio</th>\n",
       "    </tr>\n",
       "  </thead>\n",
       "  <tbody>\n",
       "    <tr>\n",
       "      <th>0</th>\n",
       "      <td>1</td>\n",
       "      <td>This gritty, fast-paced, and innovative police...</td>\n",
       "      <td>R</td>\n",
       "      <td>Action and Adventure|Classics|Drama</td>\n",
       "      <td>William Friedkin</td>\n",
       "      <td>Ernest Tidyman</td>\n",
       "      <td>Oct 9, 1971</td>\n",
       "      <td>Sep 25, 2001</td>\n",
       "      <td>NaN</td>\n",
       "      <td>NaN</td>\n",
       "      <td>104 minutes</td>\n",
       "      <td>NaN</td>\n",
       "    </tr>\n",
       "    <tr>\n",
       "      <th>1</th>\n",
       "      <td>3</td>\n",
       "      <td>New York City, not-too-distant-future: Eric Pa...</td>\n",
       "      <td>R</td>\n",
       "      <td>Drama|Science Fiction and Fantasy</td>\n",
       "      <td>David Cronenberg</td>\n",
       "      <td>David Cronenberg|Don DeLillo</td>\n",
       "      <td>Aug 17, 2012</td>\n",
       "      <td>Jan 1, 2013</td>\n",
       "      <td>$</td>\n",
       "      <td>600,000</td>\n",
       "      <td>108 minutes</td>\n",
       "      <td>Entertainment One</td>\n",
       "    </tr>\n",
       "    <tr>\n",
       "      <th>2</th>\n",
       "      <td>5</td>\n",
       "      <td>Illeana Douglas delivers a superb performance ...</td>\n",
       "      <td>R</td>\n",
       "      <td>Drama|Musical and Performing Arts</td>\n",
       "      <td>Allison Anders</td>\n",
       "      <td>Allison Anders</td>\n",
       "      <td>Sep 13, 1996</td>\n",
       "      <td>Apr 18, 2000</td>\n",
       "      <td>NaN</td>\n",
       "      <td>NaN</td>\n",
       "      <td>116 minutes</td>\n",
       "      <td>NaN</td>\n",
       "    </tr>\n",
       "    <tr>\n",
       "      <th>3</th>\n",
       "      <td>6</td>\n",
       "      <td>Michael Douglas runs afoul of a treacherous su...</td>\n",
       "      <td>R</td>\n",
       "      <td>Drama|Mystery and Suspense</td>\n",
       "      <td>Barry Levinson</td>\n",
       "      <td>Paul Attanasio|Michael Crichton</td>\n",
       "      <td>Dec 9, 1994</td>\n",
       "      <td>Aug 27, 1997</td>\n",
       "      <td>NaN</td>\n",
       "      <td>NaN</td>\n",
       "      <td>128 minutes</td>\n",
       "      <td>NaN</td>\n",
       "    </tr>\n",
       "    <tr>\n",
       "      <th>4</th>\n",
       "      <td>7</td>\n",
       "      <td>NaN</td>\n",
       "      <td>NR</td>\n",
       "      <td>Drama|Romance</td>\n",
       "      <td>Rodney Bennett</td>\n",
       "      <td>Giles Cooper</td>\n",
       "      <td>NaN</td>\n",
       "      <td>NaN</td>\n",
       "      <td>NaN</td>\n",
       "      <td>NaN</td>\n",
       "      <td>200 minutes</td>\n",
       "      <td>NaN</td>\n",
       "    </tr>\n",
       "  </tbody>\n",
       "</table>\n",
       "</div>"
      ],
      "text/plain": [
       "   id                                           synopsis rating  \\\n",
       "0   1  This gritty, fast-paced, and innovative police...      R   \n",
       "1   3  New York City, not-too-distant-future: Eric Pa...      R   \n",
       "2   5  Illeana Douglas delivers a superb performance ...      R   \n",
       "3   6  Michael Douglas runs afoul of a treacherous su...      R   \n",
       "4   7                                                NaN     NR   \n",
       "\n",
       "                                 genre          director  \\\n",
       "0  Action and Adventure|Classics|Drama  William Friedkin   \n",
       "1    Drama|Science Fiction and Fantasy  David Cronenberg   \n",
       "2    Drama|Musical and Performing Arts    Allison Anders   \n",
       "3           Drama|Mystery and Suspense    Barry Levinson   \n",
       "4                        Drama|Romance    Rodney Bennett   \n",
       "\n",
       "                            writer  theater_date      dvd_date currency  \\\n",
       "0                   Ernest Tidyman   Oct 9, 1971  Sep 25, 2001      NaN   \n",
       "1     David Cronenberg|Don DeLillo  Aug 17, 2012   Jan 1, 2013        $   \n",
       "2                   Allison Anders  Sep 13, 1996  Apr 18, 2000      NaN   \n",
       "3  Paul Attanasio|Michael Crichton   Dec 9, 1994  Aug 27, 1997      NaN   \n",
       "4                     Giles Cooper           NaN           NaN      NaN   \n",
       "\n",
       "  box_office      runtime             studio  \n",
       "0        NaN  104 minutes                NaN  \n",
       "1    600,000  108 minutes  Entertainment One  \n",
       "2        NaN  116 minutes                NaN  \n",
       "3        NaN  128 minutes                NaN  \n",
       "4        NaN  200 minutes                NaN  "
      ]
     },
     "execution_count": 9,
     "metadata": {},
     "output_type": "execute_result"
    }
   ],
   "source": [
    "mov_info = pd.read_csv('data/rt.movie_info.tsv', sep='\\t')\n",
    "mov_info.head()\n",
    "#keep id, synopsis, rating, genre, theatre date, dvd date, runtime, studio"
   ]
  },
  {
   "cell_type": "code",
   "execution_count": 10,
   "metadata": {
    "ExecuteTime": {
     "end_time": "2022-08-03T17:26:34.222415Z",
     "start_time": "2022-08-03T17:26:34.210238Z"
    }
   },
   "outputs": [
    {
     "name": "stdout",
     "output_type": "stream",
     "text": [
      "<class 'pandas.core.frame.DataFrame'>\n",
      "RangeIndex: 1560 entries, 0 to 1559\n",
      "Data columns (total 12 columns):\n",
      " #   Column        Non-Null Count  Dtype \n",
      "---  ------        --------------  ----- \n",
      " 0   id            1560 non-null   int64 \n",
      " 1   synopsis      1498 non-null   object\n",
      " 2   rating        1557 non-null   object\n",
      " 3   genre         1552 non-null   object\n",
      " 4   director      1361 non-null   object\n",
      " 5   writer        1111 non-null   object\n",
      " 6   theater_date  1201 non-null   object\n",
      " 7   dvd_date      1201 non-null   object\n",
      " 8   currency      340 non-null    object\n",
      " 9   box_office    340 non-null    object\n",
      " 10  runtime       1530 non-null   object\n",
      " 11  studio        494 non-null    object\n",
      "dtypes: int64(1), object(11)\n",
      "memory usage: 146.4+ KB\n"
     ]
    }
   ],
   "source": [
    "mov_info.info()"
   ]
  },
  {
   "cell_type": "markdown",
   "metadata": {},
   "source": [
    "Interesting information around synopsis, rating, writer, director, however not a lot of records in this dataset.  Concern would be getting into small sample sizes with 1 to 2 filters."
   ]
  },
  {
   "cell_type": "markdown",
   "metadata": {},
   "source": [
    "## rt.reviews dataset"
   ]
  },
  {
   "cell_type": "code",
   "execution_count": 11,
   "metadata": {
    "ExecuteTime": {
     "end_time": "2022-08-03T17:26:34.455999Z",
     "start_time": "2022-08-03T17:26:34.228498Z"
    },
    "scrolled": true
   },
   "outputs": [
    {
     "data": {
      "text/html": [
       "<div>\n",
       "<style scoped>\n",
       "    .dataframe tbody tr th:only-of-type {\n",
       "        vertical-align: middle;\n",
       "    }\n",
       "\n",
       "    .dataframe tbody tr th {\n",
       "        vertical-align: top;\n",
       "    }\n",
       "\n",
       "    .dataframe thead th {\n",
       "        text-align: right;\n",
       "    }\n",
       "</style>\n",
       "<table border=\"1\" class=\"dataframe\">\n",
       "  <thead>\n",
       "    <tr style=\"text-align: right;\">\n",
       "      <th></th>\n",
       "      <th>id</th>\n",
       "      <th>review</th>\n",
       "      <th>rating</th>\n",
       "      <th>fresh</th>\n",
       "      <th>critic</th>\n",
       "      <th>top_critic</th>\n",
       "      <th>publisher</th>\n",
       "      <th>date</th>\n",
       "    </tr>\n",
       "  </thead>\n",
       "  <tbody>\n",
       "    <tr>\n",
       "      <th>0</th>\n",
       "      <td>3</td>\n",
       "      <td>A distinctly gallows take on contemporary fina...</td>\n",
       "      <td>3/5</td>\n",
       "      <td>fresh</td>\n",
       "      <td>PJ Nabarro</td>\n",
       "      <td>0</td>\n",
       "      <td>Patrick Nabarro</td>\n",
       "      <td>November 10, 2018</td>\n",
       "    </tr>\n",
       "    <tr>\n",
       "      <th>1</th>\n",
       "      <td>3</td>\n",
       "      <td>It's an allegory in search of a meaning that n...</td>\n",
       "      <td>NaN</td>\n",
       "      <td>rotten</td>\n",
       "      <td>Annalee Newitz</td>\n",
       "      <td>0</td>\n",
       "      <td>io9.com</td>\n",
       "      <td>May 23, 2018</td>\n",
       "    </tr>\n",
       "    <tr>\n",
       "      <th>2</th>\n",
       "      <td>3</td>\n",
       "      <td>... life lived in a bubble in financial dealin...</td>\n",
       "      <td>NaN</td>\n",
       "      <td>fresh</td>\n",
       "      <td>Sean Axmaker</td>\n",
       "      <td>0</td>\n",
       "      <td>Stream on Demand</td>\n",
       "      <td>January 4, 2018</td>\n",
       "    </tr>\n",
       "    <tr>\n",
       "      <th>3</th>\n",
       "      <td>3</td>\n",
       "      <td>Continuing along a line introduced in last yea...</td>\n",
       "      <td>NaN</td>\n",
       "      <td>fresh</td>\n",
       "      <td>Daniel Kasman</td>\n",
       "      <td>0</td>\n",
       "      <td>MUBI</td>\n",
       "      <td>November 16, 2017</td>\n",
       "    </tr>\n",
       "    <tr>\n",
       "      <th>4</th>\n",
       "      <td>3</td>\n",
       "      <td>... a perverse twist on neorealism...</td>\n",
       "      <td>NaN</td>\n",
       "      <td>fresh</td>\n",
       "      <td>NaN</td>\n",
       "      <td>0</td>\n",
       "      <td>Cinema Scope</td>\n",
       "      <td>October 12, 2017</td>\n",
       "    </tr>\n",
       "  </tbody>\n",
       "</table>\n",
       "</div>"
      ],
      "text/plain": [
       "   id                                             review rating   fresh  \\\n",
       "0   3  A distinctly gallows take on contemporary fina...    3/5   fresh   \n",
       "1   3  It's an allegory in search of a meaning that n...    NaN  rotten   \n",
       "2   3  ... life lived in a bubble in financial dealin...    NaN   fresh   \n",
       "3   3  Continuing along a line introduced in last yea...    NaN   fresh   \n",
       "4   3             ... a perverse twist on neorealism...     NaN   fresh   \n",
       "\n",
       "           critic  top_critic         publisher               date  \n",
       "0      PJ Nabarro           0   Patrick Nabarro  November 10, 2018  \n",
       "1  Annalee Newitz           0           io9.com       May 23, 2018  \n",
       "2    Sean Axmaker           0  Stream on Demand    January 4, 2018  \n",
       "3   Daniel Kasman           0              MUBI  November 16, 2017  \n",
       "4             NaN           0      Cinema Scope   October 12, 2017  "
      ]
     },
     "execution_count": 11,
     "metadata": {},
     "output_type": "execute_result"
    }
   ],
   "source": [
    "reviews = pd.read_csv('data/rt.reviews.tsv', sep='\\t', encoding= 'unicode_escape')\n",
    "reviews.head()"
   ]
  },
  {
   "cell_type": "code",
   "execution_count": 12,
   "metadata": {
    "ExecuteTime": {
     "end_time": "2022-08-03T17:26:34.482384Z",
     "start_time": "2022-08-03T17:26:34.458197Z"
    },
    "scrolled": true
   },
   "outputs": [
    {
     "name": "stdout",
     "output_type": "stream",
     "text": [
      "<class 'pandas.core.frame.DataFrame'>\n",
      "RangeIndex: 54432 entries, 0 to 54431\n",
      "Data columns (total 8 columns):\n",
      " #   Column      Non-Null Count  Dtype \n",
      "---  ------      --------------  ----- \n",
      " 0   id          54432 non-null  int64 \n",
      " 1   review      48869 non-null  object\n",
      " 2   rating      40915 non-null  object\n",
      " 3   fresh       54432 non-null  object\n",
      " 4   critic      51710 non-null  object\n",
      " 5   top_critic  54432 non-null  int64 \n",
      " 6   publisher   54123 non-null  object\n",
      " 7   date        54432 non-null  object\n",
      "dtypes: int64(2), object(6)\n",
      "memory usage: 3.3+ MB\n"
     ]
    }
   ],
   "source": [
    "reviews.info()"
   ]
  },
  {
   "cell_type": "markdown",
   "metadata": {
    "ExecuteTime": {
     "end_time": "2022-08-03T13:09:22.961157Z",
     "start_time": "2022-08-03T13:09:22.955441Z"
    }
   },
   "source": [
    "Once again interesting information around reviews and consumer sentiment, but not sure if that always translates to box office success.  Going to continue to move on until find a dataset with good information around return."
   ]
  },
  {
   "cell_type": "markdown",
   "metadata": {
    "ExecuteTime": {
     "end_time": "2022-07-24T18:01:38.406786Z",
     "start_time": "2022-07-24T18:01:38.403962Z"
    }
   },
   "source": [
    "## Movies SQL database"
   ]
  },
  {
   "cell_type": "code",
   "execution_count": 13,
   "metadata": {
    "ExecuteTime": {
     "end_time": "2022-08-03T17:26:38.859260Z",
     "start_time": "2022-08-03T17:26:34.485764Z"
    },
    "scrolled": true
   },
   "outputs": [],
   "source": [
    "# movie_basics and movie_ratings tables are most relevant\n",
    "conn = sqlite3.connect('data/im.db')\n",
    "\n",
    "lang = pd.read_sql(\"\"\"SELECT * FROM movie_basics mb \n",
    "            LEFT JOIN movie_akas ma ON mb.movie_id = ma.movie_id\n",
    "            ;\"\"\", conn)"
   ]
  },
  {
   "cell_type": "code",
   "execution_count": 14,
   "metadata": {
    "ExecuteTime": {
     "end_time": "2022-08-03T17:26:39.244344Z",
     "start_time": "2022-08-03T17:26:38.861518Z"
    }
   },
   "outputs": [
    {
     "name": "stdout",
     "output_type": "stream",
     "text": [
      "<class 'pandas.core.frame.DataFrame'>\n",
      "RangeIndex: 355545 entries, 0 to 355544\n",
      "Data columns (total 14 columns):\n",
      " #   Column             Non-Null Count   Dtype  \n",
      "---  ------             --------------   -----  \n",
      " 0   movie_id           355545 non-null  object \n",
      " 1   primary_title      355545 non-null  object \n",
      " 2   original_title     355513 non-null  object \n",
      " 3   start_year         355545 non-null  int64  \n",
      " 4   runtime_minutes    314219 non-null  float64\n",
      " 5   genres             348882 non-null  object \n",
      " 6   movie_id           331703 non-null  object \n",
      " 7   ordering           331703 non-null  float64\n",
      " 8   title              331703 non-null  object \n",
      " 9   region             278410 non-null  object \n",
      " 10  language           41715 non-null   object \n",
      " 11  types              168447 non-null  object \n",
      " 12  attributes         14925 non-null   object \n",
      " 13  is_original_title  331678 non-null  float64\n",
      "dtypes: float64(3), int64(1), object(10)\n",
      "memory usage: 38.0+ MB\n"
     ]
    }
   ],
   "source": [
    "lang.info()"
   ]
  },
  {
   "cell_type": "code",
   "execution_count": 15,
   "metadata": {
    "ExecuteTime": {
     "end_time": "2022-08-03T17:26:39.250599Z",
     "start_time": "2022-08-03T17:26:39.246697Z"
    }
   },
   "outputs": [],
   "source": [
    "conn.close()"
   ]
  },
  {
   "cell_type": "markdown",
   "metadata": {},
   "source": [
    "A lot of information in this database, however still not includes all fields that I am interested in understanding.  Moving on to external datasets to understand if there is something I can review and or join back to this information that was curated."
   ]
  },
  {
   "cell_type": "markdown",
   "metadata": {},
   "source": [
    "## Opus Movie Data"
   ]
  },
  {
   "cell_type": "code",
   "execution_count": 16,
   "metadata": {
    "ExecuteTime": {
     "end_time": "2022-08-03T17:26:39.291688Z",
     "start_time": "2022-08-03T17:26:39.255296Z"
    },
    "scrolled": false
   },
   "outputs": [
    {
     "data": {
      "text/html": [
       "<div>\n",
       "<style scoped>\n",
       "    .dataframe tbody tr th:only-of-type {\n",
       "        vertical-align: middle;\n",
       "    }\n",
       "\n",
       "    .dataframe tbody tr th {\n",
       "        vertical-align: top;\n",
       "    }\n",
       "\n",
       "    .dataframe thead th {\n",
       "        text-align: right;\n",
       "    }\n",
       "</style>\n",
       "<table border=\"1\" class=\"dataframe\">\n",
       "  <thead>\n",
       "    <tr style=\"text-align: right;\">\n",
       "      <th></th>\n",
       "      <th>movie_name</th>\n",
       "      <th>production_year</th>\n",
       "      <th>movie_odid</th>\n",
       "      <th>production_budget</th>\n",
       "      <th>domestic_box_office</th>\n",
       "      <th>international_box_office</th>\n",
       "      <th>rating</th>\n",
       "      <th>creative_type</th>\n",
       "      <th>source</th>\n",
       "      <th>production_method</th>\n",
       "      <th>genre</th>\n",
       "      <th>sequel</th>\n",
       "      <th>running_time</th>\n",
       "    </tr>\n",
       "  </thead>\n",
       "  <tbody>\n",
       "    <tr>\n",
       "      <th>0</th>\n",
       "      <td>Madea's Family Reunion</td>\n",
       "      <td>2006</td>\n",
       "      <td>8220100</td>\n",
       "      <td>10000000</td>\n",
       "      <td>63257940</td>\n",
       "      <td>62581</td>\n",
       "      <td>PG-13</td>\n",
       "      <td>Contemporary Fiction</td>\n",
       "      <td>Based on Play</td>\n",
       "      <td>Live Action</td>\n",
       "      <td>Comedy</td>\n",
       "      <td>1.0</td>\n",
       "      <td>NaN</td>\n",
       "    </tr>\n",
       "    <tr>\n",
       "      <th>1</th>\n",
       "      <td>Krrish</td>\n",
       "      <td>2006</td>\n",
       "      <td>58540100</td>\n",
       "      <td>10000000</td>\n",
       "      <td>1430721</td>\n",
       "      <td>31000000</td>\n",
       "      <td>Not Rated</td>\n",
       "      <td>Science Fiction</td>\n",
       "      <td>Original Screenplay</td>\n",
       "      <td>Live Action</td>\n",
       "      <td>Action</td>\n",
       "      <td>1.0</td>\n",
       "      <td>NaN</td>\n",
       "    </tr>\n",
       "    <tr>\n",
       "      <th>2</th>\n",
       "      <td>End of the Spear</td>\n",
       "      <td>2006</td>\n",
       "      <td>34620100</td>\n",
       "      <td>10000000</td>\n",
       "      <td>11748661</td>\n",
       "      <td>175380</td>\n",
       "      <td>PG-13</td>\n",
       "      <td>Historical Fiction</td>\n",
       "      <td>Original Screenplay</td>\n",
       "      <td>Live Action</td>\n",
       "      <td>Drama</td>\n",
       "      <td>0.0</td>\n",
       "      <td>NaN</td>\n",
       "    </tr>\n",
       "    <tr>\n",
       "      <th>3</th>\n",
       "      <td>A Prairie Home Companion</td>\n",
       "      <td>2006</td>\n",
       "      <td>24910100</td>\n",
       "      <td>10000000</td>\n",
       "      <td>20342852</td>\n",
       "      <td>6373339</td>\n",
       "      <td>PG-13</td>\n",
       "      <td>Contemporary Fiction</td>\n",
       "      <td>Original Screenplay</td>\n",
       "      <td>Live Action</td>\n",
       "      <td>Comedy</td>\n",
       "      <td>0.0</td>\n",
       "      <td>105.0</td>\n",
       "    </tr>\n",
       "    <tr>\n",
       "      <th>4</th>\n",
       "      <td>Saw III</td>\n",
       "      <td>2006</td>\n",
       "      <td>5840100</td>\n",
       "      <td>10000000</td>\n",
       "      <td>80238724</td>\n",
       "      <td>83638091</td>\n",
       "      <td>R</td>\n",
       "      <td>Contemporary Fiction</td>\n",
       "      <td>Original Screenplay</td>\n",
       "      <td>Live Action</td>\n",
       "      <td>Horror</td>\n",
       "      <td>1.0</td>\n",
       "      <td>NaN</td>\n",
       "    </tr>\n",
       "  </tbody>\n",
       "</table>\n",
       "</div>"
      ],
      "text/plain": [
       "                 movie_name  production_year  movie_odid  production_budget  \\\n",
       "0    Madea's Family Reunion             2006     8220100           10000000   \n",
       "1                    Krrish             2006    58540100           10000000   \n",
       "2          End of the Spear             2006    34620100           10000000   \n",
       "3  A Prairie Home Companion             2006    24910100           10000000   \n",
       "4                   Saw III             2006     5840100           10000000   \n",
       "\n",
       "   domestic_box_office  international_box_office     rating  \\\n",
       "0             63257940                     62581      PG-13   \n",
       "1              1430721                  31000000  Not Rated   \n",
       "2             11748661                    175380      PG-13   \n",
       "3             20342852                   6373339      PG-13   \n",
       "4             80238724                  83638091          R   \n",
       "\n",
       "          creative_type               source production_method   genre  \\\n",
       "0  Contemporary Fiction        Based on Play       Live Action  Comedy   \n",
       "1       Science Fiction  Original Screenplay       Live Action  Action   \n",
       "2    Historical Fiction  Original Screenplay       Live Action   Drama   \n",
       "3  Contemporary Fiction  Original Screenplay       Live Action  Comedy   \n",
       "4  Contemporary Fiction  Original Screenplay       Live Action  Horror   \n",
       "\n",
       "   sequel  running_time  \n",
       "0     1.0           NaN  \n",
       "1     1.0           NaN  \n",
       "2     0.0           NaN  \n",
       "3     0.0         105.0  \n",
       "4     1.0           NaN  "
      ]
     },
     "execution_count": 16,
     "metadata": {},
     "output_type": "execute_result"
    }
   ],
   "source": [
    "mdo = pd.read_csv('data/MovieData.csv')\n",
    "mdo.head()"
   ]
  },
  {
   "cell_type": "code",
   "execution_count": 17,
   "metadata": {
    "ExecuteTime": {
     "end_time": "2022-08-03T17:26:39.310350Z",
     "start_time": "2022-08-03T17:26:39.294249Z"
    }
   },
   "outputs": [
    {
     "name": "stdout",
     "output_type": "stream",
     "text": [
      "<class 'pandas.core.frame.DataFrame'>\n",
      "RangeIndex: 1936 entries, 0 to 1935\n",
      "Data columns (total 13 columns):\n",
      " #   Column                    Non-Null Count  Dtype  \n",
      "---  ------                    --------------  -----  \n",
      " 0   movie_name                1936 non-null   object \n",
      " 1   production_year           1936 non-null   int64  \n",
      " 2   movie_odid                1936 non-null   int64  \n",
      " 3   production_budget         1936 non-null   int64  \n",
      " 4   domestic_box_office       1936 non-null   int64  \n",
      " 5   international_box_office  1936 non-null   int64  \n",
      " 6   rating                    1913 non-null   object \n",
      " 7   creative_type             1923 non-null   object \n",
      " 8   source                    1915 non-null   object \n",
      " 9   production_method         1925 non-null   object \n",
      " 10  genre                     1926 non-null   object \n",
      " 11  sequel                    1934 non-null   float64\n",
      " 12  running_time              1822 non-null   float64\n",
      "dtypes: float64(2), int64(5), object(6)\n",
      "memory usage: 196.8+ KB\n"
     ]
    }
   ],
   "source": [
    "mdo.info()"
   ]
  },
  {
   "cell_type": "markdown",
   "metadata": {},
   "source": [
    "This dataset has the most interesting categories to me and what I am trying to understand about movie success.  Even though the films have a budget of >= $10M, I think that we can deliberately call that out as a part of the parameters reviewed.  I don't think Microsoft will be moving into the industry without expecting an investment.  With that being said, my focus is to understand how can we give Microsoft the best recommendations to maximize their ROI."
   ]
  },
  {
   "cell_type": "markdown",
   "metadata": {
    "ExecuteTime": {
     "end_time": "2022-07-24T18:32:13.695186Z",
     "start_time": "2022-07-24T18:32:13.693140Z"
    }
   },
   "source": [
    "# Opus Movie Data Selection"
   ]
  },
  {
   "cell_type": "markdown",
   "metadata": {},
   "source": [
    "## OpusData ***Cleaning***"
   ]
  },
  {
   "cell_type": "code",
   "execution_count": 18,
   "metadata": {
    "ExecuteTime": {
     "end_time": "2022-08-03T17:26:39.348274Z",
     "start_time": "2022-08-03T17:26:39.312606Z"
    }
   },
   "outputs": [
    {
     "name": "stdout",
     "output_type": "stream",
     "text": [
      "<class 'pandas.core.frame.DataFrame'>\n",
      "RangeIndex: 1936 entries, 0 to 1935\n",
      "Data columns (total 13 columns):\n",
      " #   Column                    Non-Null Count  Dtype  \n",
      "---  ------                    --------------  -----  \n",
      " 0   movie_name                1936 non-null   object \n",
      " 1   production_year           1936 non-null   int64  \n",
      " 2   movie_odid                1936 non-null   int64  \n",
      " 3   production_budget         1936 non-null   int64  \n",
      " 4   domestic_box_office       1936 non-null   int64  \n",
      " 5   international_box_office  1936 non-null   int64  \n",
      " 6   rating                    1913 non-null   object \n",
      " 7   creative_type             1923 non-null   object \n",
      " 8   source                    1915 non-null   object \n",
      " 9   production_method         1925 non-null   object \n",
      " 10  genre                     1926 non-null   object \n",
      " 11  sequel                    1934 non-null   float64\n",
      " 12  running_time              1822 non-null   float64\n",
      "dtypes: float64(2), int64(5), object(6)\n",
      "memory usage: 196.8+ KB\n"
     ]
    }
   ],
   "source": [
    "# read in dataframe from OpusData CSV.\n",
    "df = pd.read_csv('data/MovieData.csv')\n",
    "df.info()"
   ]
  },
  {
   "cell_type": "code",
   "execution_count": 19,
   "metadata": {
    "ExecuteTime": {
     "end_time": "2022-08-03T17:26:39.376208Z",
     "start_time": "2022-08-03T17:26:39.354963Z"
    }
   },
   "outputs": [
    {
     "name": "stdout",
     "output_type": "stream",
     "text": [
      "<class 'pandas.core.frame.DataFrame'>\n",
      "Int64Index: 1795 entries, 3 to 1935\n",
      "Data columns (total 13 columns):\n",
      " #   Column                    Non-Null Count  Dtype  \n",
      "---  ------                    --------------  -----  \n",
      " 0   movie_name                1795 non-null   object \n",
      " 1   production_year           1795 non-null   int64  \n",
      " 2   movie_odid                1795 non-null   int64  \n",
      " 3   production_budget         1795 non-null   int64  \n",
      " 4   domestic_box_office       1795 non-null   int64  \n",
      " 5   international_box_office  1795 non-null   int64  \n",
      " 6   rating                    1795 non-null   object \n",
      " 7   creative_type             1795 non-null   object \n",
      " 8   source                    1795 non-null   object \n",
      " 9   production_method         1795 non-null   object \n",
      " 10  genre                     1795 non-null   object \n",
      " 11  sequel                    1795 non-null   float64\n",
      " 12  running_time              1795 non-null   float64\n",
      "dtypes: float64(2), int64(5), object(6)\n",
      "memory usage: 196.3+ KB\n"
     ]
    }
   ],
   "source": [
    "# removed na data from the dataset.  1,795 values remain.\n",
    "mdo = df.dropna(axis=0)\n",
    "mdo.info()"
   ]
  },
  {
   "cell_type": "markdown",
   "metadata": {},
   "source": [
    "Cleaned dataframe and created a new variable called 'mdo_clean'.  This variable which now includes 1,795 records will be the dataset in which I perform my analysis.  After viewing the the fields available, I have decided to create a few additional measures and categorical variables or dimensions.  I used a pretty heavy hand when cleaning, I didn't lose a ton of records in this process..moving forward with analysis."
   ]
  },
  {
   "cell_type": "code",
   "execution_count": 20,
   "metadata": {
    "ExecuteTime": {
     "end_time": "2022-08-03T17:26:39.407037Z",
     "start_time": "2022-08-03T17:26:39.378762Z"
    },
    "scrolled": false
   },
   "outputs": [
    {
     "data": {
      "text/html": [
       "<div>\n",
       "<style scoped>\n",
       "    .dataframe tbody tr th:only-of-type {\n",
       "        vertical-align: middle;\n",
       "    }\n",
       "\n",
       "    .dataframe tbody tr th {\n",
       "        vertical-align: top;\n",
       "    }\n",
       "\n",
       "    .dataframe thead th {\n",
       "        text-align: right;\n",
       "    }\n",
       "</style>\n",
       "<table border=\"1\" class=\"dataframe\">\n",
       "  <thead>\n",
       "    <tr style=\"text-align: right;\">\n",
       "      <th></th>\n",
       "      <th>movie_name</th>\n",
       "      <th>production_year</th>\n",
       "      <th>movie_odid</th>\n",
       "      <th>production_budget</th>\n",
       "      <th>domestic_box_office</th>\n",
       "      <th>international_box_office</th>\n",
       "      <th>rating</th>\n",
       "      <th>creative_type</th>\n",
       "      <th>source</th>\n",
       "      <th>production_method</th>\n",
       "      <th>genre</th>\n",
       "      <th>sequel</th>\n",
       "      <th>running_time</th>\n",
       "      <th>total_box_office</th>\n",
       "    </tr>\n",
       "  </thead>\n",
       "  <tbody>\n",
       "    <tr>\n",
       "      <th>3</th>\n",
       "      <td>A Prairie Home Companion</td>\n",
       "      <td>2006</td>\n",
       "      <td>24910100</td>\n",
       "      <td>10000000</td>\n",
       "      <td>20342852</td>\n",
       "      <td>6373339</td>\n",
       "      <td>PG-13</td>\n",
       "      <td>Contemporary Fiction</td>\n",
       "      <td>Original Screenplay</td>\n",
       "      <td>Live Action</td>\n",
       "      <td>Comedy</td>\n",
       "      <td>0.0</td>\n",
       "      <td>105.0</td>\n",
       "      <td>26716191</td>\n",
       "    </tr>\n",
       "    <tr>\n",
       "      <th>5</th>\n",
       "      <td>Employee of the Month</td>\n",
       "      <td>2006</td>\n",
       "      <td>19540100</td>\n",
       "      <td>10000000</td>\n",
       "      <td>28444855</td>\n",
       "      <td>9920000</td>\n",
       "      <td>PG-13</td>\n",
       "      <td>Contemporary Fiction</td>\n",
       "      <td>Original Screenplay</td>\n",
       "      <td>Live Action</td>\n",
       "      <td>Comedy</td>\n",
       "      <td>0.0</td>\n",
       "      <td>108.0</td>\n",
       "      <td>38364855</td>\n",
       "    </tr>\n",
       "    <tr>\n",
       "      <th>13</th>\n",
       "      <td>Crank</td>\n",
       "      <td>2006</td>\n",
       "      <td>19850100</td>\n",
       "      <td>12000000</td>\n",
       "      <td>27838408</td>\n",
       "      <td>16086515</td>\n",
       "      <td>R</td>\n",
       "      <td>Contemporary Fiction</td>\n",
       "      <td>Original Screenplay</td>\n",
       "      <td>Live Action</td>\n",
       "      <td>Action</td>\n",
       "      <td>0.0</td>\n",
       "      <td>88.0</td>\n",
       "      <td>43924923</td>\n",
       "    </tr>\n",
       "    <tr>\n",
       "      <th>14</th>\n",
       "      <td>Fateless</td>\n",
       "      <td>2006</td>\n",
       "      <td>75540100</td>\n",
       "      <td>12000000</td>\n",
       "      <td>196857</td>\n",
       "      <td>0</td>\n",
       "      <td>R</td>\n",
       "      <td>Historical Fiction</td>\n",
       "      <td>Based on Fiction Book/Short Story</td>\n",
       "      <td>Live Action</td>\n",
       "      <td>Drama</td>\n",
       "      <td>0.0</td>\n",
       "      <td>140.0</td>\n",
       "      <td>196857</td>\n",
       "    </tr>\n",
       "    <tr>\n",
       "      <th>16</th>\n",
       "      <td>Step Up</td>\n",
       "      <td>2006</td>\n",
       "      <td>7780100</td>\n",
       "      <td>12000000</td>\n",
       "      <td>65328121</td>\n",
       "      <td>45661036</td>\n",
       "      <td>PG-13</td>\n",
       "      <td>Contemporary Fiction</td>\n",
       "      <td>Original Screenplay</td>\n",
       "      <td>Live Action</td>\n",
       "      <td>Drama</td>\n",
       "      <td>0.0</td>\n",
       "      <td>103.0</td>\n",
       "      <td>110989157</td>\n",
       "    </tr>\n",
       "  </tbody>\n",
       "</table>\n",
       "</div>"
      ],
      "text/plain": [
       "                  movie_name  production_year  movie_odid  production_budget  \\\n",
       "3   A Prairie Home Companion             2006    24910100           10000000   \n",
       "5      Employee of the Month             2006    19540100           10000000   \n",
       "13                     Crank             2006    19850100           12000000   \n",
       "14                  Fateless             2006    75540100           12000000   \n",
       "16                   Step Up             2006     7780100           12000000   \n",
       "\n",
       "    domestic_box_office  international_box_office rating  \\\n",
       "3              20342852                   6373339  PG-13   \n",
       "5              28444855                   9920000  PG-13   \n",
       "13             27838408                  16086515      R   \n",
       "14               196857                         0      R   \n",
       "16             65328121                  45661036  PG-13   \n",
       "\n",
       "           creative_type                             source production_method  \\\n",
       "3   Contemporary Fiction                Original Screenplay       Live Action   \n",
       "5   Contemporary Fiction                Original Screenplay       Live Action   \n",
       "13  Contemporary Fiction                Original Screenplay       Live Action   \n",
       "14    Historical Fiction  Based on Fiction Book/Short Story       Live Action   \n",
       "16  Contemporary Fiction                Original Screenplay       Live Action   \n",
       "\n",
       "     genre  sequel  running_time  total_box_office  \n",
       "3   Comedy     0.0         105.0          26716191  \n",
       "5   Comedy     0.0         108.0          38364855  \n",
       "13  Action     0.0          88.0          43924923  \n",
       "14   Drama     0.0         140.0            196857  \n",
       "16   Drama     0.0         103.0         110989157  "
      ]
     },
     "execution_count": 20,
     "metadata": {},
     "output_type": "execute_result"
    }
   ],
   "source": [
    "# Adding total box office metric, which is the sum of the domestic and international box offices.\n",
    "mdo_clean = mdo.copy()\n",
    "mdo_clean.loc[:,'total_box_office'] = (\n",
    "    mdo['domestic_box_office'] + mdo['international_box_office']\n",
    "    )\n",
    "\n",
    "mdo_clean.head()\n"
   ]
  },
  {
   "cell_type": "code",
   "execution_count": 21,
   "metadata": {
    "ExecuteTime": {
     "end_time": "2022-08-03T17:26:39.445182Z",
     "start_time": "2022-08-03T17:26:39.413214Z"
    },
    "scrolled": true
   },
   "outputs": [
    {
     "data": {
      "text/html": [
       "<div>\n",
       "<style scoped>\n",
       "    .dataframe tbody tr th:only-of-type {\n",
       "        vertical-align: middle;\n",
       "    }\n",
       "\n",
       "    .dataframe tbody tr th {\n",
       "        vertical-align: top;\n",
       "    }\n",
       "\n",
       "    .dataframe thead th {\n",
       "        text-align: right;\n",
       "    }\n",
       "</style>\n",
       "<table border=\"1\" class=\"dataframe\">\n",
       "  <thead>\n",
       "    <tr style=\"text-align: right;\">\n",
       "      <th></th>\n",
       "      <th>movie_name</th>\n",
       "      <th>production_year</th>\n",
       "      <th>movie_odid</th>\n",
       "      <th>production_budget</th>\n",
       "      <th>domestic_box_office</th>\n",
       "      <th>international_box_office</th>\n",
       "      <th>rating</th>\n",
       "      <th>creative_type</th>\n",
       "      <th>source</th>\n",
       "      <th>production_method</th>\n",
       "      <th>genre</th>\n",
       "      <th>sequel</th>\n",
       "      <th>running_time</th>\n",
       "      <th>total_box_office</th>\n",
       "      <th>return</th>\n",
       "    </tr>\n",
       "  </thead>\n",
       "  <tbody>\n",
       "    <tr>\n",
       "      <th>3</th>\n",
       "      <td>A Prairie Home Companion</td>\n",
       "      <td>2006</td>\n",
       "      <td>24910100</td>\n",
       "      <td>10000000</td>\n",
       "      <td>20342852</td>\n",
       "      <td>6373339</td>\n",
       "      <td>PG-13</td>\n",
       "      <td>Contemporary Fiction</td>\n",
       "      <td>Original Screenplay</td>\n",
       "      <td>Live Action</td>\n",
       "      <td>Comedy</td>\n",
       "      <td>0.0</td>\n",
       "      <td>105.0</td>\n",
       "      <td>26716191</td>\n",
       "      <td>1.671619</td>\n",
       "    </tr>\n",
       "    <tr>\n",
       "      <th>5</th>\n",
       "      <td>Employee of the Month</td>\n",
       "      <td>2006</td>\n",
       "      <td>19540100</td>\n",
       "      <td>10000000</td>\n",
       "      <td>28444855</td>\n",
       "      <td>9920000</td>\n",
       "      <td>PG-13</td>\n",
       "      <td>Contemporary Fiction</td>\n",
       "      <td>Original Screenplay</td>\n",
       "      <td>Live Action</td>\n",
       "      <td>Comedy</td>\n",
       "      <td>0.0</td>\n",
       "      <td>108.0</td>\n",
       "      <td>38364855</td>\n",
       "      <td>2.836486</td>\n",
       "    </tr>\n",
       "    <tr>\n",
       "      <th>13</th>\n",
       "      <td>Crank</td>\n",
       "      <td>2006</td>\n",
       "      <td>19850100</td>\n",
       "      <td>12000000</td>\n",
       "      <td>27838408</td>\n",
       "      <td>16086515</td>\n",
       "      <td>R</td>\n",
       "      <td>Contemporary Fiction</td>\n",
       "      <td>Original Screenplay</td>\n",
       "      <td>Live Action</td>\n",
       "      <td>Action</td>\n",
       "      <td>0.0</td>\n",
       "      <td>88.0</td>\n",
       "      <td>43924923</td>\n",
       "      <td>2.660410</td>\n",
       "    </tr>\n",
       "    <tr>\n",
       "      <th>14</th>\n",
       "      <td>Fateless</td>\n",
       "      <td>2006</td>\n",
       "      <td>75540100</td>\n",
       "      <td>12000000</td>\n",
       "      <td>196857</td>\n",
       "      <td>0</td>\n",
       "      <td>R</td>\n",
       "      <td>Historical Fiction</td>\n",
       "      <td>Based on Fiction Book/Short Story</td>\n",
       "      <td>Live Action</td>\n",
       "      <td>Drama</td>\n",
       "      <td>0.0</td>\n",
       "      <td>140.0</td>\n",
       "      <td>196857</td>\n",
       "      <td>-0.983595</td>\n",
       "    </tr>\n",
       "    <tr>\n",
       "      <th>16</th>\n",
       "      <td>Step Up</td>\n",
       "      <td>2006</td>\n",
       "      <td>7780100</td>\n",
       "      <td>12000000</td>\n",
       "      <td>65328121</td>\n",
       "      <td>45661036</td>\n",
       "      <td>PG-13</td>\n",
       "      <td>Contemporary Fiction</td>\n",
       "      <td>Original Screenplay</td>\n",
       "      <td>Live Action</td>\n",
       "      <td>Drama</td>\n",
       "      <td>0.0</td>\n",
       "      <td>103.0</td>\n",
       "      <td>110989157</td>\n",
       "      <td>8.249096</td>\n",
       "    </tr>\n",
       "  </tbody>\n",
       "</table>\n",
       "</div>"
      ],
      "text/plain": [
       "                  movie_name  production_year  movie_odid  production_budget  \\\n",
       "3   A Prairie Home Companion             2006    24910100           10000000   \n",
       "5      Employee of the Month             2006    19540100           10000000   \n",
       "13                     Crank             2006    19850100           12000000   \n",
       "14                  Fateless             2006    75540100           12000000   \n",
       "16                   Step Up             2006     7780100           12000000   \n",
       "\n",
       "    domestic_box_office  international_box_office rating  \\\n",
       "3              20342852                   6373339  PG-13   \n",
       "5              28444855                   9920000  PG-13   \n",
       "13             27838408                  16086515      R   \n",
       "14               196857                         0      R   \n",
       "16             65328121                  45661036  PG-13   \n",
       "\n",
       "           creative_type                             source production_method  \\\n",
       "3   Contemporary Fiction                Original Screenplay       Live Action   \n",
       "5   Contemporary Fiction                Original Screenplay       Live Action   \n",
       "13  Contemporary Fiction                Original Screenplay       Live Action   \n",
       "14    Historical Fiction  Based on Fiction Book/Short Story       Live Action   \n",
       "16  Contemporary Fiction                Original Screenplay       Live Action   \n",
       "\n",
       "     genre  sequel  running_time  total_box_office    return  \n",
       "3   Comedy     0.0         105.0          26716191  1.671619  \n",
       "5   Comedy     0.0         108.0          38364855  2.836486  \n",
       "13  Action     0.0          88.0          43924923  2.660410  \n",
       "14   Drama     0.0         140.0            196857 -0.983595  \n",
       "16   Drama     0.0         103.0         110989157  8.249096  "
      ]
     },
     "execution_count": 21,
     "metadata": {},
     "output_type": "execute_result"
    }
   ],
   "source": [
    "# Adding ROI cacluation (total box office/ production budget - 1)\n",
    "mdo_clean.loc[:,'return'] = (\n",
    "    mdo_clean['total_box_office']/ mdo_clean['production_budget'] - 1\n",
    "    )\n",
    "\n",
    "mdo_clean.head()"
   ]
  },
  {
   "cell_type": "code",
   "execution_count": 22,
   "metadata": {
    "ExecuteTime": {
     "end_time": "2022-08-03T17:26:39.485006Z",
     "start_time": "2022-08-03T17:26:39.451234Z"
    }
   },
   "outputs": [
    {
     "data": {
      "text/html": [
       "<div>\n",
       "<style scoped>\n",
       "    .dataframe tbody tr th:only-of-type {\n",
       "        vertical-align: middle;\n",
       "    }\n",
       "\n",
       "    .dataframe tbody tr th {\n",
       "        vertical-align: top;\n",
       "    }\n",
       "\n",
       "    .dataframe thead th {\n",
       "        text-align: right;\n",
       "    }\n",
       "</style>\n",
       "<table border=\"1\" class=\"dataframe\">\n",
       "  <thead>\n",
       "    <tr style=\"text-align: right;\">\n",
       "      <th></th>\n",
       "      <th>movie_name</th>\n",
       "      <th>production_year</th>\n",
       "      <th>movie_odid</th>\n",
       "      <th>production_budget</th>\n",
       "      <th>domestic_box_office</th>\n",
       "      <th>international_box_office</th>\n",
       "      <th>rating</th>\n",
       "      <th>creative_type</th>\n",
       "      <th>source</th>\n",
       "      <th>production_method</th>\n",
       "      <th>genre</th>\n",
       "      <th>sequel</th>\n",
       "      <th>running_time</th>\n",
       "      <th>total_box_office</th>\n",
       "      <th>return</th>\n",
       "      <th>percent_of_int</th>\n",
       "    </tr>\n",
       "  </thead>\n",
       "  <tbody>\n",
       "    <tr>\n",
       "      <th>3</th>\n",
       "      <td>A Prairie Home Companion</td>\n",
       "      <td>2006</td>\n",
       "      <td>24910100</td>\n",
       "      <td>10000000</td>\n",
       "      <td>20342852</td>\n",
       "      <td>6373339</td>\n",
       "      <td>PG-13</td>\n",
       "      <td>Contemporary Fiction</td>\n",
       "      <td>Original Screenplay</td>\n",
       "      <td>Live Action</td>\n",
       "      <td>Comedy</td>\n",
       "      <td>0.0</td>\n",
       "      <td>105.0</td>\n",
       "      <td>26716191</td>\n",
       "      <td>1.671619</td>\n",
       "      <td>0.238557</td>\n",
       "    </tr>\n",
       "    <tr>\n",
       "      <th>5</th>\n",
       "      <td>Employee of the Month</td>\n",
       "      <td>2006</td>\n",
       "      <td>19540100</td>\n",
       "      <td>10000000</td>\n",
       "      <td>28444855</td>\n",
       "      <td>9920000</td>\n",
       "      <td>PG-13</td>\n",
       "      <td>Contemporary Fiction</td>\n",
       "      <td>Original Screenplay</td>\n",
       "      <td>Live Action</td>\n",
       "      <td>Comedy</td>\n",
       "      <td>0.0</td>\n",
       "      <td>108.0</td>\n",
       "      <td>38364855</td>\n",
       "      <td>2.836486</td>\n",
       "      <td>0.258570</td>\n",
       "    </tr>\n",
       "    <tr>\n",
       "      <th>13</th>\n",
       "      <td>Crank</td>\n",
       "      <td>2006</td>\n",
       "      <td>19850100</td>\n",
       "      <td>12000000</td>\n",
       "      <td>27838408</td>\n",
       "      <td>16086515</td>\n",
       "      <td>R</td>\n",
       "      <td>Contemporary Fiction</td>\n",
       "      <td>Original Screenplay</td>\n",
       "      <td>Live Action</td>\n",
       "      <td>Action</td>\n",
       "      <td>0.0</td>\n",
       "      <td>88.0</td>\n",
       "      <td>43924923</td>\n",
       "      <td>2.660410</td>\n",
       "      <td>0.366228</td>\n",
       "    </tr>\n",
       "    <tr>\n",
       "      <th>14</th>\n",
       "      <td>Fateless</td>\n",
       "      <td>2006</td>\n",
       "      <td>75540100</td>\n",
       "      <td>12000000</td>\n",
       "      <td>196857</td>\n",
       "      <td>0</td>\n",
       "      <td>R</td>\n",
       "      <td>Historical Fiction</td>\n",
       "      <td>Based on Fiction Book/Short Story</td>\n",
       "      <td>Live Action</td>\n",
       "      <td>Drama</td>\n",
       "      <td>0.0</td>\n",
       "      <td>140.0</td>\n",
       "      <td>196857</td>\n",
       "      <td>-0.983595</td>\n",
       "      <td>0.000000</td>\n",
       "    </tr>\n",
       "    <tr>\n",
       "      <th>16</th>\n",
       "      <td>Step Up</td>\n",
       "      <td>2006</td>\n",
       "      <td>7780100</td>\n",
       "      <td>12000000</td>\n",
       "      <td>65328121</td>\n",
       "      <td>45661036</td>\n",
       "      <td>PG-13</td>\n",
       "      <td>Contemporary Fiction</td>\n",
       "      <td>Original Screenplay</td>\n",
       "      <td>Live Action</td>\n",
       "      <td>Drama</td>\n",
       "      <td>0.0</td>\n",
       "      <td>103.0</td>\n",
       "      <td>110989157</td>\n",
       "      <td>8.249096</td>\n",
       "      <td>0.411401</td>\n",
       "    </tr>\n",
       "  </tbody>\n",
       "</table>\n",
       "</div>"
      ],
      "text/plain": [
       "                  movie_name  production_year  movie_odid  production_budget  \\\n",
       "3   A Prairie Home Companion             2006    24910100           10000000   \n",
       "5      Employee of the Month             2006    19540100           10000000   \n",
       "13                     Crank             2006    19850100           12000000   \n",
       "14                  Fateless             2006    75540100           12000000   \n",
       "16                   Step Up             2006     7780100           12000000   \n",
       "\n",
       "    domestic_box_office  international_box_office rating  \\\n",
       "3              20342852                   6373339  PG-13   \n",
       "5              28444855                   9920000  PG-13   \n",
       "13             27838408                  16086515      R   \n",
       "14               196857                         0      R   \n",
       "16             65328121                  45661036  PG-13   \n",
       "\n",
       "           creative_type                             source production_method  \\\n",
       "3   Contemporary Fiction                Original Screenplay       Live Action   \n",
       "5   Contemporary Fiction                Original Screenplay       Live Action   \n",
       "13  Contemporary Fiction                Original Screenplay       Live Action   \n",
       "14    Historical Fiction  Based on Fiction Book/Short Story       Live Action   \n",
       "16  Contemporary Fiction                Original Screenplay       Live Action   \n",
       "\n",
       "     genre  sequel  running_time  total_box_office    return  percent_of_int  \n",
       "3   Comedy     0.0         105.0          26716191  1.671619        0.238557  \n",
       "5   Comedy     0.0         108.0          38364855  2.836486        0.258570  \n",
       "13  Action     0.0          88.0          43924923  2.660410        0.366228  \n",
       "14   Drama     0.0         140.0            196857 -0.983595        0.000000  \n",
       "16   Drama     0.0         103.0         110989157  8.249096        0.411401  "
      ]
     },
     "execution_count": 22,
     "metadata": {},
     "output_type": "execute_result"
    }
   ],
   "source": [
    "# Adding percent of international to total box office\n",
    "mdo_clean.loc[:,'percent_of_int'] = (\n",
    "    mdo_clean['international_box_office'] / mdo_clean['total_box_office']\n",
    "    )\n",
    "\n",
    "mdo_clean.head()"
   ]
  },
  {
   "cell_type": "code",
   "execution_count": 23,
   "metadata": {
    "ExecuteTime": {
     "end_time": "2022-08-03T17:26:39.523029Z",
     "start_time": "2022-08-03T17:26:39.497538Z"
    }
   },
   "outputs": [
    {
     "data": {
      "text/plain": [
       "rating\n",
       "G            0.911765\n",
       "NC-17        1.000000\n",
       "Not Rated    0.606061\n",
       "PG           0.848993\n",
       "PG-13        0.823370\n",
       "R            0.682540\n",
       "Name: is_profitable, dtype: float64"
      ]
     },
     "execution_count": 23,
     "metadata": {},
     "output_type": "execute_result"
    }
   ],
   "source": [
    "# adding flag for profitability.\n",
    "conditions = [mdo_clean.loc[:,'return'] >= 0,\n",
    "              mdo_clean.loc[:,'return'] < 0]\n",
    "\n",
    "values = [1,0]\n",
    "\n",
    "mdo_clean.loc[:,'is_profitable'] = np.select(conditions, values, default=0)\n",
    "mdo_clean.groupby('rating')['is_profitable'].mean()"
   ]
  },
  {
   "cell_type": "code",
   "execution_count": 24,
   "metadata": {
    "ExecuteTime": {
     "end_time": "2022-08-03T17:26:39.541701Z",
     "start_time": "2022-08-03T17:26:39.528099Z"
    }
   },
   "outputs": [],
   "source": [
    "# adding friendly label for sequel categorical\n",
    "conditions = [mdo_clean.loc[:,'sequel'] > 0,\n",
    "              mdo_clean.loc[:,'sequel'] == 0]\n",
    "\n",
    "values = ['Has Sequel','No Sequel']\n",
    "\n",
    "mdo_clean.loc[:,'is_sequel'] = np.select(conditions, values, default=0)"
   ]
  },
  {
   "cell_type": "markdown",
   "metadata": {},
   "source": [
    "Since my primary focus for \"success\" is ROI, I have added a total box office category, along with a ROI measure, and a profitablitiy flag.  In addition to adding these columns, I added a charting friendly categorical variable for the sequel column."
   ]
  },
  {
   "cell_type": "markdown",
   "metadata": {},
   "source": [
    "## OpusData ***Analysis***"
   ]
  },
  {
   "cell_type": "code",
   "execution_count": 25,
   "metadata": {
    "ExecuteTime": {
     "end_time": "2022-08-03T17:26:39.630605Z",
     "start_time": "2022-08-03T17:26:39.544891Z"
    }
   },
   "outputs": [
    {
     "data": {
      "text/html": [
       "<div>\n",
       "<style scoped>\n",
       "    .dataframe tbody tr th:only-of-type {\n",
       "        vertical-align: middle;\n",
       "    }\n",
       "\n",
       "    .dataframe tbody tr th {\n",
       "        vertical-align: top;\n",
       "    }\n",
       "\n",
       "    .dataframe thead th {\n",
       "        text-align: right;\n",
       "    }\n",
       "</style>\n",
       "<table border=\"1\" class=\"dataframe\">\n",
       "  <thead>\n",
       "    <tr style=\"text-align: right;\">\n",
       "      <th></th>\n",
       "      <th>production_year</th>\n",
       "      <th>movie_odid</th>\n",
       "      <th>production_budget</th>\n",
       "      <th>domestic_box_office</th>\n",
       "      <th>international_box_office</th>\n",
       "      <th>sequel</th>\n",
       "      <th>running_time</th>\n",
       "      <th>total_box_office</th>\n",
       "      <th>return</th>\n",
       "      <th>percent_of_int</th>\n",
       "      <th>is_profitable</th>\n",
       "    </tr>\n",
       "  </thead>\n",
       "  <tbody>\n",
       "    <tr>\n",
       "      <th>count</th>\n",
       "      <td>1795.000000</td>\n",
       "      <td>1.795000e+03</td>\n",
       "      <td>1.795000e+03</td>\n",
       "      <td>1.795000e+03</td>\n",
       "      <td>1.795000e+03</td>\n",
       "      <td>1795.000000</td>\n",
       "      <td>1795.000000</td>\n",
       "      <td>1.795000e+03</td>\n",
       "      <td>1795.000000</td>\n",
       "      <td>1795.000000</td>\n",
       "      <td>1795.000000</td>\n",
       "    </tr>\n",
       "    <tr>\n",
       "      <th>mean</th>\n",
       "      <td>2011.533705</td>\n",
       "      <td>1.382248e+08</td>\n",
       "      <td>5.558087e+07</td>\n",
       "      <td>6.829396e+07</td>\n",
       "      <td>1.011146e+08</td>\n",
       "      <td>0.154318</td>\n",
       "      <td>109.650139</td>\n",
       "      <td>1.694086e+08</td>\n",
       "      <td>1.969244</td>\n",
       "      <td>0.512994</td>\n",
       "      <td>0.771031</td>\n",
       "    </tr>\n",
       "    <tr>\n",
       "      <th>std</th>\n",
       "      <td>3.367719</td>\n",
       "      <td>8.241984e+07</td>\n",
       "      <td>5.484957e+07</td>\n",
       "      <td>8.968159e+07</td>\n",
       "      <td>1.641493e+08</td>\n",
       "      <td>0.361354</td>\n",
       "      <td>18.807721</td>\n",
       "      <td>2.450705e+08</td>\n",
       "      <td>3.165710</td>\n",
       "      <td>0.251563</td>\n",
       "      <td>0.420287</td>\n",
       "    </tr>\n",
       "    <tr>\n",
       "      <th>min</th>\n",
       "      <td>2006.000000</td>\n",
       "      <td>2.010000e+04</td>\n",
       "      <td>1.000000e+07</td>\n",
       "      <td>0.000000e+00</td>\n",
       "      <td>0.000000e+00</td>\n",
       "      <td>0.000000</td>\n",
       "      <td>0.000000</td>\n",
       "      <td>3.471000e+03</td>\n",
       "      <td>-0.999769</td>\n",
       "      <td>0.000000</td>\n",
       "      <td>0.000000</td>\n",
       "    </tr>\n",
       "    <tr>\n",
       "      <th>25%</th>\n",
       "      <td>2009.000000</td>\n",
       "      <td>5.822510e+07</td>\n",
       "      <td>2.000000e+07</td>\n",
       "      <td>1.431418e+07</td>\n",
       "      <td>1.059444e+07</td>\n",
       "      <td>0.000000</td>\n",
       "      <td>97.000000</td>\n",
       "      <td>3.073615e+07</td>\n",
       "      <td>0.107476</td>\n",
       "      <td>0.358257</td>\n",
       "      <td>1.000000</td>\n",
       "    </tr>\n",
       "    <tr>\n",
       "      <th>50%</th>\n",
       "      <td>2011.000000</td>\n",
       "      <td>1.451401e+08</td>\n",
       "      <td>3.500000e+07</td>\n",
       "      <td>3.853638e+07</td>\n",
       "      <td>3.884555e+07</td>\n",
       "      <td>0.000000</td>\n",
       "      <td>108.000000</td>\n",
       "      <td>8.013139e+07</td>\n",
       "      <td>1.191709</td>\n",
       "      <td>0.536256</td>\n",
       "      <td>1.000000</td>\n",
       "    </tr>\n",
       "    <tr>\n",
       "      <th>75%</th>\n",
       "      <td>2015.000000</td>\n",
       "      <td>2.008451e+08</td>\n",
       "      <td>7.000000e+07</td>\n",
       "      <td>8.446791e+07</td>\n",
       "      <td>1.112000e+08</td>\n",
       "      <td>0.000000</td>\n",
       "      <td>120.000000</td>\n",
       "      <td>1.976529e+08</td>\n",
       "      <td>2.808079</td>\n",
       "      <td>0.678967</td>\n",
       "      <td>1.000000</td>\n",
       "    </tr>\n",
       "    <tr>\n",
       "      <th>max</th>\n",
       "      <td>2018.000000</td>\n",
       "      <td>3.348301e+08</td>\n",
       "      <td>4.250000e+08</td>\n",
       "      <td>9.366622e+08</td>\n",
       "      <td>2.015838e+09</td>\n",
       "      <td>1.000000</td>\n",
       "      <td>201.000000</td>\n",
       "      <td>2.776345e+09</td>\n",
       "      <td>43.895652</td>\n",
       "      <td>1.000000</td>\n",
       "      <td>1.000000</td>\n",
       "    </tr>\n",
       "  </tbody>\n",
       "</table>\n",
       "</div>"
      ],
      "text/plain": [
       "       production_year    movie_odid  production_budget  domestic_box_office  \\\n",
       "count      1795.000000  1.795000e+03       1.795000e+03         1.795000e+03   \n",
       "mean       2011.533705  1.382248e+08       5.558087e+07         6.829396e+07   \n",
       "std           3.367719  8.241984e+07       5.484957e+07         8.968159e+07   \n",
       "min        2006.000000  2.010000e+04       1.000000e+07         0.000000e+00   \n",
       "25%        2009.000000  5.822510e+07       2.000000e+07         1.431418e+07   \n",
       "50%        2011.000000  1.451401e+08       3.500000e+07         3.853638e+07   \n",
       "75%        2015.000000  2.008451e+08       7.000000e+07         8.446791e+07   \n",
       "max        2018.000000  3.348301e+08       4.250000e+08         9.366622e+08   \n",
       "\n",
       "       international_box_office       sequel  running_time  total_box_office  \\\n",
       "count              1.795000e+03  1795.000000   1795.000000      1.795000e+03   \n",
       "mean               1.011146e+08     0.154318    109.650139      1.694086e+08   \n",
       "std                1.641493e+08     0.361354     18.807721      2.450705e+08   \n",
       "min                0.000000e+00     0.000000      0.000000      3.471000e+03   \n",
       "25%                1.059444e+07     0.000000     97.000000      3.073615e+07   \n",
       "50%                3.884555e+07     0.000000    108.000000      8.013139e+07   \n",
       "75%                1.112000e+08     0.000000    120.000000      1.976529e+08   \n",
       "max                2.015838e+09     1.000000    201.000000      2.776345e+09   \n",
       "\n",
       "            return  percent_of_int  is_profitable  \n",
       "count  1795.000000     1795.000000    1795.000000  \n",
       "mean      1.969244        0.512994       0.771031  \n",
       "std       3.165710        0.251563       0.420287  \n",
       "min      -0.999769        0.000000       0.000000  \n",
       "25%       0.107476        0.358257       1.000000  \n",
       "50%       1.191709        0.536256       1.000000  \n",
       "75%       2.808079        0.678967       1.000000  \n",
       "max      43.895652        1.000000       1.000000  "
      ]
     },
     "execution_count": 25,
     "metadata": {},
     "output_type": "execute_result"
    }
   ],
   "source": [
    "# Summary stats for numeric columns; initial understanding of data distribution and which\n",
    "# measure of central tendency will be best applied for my analyses.\n",
    "\n",
    "mdo_clean.describe()"
   ]
  },
  {
   "cell_type": "code",
   "execution_count": 26,
   "metadata": {
    "ExecuteTime": {
     "end_time": "2022-08-03T17:26:39.663127Z",
     "start_time": "2022-08-03T17:26:39.634832Z"
    }
   },
   "outputs": [
    {
     "data": {
      "text/html": [
       "<div>\n",
       "<style scoped>\n",
       "    .dataframe tbody tr th:only-of-type {\n",
       "        vertical-align: middle;\n",
       "    }\n",
       "\n",
       "    .dataframe tbody tr th {\n",
       "        vertical-align: top;\n",
       "    }\n",
       "\n",
       "    .dataframe thead th {\n",
       "        text-align: right;\n",
       "    }\n",
       "</style>\n",
       "<table border=\"1\" class=\"dataframe\">\n",
       "  <thead>\n",
       "    <tr style=\"text-align: right;\">\n",
       "      <th></th>\n",
       "      <th>production_year</th>\n",
       "      <th>movie_odid</th>\n",
       "      <th>total_box_office</th>\n",
       "    </tr>\n",
       "  </thead>\n",
       "  <tbody>\n",
       "    <tr>\n",
       "      <th>0</th>\n",
       "      <td>2006</td>\n",
       "      <td>96</td>\n",
       "      <td>13139666540</td>\n",
       "    </tr>\n",
       "    <tr>\n",
       "      <th>1</th>\n",
       "      <td>2007</td>\n",
       "      <td>133</td>\n",
       "      <td>17609479712</td>\n",
       "    </tr>\n",
       "    <tr>\n",
       "      <th>2</th>\n",
       "      <td>2008</td>\n",
       "      <td>169</td>\n",
       "      <td>20841914089</td>\n",
       "    </tr>\n",
       "    <tr>\n",
       "      <th>3</th>\n",
       "      <td>2009</td>\n",
       "      <td>175</td>\n",
       "      <td>24708029118</td>\n",
       "    </tr>\n",
       "    <tr>\n",
       "      <th>4</th>\n",
       "      <td>2010</td>\n",
       "      <td>226</td>\n",
       "      <td>28282185867</td>\n",
       "    </tr>\n",
       "    <tr>\n",
       "      <th>5</th>\n",
       "      <td>2011</td>\n",
       "      <td>185</td>\n",
       "      <td>35216319041</td>\n",
       "    </tr>\n",
       "    <tr>\n",
       "      <th>6</th>\n",
       "      <td>2012</td>\n",
       "      <td>96</td>\n",
       "      <td>19885339850</td>\n",
       "    </tr>\n",
       "    <tr>\n",
       "      <th>7</th>\n",
       "      <td>2013</td>\n",
       "      <td>122</td>\n",
       "      <td>21668174194</td>\n",
       "    </tr>\n",
       "    <tr>\n",
       "      <th>8</th>\n",
       "      <td>2014</td>\n",
       "      <td>142</td>\n",
       "      <td>28684658909</td>\n",
       "    </tr>\n",
       "    <tr>\n",
       "      <th>9</th>\n",
       "      <td>2015</td>\n",
       "      <td>160</td>\n",
       "      <td>27279573182</td>\n",
       "    </tr>\n",
       "    <tr>\n",
       "      <th>10</th>\n",
       "      <td>2016</td>\n",
       "      <td>136</td>\n",
       "      <td>28285207426</td>\n",
       "    </tr>\n",
       "    <tr>\n",
       "      <th>11</th>\n",
       "      <td>2017</td>\n",
       "      <td>118</td>\n",
       "      <td>28989517783</td>\n",
       "    </tr>\n",
       "    <tr>\n",
       "      <th>12</th>\n",
       "      <td>2018</td>\n",
       "      <td>37</td>\n",
       "      <td>9498367645</td>\n",
       "    </tr>\n",
       "  </tbody>\n",
       "</table>\n",
       "</div>"
      ],
      "text/plain": [
       "    production_year  movie_odid  total_box_office\n",
       "0              2006          96       13139666540\n",
       "1              2007         133       17609479712\n",
       "2              2008         169       20841914089\n",
       "3              2009         175       24708029118\n",
       "4              2010         226       28282185867\n",
       "5              2011         185       35216319041\n",
       "6              2012          96       19885339850\n",
       "7              2013         122       21668174194\n",
       "8              2014         142       28684658909\n",
       "9              2015         160       27279573182\n",
       "10             2016         136       28285207426\n",
       "11             2017         118       28989517783\n",
       "12             2018          37        9498367645"
      ]
     },
     "execution_count": 26,
     "metadata": {},
     "output_type": "execute_result"
    }
   ],
   "source": [
    "# Organizing counts and total box office sum for summary chart\n",
    "\n",
    "counts = (\n",
    "    mdo_clean\n",
    "    .groupby('production_year')['movie_odid']\n",
    "    .count()\n",
    "    .reset_index()\n",
    "    )\n",
    "\n",
    "totalboxyear = (\n",
    "    mdo_clean\n",
    "    .groupby('production_year')['total_box_office']\n",
    "    .sum()\n",
    "    .reset_index()\n",
    "    )\n",
    "\n",
    "\n",
    "result = pd.merge(counts, totalboxyear, how=\"inner\", on=['production_year', 'production_year'])\n",
    "result"
   ]
  },
  {
   "cell_type": "code",
   "execution_count": 27,
   "metadata": {
    "ExecuteTime": {
     "end_time": "2022-08-03T17:26:40.113003Z",
     "start_time": "2022-08-03T17:26:39.668314Z"
    }
   },
   "outputs": [
    {
     "data": {
      "image/png": "[encoded data removed]",
      "text/plain": [
       "<Figure size 864x432 with 2 Axes>"
      ]
     },
     "metadata": {
      "needs_background": "light"
     },
     "output_type": "display_data"
    }
   ],
   "source": [
    "# Summary chart for number of movies and total box office by year\n",
    "\n",
    "fig, ax1 = plt.subplots(figsize=(12,6))\n",
    "\n",
    "lp = sns.lineplot(data = result['total_box_office'], \n",
    "                  marker='o', \n",
    "                  sort = False, \n",
    "                  ax=ax1, \n",
    "                  label='Number of Movies', \n",
    "                  color='#dfc27d')\n",
    "\n",
    "ax2 = ax1.twinx()\n",
    "\n",
    "bp = sns.barplot(data = result, \n",
    "                 x='production_year', \n",
    "                 y='movie_odid', \n",
    "                 alpha=0.5, \n",
    "                 ax=ax2, \n",
    "                 color='#35978f', \n",
    "                 label='Total Box Office Revenue')\n",
    "\n",
    "ax1.set_title('Number of Movies & Total Box Office Revenue by Year')\n",
    "ax1.set_xlabel('Production Year')\n",
    "ax1.set_ylabel('Total Box Office')\n",
    "ax2.set_ylabel('Number of Movies')\n",
    "fig.legend(loc='upper right', bbox_to_anchor=(.88,.88))\n",
    "ax1.get_legend().remove()\n",
    "fmt = '${x:,.0f}'\n",
    "tick = mtick.StrMethodFormatter(fmt)\n",
    "ax1.yaxis.set_major_formatter(tick);"
   ]
  },
  {
   "cell_type": "markdown",
   "metadata": {},
   "source": [
    "Initial chart to understand values and trends over time.  Focusing on the macro trends, the number of records and total box office spend for each time period represented.  Based on this visualization, I have a better understanding of which years I should not weight disproportionally (i.e. 2012, 2018).  It would be interesting to understand at a macro level what happened in 2012, because it seems as if movies that are included in this dataset both dropped off from a release count perspective and a total box office.  Since I only have year in this dataset, and not date, I have decided not to focus too much on date."
   ]
  },
  {
   "cell_type": "code",
   "execution_count": 28,
   "metadata": {
    "ExecuteTime": {
     "end_time": "2022-08-03T17:26:41.475189Z",
     "start_time": "2022-08-03T17:26:40.115345Z"
    }
   },
   "outputs": [
    {
     "data": {
      "image/png": "[encoded data removed]",
      "text/plain": [
       "<Figure size 576x360 with 2 Axes>"
      ]
     },
     "metadata": {
      "needs_background": "light"
     },
     "output_type": "display_data"
    }
   ],
   "source": [
    "# Correlation matrix of numerical values in opus dataset.  \n",
    "\n",
    "plt.figure(figsize = (8,5))\n",
    "corrM = mdo_clean.corr()\n",
    "\n",
    "sns.heatmap(corrM, annot=True, cmap='BrBG')\n",
    "plt.show()"
   ]
  },
  {
   "cell_type": "markdown",
   "metadata": {},
   "source": [
    "Stronger positive correlations exist between box office results and production budget.  This gives me confidence in my\n",
    "data set since I selected a data set that was limited to larger budgets.  Would like to further evaluate international box office as a potential solution."
   ]
  },
  {
   "cell_type": "code",
   "execution_count": 29,
   "metadata": {
    "ExecuteTime": {
     "end_time": "2022-08-03T17:26:41.942156Z",
     "start_time": "2022-08-03T17:26:41.477158Z"
    }
   },
   "outputs": [
    {
     "data": {
      "image/png": "[encoded data removed]",
      "text/plain": [
       "<Figure size 576x360 with 1 Axes>"
      ]
     },
     "metadata": {
      "needs_background": "light"
     },
     "output_type": "display_data"
    }
   ],
   "source": [
    "#sns.scatterplot(data=mdo_clean, x='return', y='total_box_office')\n",
    "\n",
    "plt.figure(figsize = (8,5))\n",
    "\n",
    "rp = sns.regplot(x='return',\n",
    "            y='total_box_office', \n",
    "            data=mdo_clean,\n",
    "            scatter_kws={\"color\": '#35978f'}, \n",
    "            line_kws={\"color\": '#dfc27d'})\n",
    "\n",
    "rp.set_ylabel('Total Box Office')\n",
    "rp.set_xlabel('ROI/ return')\n",
    "rp.set_title('Total Box Office vs Return');"
   ]
  },
  {
   "cell_type": "markdown",
   "metadata": {},
   "source": [
    "Visualized total box office and return in a different way vs the correlation matrix above, displaying the strong positive relationship."
   ]
  },
  {
   "cell_type": "markdown",
   "metadata": {
    "ExecuteTime": {
     "end_time": "2022-07-26T18:04:43.428730Z",
     "start_time": "2022-07-26T18:04:43.426381Z"
    }
   },
   "source": [
    "### Argument for \"Family Movies\"\n",
    "\n",
    "Create movies that have the highest ROI to maximize initial investment & early profitability."
   ]
  },
  {
   "cell_type": "markdown",
   "metadata": {
    "ExecuteTime": {
     "end_time": "2022-08-02T12:25:03.688454Z",
     "start_time": "2022-08-02T12:25:03.684373Z"
    }
   },
   "source": [
    "Rating seems to be a interesting category to understand.  I charted a quick count of records to make sure the categories I was comparing had enough experience."
   ]
  },
  {
   "cell_type": "code",
   "execution_count": 30,
   "metadata": {
    "ExecuteTime": {
     "end_time": "2022-08-03T17:26:41.970429Z",
     "start_time": "2022-08-03T17:26:41.944644Z"
    },
    "scrolled": true
   },
   "outputs": [
    {
     "data": {
      "text/html": [
       "<div>\n",
       "<style scoped>\n",
       "    .dataframe tbody tr th:only-of-type {\n",
       "        vertical-align: middle;\n",
       "    }\n",
       "\n",
       "    .dataframe tbody tr th {\n",
       "        vertical-align: top;\n",
       "    }\n",
       "\n",
       "    .dataframe thead th {\n",
       "        text-align: right;\n",
       "    }\n",
       "</style>\n",
       "<table border=\"1\" class=\"dataframe\">\n",
       "  <thead>\n",
       "    <tr style=\"text-align: right;\">\n",
       "      <th></th>\n",
       "      <th>rating</th>\n",
       "      <th>production_year</th>\n",
       "      <th>movie_odid</th>\n",
       "      <th>production_budget</th>\n",
       "      <th>domestic_box_office</th>\n",
       "      <th>international_box_office</th>\n",
       "      <th>sequel</th>\n",
       "      <th>running_time</th>\n",
       "      <th>total_box_office</th>\n",
       "      <th>return</th>\n",
       "      <th>percent_of_int</th>\n",
       "      <th>is_profitable</th>\n",
       "    </tr>\n",
       "  </thead>\n",
       "  <tbody>\n",
       "    <tr>\n",
       "      <th>4</th>\n",
       "      <td>PG-13</td>\n",
       "      <td>1480530</td>\n",
       "      <td>99547583600</td>\n",
       "      <td>51482400000</td>\n",
       "      <td>64071363498</td>\n",
       "      <td>98938185069</td>\n",
       "      <td>136.0</td>\n",
       "      <td>83164.0</td>\n",
       "      <td>163009548567</td>\n",
       "      <td>1528.804234</td>\n",
       "      <td>366.309436</td>\n",
       "      <td>606</td>\n",
       "    </tr>\n",
       "    <tr>\n",
       "      <th>3</th>\n",
       "      <td>PG</td>\n",
       "      <td>599407</td>\n",
       "      <td>38854699800</td>\n",
       "      <td>21963600000</td>\n",
       "      <td>27868757027</td>\n",
       "      <td>42455279143</td>\n",
       "      <td>55.0</td>\n",
       "      <td>29786.0</td>\n",
       "      <td>70324036170</td>\n",
       "      <td>611.561885</td>\n",
       "      <td>155.396715</td>\n",
       "      <td>253</td>\n",
       "    </tr>\n",
       "    <tr>\n",
       "      <th>5</th>\n",
       "      <td>R</td>\n",
       "      <td>1394012</td>\n",
       "      <td>100226299300</td>\n",
       "      <td>23256270000</td>\n",
       "      <td>27687192501</td>\n",
       "      <td>33370015189</td>\n",
       "      <td>75.0</td>\n",
       "      <td>76899.0</td>\n",
       "      <td>61057207690</td>\n",
       "      <td>1245.657447</td>\n",
       "      <td>350.243995</td>\n",
       "      <td>473</td>\n",
       "    </tr>\n",
       "    <tr>\n",
       "      <th>0</th>\n",
       "      <td>G</td>\n",
       "      <td>68321</td>\n",
       "      <td>2853693400</td>\n",
       "      <td>2357500000</td>\n",
       "      <td>2894929346</td>\n",
       "      <td>4866246539</td>\n",
       "      <td>9.0</td>\n",
       "      <td>3181.0</td>\n",
       "      <td>7761175885</td>\n",
       "      <td>92.649955</td>\n",
       "      <td>19.269808</td>\n",
       "      <td>31</td>\n",
       "    </tr>\n",
       "    <tr>\n",
       "      <th>2</th>\n",
       "      <td>Not Rated</td>\n",
       "      <td>66426</td>\n",
       "      <td>6583723300</td>\n",
       "      <td>692900000</td>\n",
       "      <td>60805933</td>\n",
       "      <td>1810491681</td>\n",
       "      <td>2.0</td>\n",
       "      <td>3634.0</td>\n",
       "      <td>1871297614</td>\n",
       "      <td>52.774112</td>\n",
       "      <td>28.675472</td>\n",
       "      <td>20</td>\n",
       "    </tr>\n",
       "    <tr>\n",
       "      <th>1</th>\n",
       "      <td>NC-17</td>\n",
       "      <td>2007</td>\n",
       "      <td>47450100</td>\n",
       "      <td>15000000</td>\n",
       "      <td>4604982</td>\n",
       "      <td>60562448</td>\n",
       "      <td>0.0</td>\n",
       "      <td>158.0</td>\n",
       "      <td>65167430</td>\n",
       "      <td>3.344495</td>\n",
       "      <td>0.929336</td>\n",
       "      <td>1</td>\n",
       "    </tr>\n",
       "  </tbody>\n",
       "</table>\n",
       "</div>"
      ],
      "text/plain": [
       "      rating  production_year    movie_odid  production_budget  \\\n",
       "4      PG-13          1480530   99547583600        51482400000   \n",
       "3         PG           599407   38854699800        21963600000   \n",
       "5          R          1394012  100226299300        23256270000   \n",
       "0          G            68321    2853693400         2357500000   \n",
       "2  Not Rated            66426    6583723300          692900000   \n",
       "1      NC-17             2007      47450100           15000000   \n",
       "\n",
       "   domestic_box_office  international_box_office  sequel  running_time  \\\n",
       "4          64071363498               98938185069   136.0       83164.0   \n",
       "3          27868757027               42455279143    55.0       29786.0   \n",
       "5          27687192501               33370015189    75.0       76899.0   \n",
       "0           2894929346                4866246539     9.0        3181.0   \n",
       "2             60805933                1810491681     2.0        3634.0   \n",
       "1              4604982                  60562448     0.0         158.0   \n",
       "\n",
       "   total_box_office       return  percent_of_int  is_profitable  \n",
       "4      163009548567  1528.804234      366.309436            606  \n",
       "3       70324036170   611.561885      155.396715            253  \n",
       "5       61057207690  1245.657447      350.243995            473  \n",
       "0        7761175885    92.649955       19.269808             31  \n",
       "2        1871297614    52.774112       28.675472             20  \n",
       "1          65167430     3.344495        0.929336              1  "
      ]
     },
     "execution_count": 30,
     "metadata": {},
     "output_type": "execute_result"
    }
   ],
   "source": [
    "# Summary of totals by rating category\n",
    "\n",
    "(mdo_clean\n",
    " .groupby(['rating'])\n",
    " .sum()\n",
    " .reset_index()\n",
    " .sort_values(by='total_box_office', \n",
    "              ascending=False)\n",
    ")"
   ]
  },
  {
   "cell_type": "code",
   "execution_count": 31,
   "metadata": {
    "ExecuteTime": {
     "end_time": "2022-08-03T17:26:42.308315Z",
     "start_time": "2022-08-03T17:26:41.974484Z"
    },
    "scrolled": false
   },
   "outputs": [
    {
     "data": {
      "text/plain": [
       "''"
      ]
     },
     "execution_count": 31,
     "metadata": {},
     "output_type": "execute_result"
    },
    {
     "data": {
      "image/png": "[encoded data removed]",
      "text/plain": [
       "<Figure size 864x432 with 1 Axes>"
      ]
     },
     "metadata": {
      "needs_background": "light"
     },
     "output_type": "display_data"
    }
   ],
   "source": [
    "# Creating boxplots of return by rating to understand the distribution of ROI between rating categories.\n",
    "\n",
    "fig, ax = plt.subplots(figsize=(12,6))\n",
    "\n",
    "ax.set_title('ROI Distribution by Rating')\n",
    "\n",
    "\n",
    "bp = sns.boxplot(data=mdo_clean, \n",
    "            y='return', \n",
    "            x='rating', \n",
    "            color='#35978f')\n",
    "\n",
    "bp.set_ylabel('ROI/ return')\n",
    "bp.set_xlabel('Rating')\n",
    ";"
   ]
  },
  {
   "cell_type": "markdown",
   "metadata": {},
   "source": [
    "PG-13 total box office driven by outliers.  G rated movies have the highest median (total) box office performance, however not a lot of experience.   PG rated movies have both a high median and a decent amount of experience at the box office.  I am going to group these variables together into a 'family' flag next to see how the experience weights the results."
   ]
  },
  {
   "cell_type": "code",
   "execution_count": 32,
   "metadata": {
    "ExecuteTime": {
     "end_time": "2022-08-03T17:26:42.325259Z",
     "start_time": "2022-08-03T17:26:42.310525Z"
    },
    "scrolled": true
   },
   "outputs": [
    {
     "data": {
      "text/plain": [
       "Family        1068\n",
       "Non-Family     727\n",
       "Name: Family, dtype: int64"
      ]
     },
     "execution_count": 32,
     "metadata": {},
     "output_type": "execute_result"
    }
   ],
   "source": [
    "# adding flag for 'family movies' vs 'non-family movies'.  'family movies' defined as IN (G, PG, PG-13).\n",
    "\n",
    "conditions = (\n",
    "    [mdo_clean.loc[:,'rating']\n",
    "     .isin(['G', 'PG', 'PG-13']),\n",
    "              \n",
    "     mdo_clean.loc[:,'rating']\n",
    "     .isin(['Not Rated', 'NC-17', 'R'])]\n",
    "    )\n",
    "\n",
    "values = ['Family','Non-Family']\n",
    "\n",
    "mdo_clean.loc[:,'Family'] = np.select(conditions, values, default=0)\n",
    "mdo_clean['Family'].value_counts()"
   ]
  },
  {
   "cell_type": "code",
   "execution_count": 33,
   "metadata": {
    "ExecuteTime": {
     "end_time": "2022-08-03T17:26:42.357110Z",
     "start_time": "2022-08-03T17:26:42.327662Z"
    }
   },
   "outputs": [
    {
     "data": {
      "text/html": [
       "<div>\n",
       "<style scoped>\n",
       "    .dataframe tbody tr th:only-of-type {\n",
       "        vertical-align: middle;\n",
       "    }\n",
       "\n",
       "    .dataframe tbody tr th {\n",
       "        vertical-align: top;\n",
       "    }\n",
       "\n",
       "    .dataframe thead th {\n",
       "        text-align: right;\n",
       "    }\n",
       "</style>\n",
       "<table border=\"1\" class=\"dataframe\">\n",
       "  <thead>\n",
       "    <tr style=\"text-align: right;\">\n",
       "      <th></th>\n",
       "      <th>Family</th>\n",
       "      <th>production_year</th>\n",
       "      <th>movie_odid</th>\n",
       "      <th>production_budget</th>\n",
       "      <th>domestic_box_office</th>\n",
       "      <th>international_box_office</th>\n",
       "      <th>sequel</th>\n",
       "      <th>running_time</th>\n",
       "      <th>total_box_office</th>\n",
       "      <th>return</th>\n",
       "      <th>percent_of_int</th>\n",
       "      <th>is_profitable</th>\n",
       "    </tr>\n",
       "  </thead>\n",
       "  <tbody>\n",
       "    <tr>\n",
       "      <th>0</th>\n",
       "      <td>Family</td>\n",
       "      <td>2011.0</td>\n",
       "      <td>143645100.0</td>\n",
       "      <td>45000000.0</td>\n",
       "      <td>53303923.5</td>\n",
       "      <td>58189214.0</td>\n",
       "      <td>0.0</td>\n",
       "      <td>107.0</td>\n",
       "      <td>114660599.5</td>\n",
       "      <td>1.423386</td>\n",
       "      <td>0.547821</td>\n",
       "      <td>1.0</td>\n",
       "    </tr>\n",
       "    <tr>\n",
       "      <th>1</th>\n",
       "      <td>Non-Family</td>\n",
       "      <td>2011.0</td>\n",
       "      <td>149540100.0</td>\n",
       "      <td>25000000.0</td>\n",
       "      <td>23591043.0</td>\n",
       "      <td>23334984.0</td>\n",
       "      <td>0.0</td>\n",
       "      <td>110.0</td>\n",
       "      <td>48977233.0</td>\n",
       "      <td>0.768996</td>\n",
       "      <td>0.523360</td>\n",
       "      <td>1.0</td>\n",
       "    </tr>\n",
       "  </tbody>\n",
       "</table>\n",
       "</div>"
      ],
      "text/plain": [
       "       Family  production_year   movie_odid  production_budget  \\\n",
       "0      Family           2011.0  143645100.0         45000000.0   \n",
       "1  Non-Family           2011.0  149540100.0         25000000.0   \n",
       "\n",
       "   domestic_box_office  international_box_office  sequel  running_time  \\\n",
       "0           53303923.5                58189214.0     0.0         107.0   \n",
       "1           23591043.0                23334984.0     0.0         110.0   \n",
       "\n",
       "   total_box_office    return  percent_of_int  is_profitable  \n",
       "0       114660599.5  1.423386        0.547821            1.0  \n",
       "1        48977233.0  0.768996        0.523360            1.0  "
      ]
     },
     "execution_count": 33,
     "metadata": {},
     "output_type": "execute_result"
    }
   ],
   "source": [
    "# Median values for family vs non family numerical data.\n",
    "\n",
    "fam_group = (\n",
    "    mdo_clean.groupby('Family')\n",
    "    .median()\n",
    "    .reset_index()\n",
    "    )\n",
    "\n",
    "fam_group"
   ]
  },
  {
   "cell_type": "code",
   "execution_count": 34,
   "metadata": {
    "ExecuteTime": {
     "end_time": "2022-08-03T17:26:42.567842Z",
     "start_time": "2022-08-03T17:26:42.361858Z"
    },
    "scrolled": false
   },
   "outputs": [
    {
     "data": {
      "text/plain": [
       "''"
      ]
     },
     "execution_count": 34,
     "metadata": {},
     "output_type": "execute_result"
    },
    {
     "data": {
      "image/png": "[encoded data removed]",
      "text/plain": [
       "<Figure size 864x432 with 1 Axes>"
      ]
     },
     "metadata": {
      "needs_background": "light"
     },
     "output_type": "display_data"
    }
   ],
   "source": [
    "# Chart to show delta between family and non family median international box office.\n",
    "\n",
    "fig, ax = plt.subplots(figsize=(12,6))\n",
    "\n",
    "bp = sns.barplot(data=fam_group, \n",
    "            y='total_box_office', \n",
    "            x='Family', \n",
    "            palette = 'BrBG')\n",
    "\n",
    "bp.set_ylabel('Median Total Box Office')\n",
    "bp.set_xlabel('Family vs Non-Family')\n",
    "bp.set_title('Median Total Box Office Revenue by Rating Group')\n",
    "\n",
    "fmt = '${x:,.0f}'\n",
    "tick = mtick.StrMethodFormatter(fmt)\n",
    "ax.yaxis.set_major_formatter(tick)\n",
    ";"
   ]
  },
  {
   "cell_type": "markdown",
   "metadata": {},
   "source": [
    "Family movies clearly have a higher median box office vs non-family movies.  This is primarily being driven by a higher percentage of international movie box office percentages - shown below."
   ]
  },
  {
   "cell_type": "code",
   "execution_count": 35,
   "metadata": {
    "ExecuteTime": {
     "end_time": "2022-08-03T17:26:42.579990Z",
     "start_time": "2022-08-03T17:26:42.571747Z"
    },
    "scrolled": true
   },
   "outputs": [
    {
     "data": {
      "text/plain": [
       "rating\n",
       "G            0.613246\n",
       "NC-17        0.929336\n",
       "Not Rated    0.986614\n",
       "PG           0.555254\n",
       "PG-13        0.535883\n",
       "R            0.508475\n",
       "Name: percent_of_int, dtype: float64"
      ]
     },
     "execution_count": 35,
     "metadata": {},
     "output_type": "execute_result"
    }
   ],
   "source": [
    "mdo_clean.groupby('rating')['percent_of_int'].median()\n",
    "\n",
    "#plt.figure(figsize = (8,4))\n",
    "#sns.barplot(y='percent_of_int', x='rating', data = fam_mov, palette='BrBG', order = fam_mov.sort_values('percent_of_int', ascending = True).rating)\n",
    "\n",
    "#Not rated, and NC-17 rated movies have a higher international box office impact on the total box office.  G/PG/PG-13 also perform better than R rated movies on the international stage."
   ]
  },
  {
   "cell_type": "code",
   "execution_count": 36,
   "metadata": {
    "ExecuteTime": {
     "end_time": "2022-08-03T17:26:42.609181Z",
     "start_time": "2022-08-03T17:26:42.582717Z"
    }
   },
   "outputs": [
    {
     "data": {
      "text/html": [
       "<div>\n",
       "<style scoped>\n",
       "    .dataframe tbody tr th:only-of-type {\n",
       "        vertical-align: middle;\n",
       "    }\n",
       "\n",
       "    .dataframe tbody tr th {\n",
       "        vertical-align: top;\n",
       "    }\n",
       "\n",
       "    .dataframe thead th {\n",
       "        text-align: right;\n",
       "    }\n",
       "</style>\n",
       "<table border=\"1\" class=\"dataframe\">\n",
       "  <thead>\n",
       "    <tr style=\"text-align: right;\">\n",
       "      <th>Family</th>\n",
       "      <th>Family</th>\n",
       "      <th>Non-Family</th>\n",
       "    </tr>\n",
       "    <tr>\n",
       "      <th>production_year</th>\n",
       "      <th></th>\n",
       "      <th></th>\n",
       "    </tr>\n",
       "  </thead>\n",
       "  <tbody>\n",
       "    <tr>\n",
       "      <th>2006</th>\n",
       "      <td>0.908239</td>\n",
       "      <td>0.379025</td>\n",
       "    </tr>\n",
       "    <tr>\n",
       "      <th>2007</th>\n",
       "      <td>1.454847</td>\n",
       "      <td>0.611666</td>\n",
       "    </tr>\n",
       "    <tr>\n",
       "      <th>2008</th>\n",
       "      <td>1.206220</td>\n",
       "      <td>0.456290</td>\n",
       "    </tr>\n",
       "    <tr>\n",
       "      <th>2009</th>\n",
       "      <td>1.087926</td>\n",
       "      <td>0.629676</td>\n",
       "    </tr>\n",
       "    <tr>\n",
       "      <th>2010</th>\n",
       "      <td>1.197185</td>\n",
       "      <td>0.509634</td>\n",
       "    </tr>\n",
       "    <tr>\n",
       "      <th>2011</th>\n",
       "      <td>1.475338</td>\n",
       "      <td>0.658262</td>\n",
       "    </tr>\n",
       "    <tr>\n",
       "      <th>2012</th>\n",
       "      <td>1.466032</td>\n",
       "      <td>1.224738</td>\n",
       "    </tr>\n",
       "    <tr>\n",
       "      <th>2013</th>\n",
       "      <td>1.669760</td>\n",
       "      <td>1.236402</td>\n",
       "    </tr>\n",
       "    <tr>\n",
       "      <th>2014</th>\n",
       "      <td>1.929897</td>\n",
       "      <td>0.691226</td>\n",
       "    </tr>\n",
       "    <tr>\n",
       "      <th>2015</th>\n",
       "      <td>1.659514</td>\n",
       "      <td>0.547951</td>\n",
       "    </tr>\n",
       "    <tr>\n",
       "      <th>2016</th>\n",
       "      <td>1.678453</td>\n",
       "      <td>1.320263</td>\n",
       "    </tr>\n",
       "    <tr>\n",
       "      <th>2017</th>\n",
       "      <td>2.148097</td>\n",
       "      <td>1.613940</td>\n",
       "    </tr>\n",
       "    <tr>\n",
       "      <th>2018</th>\n",
       "      <td>1.954738</td>\n",
       "      <td>0.870399</td>\n",
       "    </tr>\n",
       "  </tbody>\n",
       "</table>\n",
       "</div>"
      ],
      "text/plain": [
       "Family             Family  Non-Family\n",
       "production_year                      \n",
       "2006             0.908239    0.379025\n",
       "2007             1.454847    0.611666\n",
       "2008             1.206220    0.456290\n",
       "2009             1.087926    0.629676\n",
       "2010             1.197185    0.509634\n",
       "2011             1.475338    0.658262\n",
       "2012             1.466032    1.224738\n",
       "2013             1.669760    1.236402\n",
       "2014             1.929897    0.691226\n",
       "2015             1.659514    0.547951\n",
       "2016             1.678453    1.320263\n",
       "2017             2.148097    1.613940\n",
       "2018             1.954738    0.870399"
      ]
     },
     "execution_count": 36,
     "metadata": {},
     "output_type": "execute_result"
    }
   ],
   "source": [
    "# create variable/ pivot table to undersand return within family and non family movies\n",
    "\n",
    "medfams = pd.pivot_table(mdo_clean, \n",
    "                         values='return', \n",
    "                         columns='Family', \n",
    "                         index='production_year', \n",
    "                         aggfunc=np.median, \n",
    "                         fill_value=0)\n",
    "\n",
    "medfams"
   ]
  },
  {
   "cell_type": "code",
   "execution_count": 37,
   "metadata": {
    "ExecuteTime": {
     "end_time": "2022-08-03T17:26:42.966869Z",
     "start_time": "2022-08-03T17:26:42.611549Z"
    }
   },
   "outputs": [
    {
     "data": {
      "image/png": "[encoded data removed]",
      "text/plain": [
       "<Figure size 864x432 with 1 Axes>"
      ]
     },
     "metadata": {
      "needs_background": "light"
     },
     "output_type": "display_data"
    }
   ],
   "source": [
    "# create chart showing roi for fam vs non fam movies by year\n",
    "\n",
    "plt.subplots(figsize=(12,6))\n",
    "\n",
    "lp = sns.lineplot(data = medfams, marker='o', sort = False, palette='BrBG')\n",
    "\n",
    "lp.set_title('ROI by Family and Non-Family Movies by Production Year')\n",
    "lp.set_xlabel('Production Year')\n",
    "lp.set_ylabel('ROI/ return on investment Multiple')\n",
    "lp.legend(title = False);"
   ]
  },
  {
   "cell_type": "markdown",
   "metadata": {},
   "source": [
    "Family movies have consistently performed better over the experience in this period.  Even though there are a few ups and downs in the line chart, the relative ratio to non-family movies is pretty clear.  Going to create a family movie specific dataset now and continue my analysis within family rated movies only."
   ]
  },
  {
   "cell_type": "code",
   "execution_count": 38,
   "metadata": {
    "ExecuteTime": {
     "end_time": "2022-08-03T17:26:42.996466Z",
     "start_time": "2022-08-03T17:26:42.971176Z"
    },
    "scrolled": false
   },
   "outputs": [
    {
     "data": {
      "text/html": [
       "<div>\n",
       "<style scoped>\n",
       "    .dataframe tbody tr th:only-of-type {\n",
       "        vertical-align: middle;\n",
       "    }\n",
       "\n",
       "    .dataframe tbody tr th {\n",
       "        vertical-align: top;\n",
       "    }\n",
       "\n",
       "    .dataframe thead th {\n",
       "        text-align: right;\n",
       "    }\n",
       "</style>\n",
       "<table border=\"1\" class=\"dataframe\">\n",
       "  <thead>\n",
       "    <tr style=\"text-align: right;\">\n",
       "      <th></th>\n",
       "      <th>movie_name</th>\n",
       "      <th>production_year</th>\n",
       "      <th>movie_odid</th>\n",
       "      <th>production_budget</th>\n",
       "      <th>domestic_box_office</th>\n",
       "      <th>international_box_office</th>\n",
       "      <th>rating</th>\n",
       "      <th>creative_type</th>\n",
       "      <th>source</th>\n",
       "      <th>production_method</th>\n",
       "      <th>genre</th>\n",
       "      <th>sequel</th>\n",
       "      <th>running_time</th>\n",
       "      <th>total_box_office</th>\n",
       "      <th>return</th>\n",
       "      <th>percent_of_int</th>\n",
       "      <th>is_profitable</th>\n",
       "      <th>is_sequel</th>\n",
       "      <th>Family</th>\n",
       "    </tr>\n",
       "  </thead>\n",
       "  <tbody>\n",
       "    <tr>\n",
       "      <th>3</th>\n",
       "      <td>A Prairie Home Companion</td>\n",
       "      <td>2006</td>\n",
       "      <td>24910100</td>\n",
       "      <td>10000000</td>\n",
       "      <td>20342852</td>\n",
       "      <td>6373339</td>\n",
       "      <td>PG-13</td>\n",
       "      <td>Contemporary Fiction</td>\n",
       "      <td>Original Screenplay</td>\n",
       "      <td>Live Action</td>\n",
       "      <td>Comedy</td>\n",
       "      <td>0.0</td>\n",
       "      <td>105.0</td>\n",
       "      <td>26716191</td>\n",
       "      <td>1.671619</td>\n",
       "      <td>0.238557</td>\n",
       "      <td>1</td>\n",
       "      <td>No Sequel</td>\n",
       "      <td>Family</td>\n",
       "    </tr>\n",
       "    <tr>\n",
       "      <th>5</th>\n",
       "      <td>Employee of the Month</td>\n",
       "      <td>2006</td>\n",
       "      <td>19540100</td>\n",
       "      <td>10000000</td>\n",
       "      <td>28444855</td>\n",
       "      <td>9920000</td>\n",
       "      <td>PG-13</td>\n",
       "      <td>Contemporary Fiction</td>\n",
       "      <td>Original Screenplay</td>\n",
       "      <td>Live Action</td>\n",
       "      <td>Comedy</td>\n",
       "      <td>0.0</td>\n",
       "      <td>108.0</td>\n",
       "      <td>38364855</td>\n",
       "      <td>2.836486</td>\n",
       "      <td>0.258570</td>\n",
       "      <td>1</td>\n",
       "      <td>No Sequel</td>\n",
       "      <td>Family</td>\n",
       "    </tr>\n",
       "    <tr>\n",
       "      <th>16</th>\n",
       "      <td>Step Up</td>\n",
       "      <td>2006</td>\n",
       "      <td>7780100</td>\n",
       "      <td>12000000</td>\n",
       "      <td>65328121</td>\n",
       "      <td>45661036</td>\n",
       "      <td>PG-13</td>\n",
       "      <td>Contemporary Fiction</td>\n",
       "      <td>Original Screenplay</td>\n",
       "      <td>Live Action</td>\n",
       "      <td>Drama</td>\n",
       "      <td>0.0</td>\n",
       "      <td>103.0</td>\n",
       "      <td>110989157</td>\n",
       "      <td>8.249096</td>\n",
       "      <td>0.411401</td>\n",
       "      <td>1</td>\n",
       "      <td>No Sequel</td>\n",
       "      <td>Family</td>\n",
       "    </tr>\n",
       "    <tr>\n",
       "      <th>23</th>\n",
       "      <td>An American Haunting</td>\n",
       "      <td>2006</td>\n",
       "      <td>130560100</td>\n",
       "      <td>14000000</td>\n",
       "      <td>16298046</td>\n",
       "      <td>14145231</td>\n",
       "      <td>PG-13</td>\n",
       "      <td>Historical Fiction</td>\n",
       "      <td>Based on Fiction Book/Short Story</td>\n",
       "      <td>Live Action</td>\n",
       "      <td>Horror</td>\n",
       "      <td>0.0</td>\n",
       "      <td>83.0</td>\n",
       "      <td>30443277</td>\n",
       "      <td>1.174520</td>\n",
       "      <td>0.464642</td>\n",
       "      <td>1</td>\n",
       "      <td>No Sequel</td>\n",
       "      <td>Family</td>\n",
       "    </tr>\n",
       "    <tr>\n",
       "      <th>28</th>\n",
       "      <td>Flicka</td>\n",
       "      <td>2006</td>\n",
       "      <td>24440100</td>\n",
       "      <td>15000000</td>\n",
       "      <td>21000147</td>\n",
       "      <td>896220</td>\n",
       "      <td>PG</td>\n",
       "      <td>Contemporary Fiction</td>\n",
       "      <td>Based on Fiction Book/Short Story</td>\n",
       "      <td>Live Action</td>\n",
       "      <td>Drama</td>\n",
       "      <td>0.0</td>\n",
       "      <td>95.0</td>\n",
       "      <td>21896367</td>\n",
       "      <td>0.459758</td>\n",
       "      <td>0.040930</td>\n",
       "      <td>1</td>\n",
       "      <td>No Sequel</td>\n",
       "      <td>Family</td>\n",
       "    </tr>\n",
       "  </tbody>\n",
       "</table>\n",
       "</div>"
      ],
      "text/plain": [
       "                  movie_name  production_year  movie_odid  production_budget  \\\n",
       "3   A Prairie Home Companion             2006    24910100           10000000   \n",
       "5      Employee of the Month             2006    19540100           10000000   \n",
       "16                   Step Up             2006     7780100           12000000   \n",
       "23      An American Haunting             2006   130560100           14000000   \n",
       "28                    Flicka             2006    24440100           15000000   \n",
       "\n",
       "    domestic_box_office  international_box_office rating  \\\n",
       "3              20342852                   6373339  PG-13   \n",
       "5              28444855                   9920000  PG-13   \n",
       "16             65328121                  45661036  PG-13   \n",
       "23             16298046                  14145231  PG-13   \n",
       "28             21000147                    896220     PG   \n",
       "\n",
       "           creative_type                             source production_method  \\\n",
       "3   Contemporary Fiction                Original Screenplay       Live Action   \n",
       "5   Contemporary Fiction                Original Screenplay       Live Action   \n",
       "16  Contemporary Fiction                Original Screenplay       Live Action   \n",
       "23    Historical Fiction  Based on Fiction Book/Short Story       Live Action   \n",
       "28  Contemporary Fiction  Based on Fiction Book/Short Story       Live Action   \n",
       "\n",
       "     genre  sequel  running_time  total_box_office    return  percent_of_int  \\\n",
       "3   Comedy     0.0         105.0          26716191  1.671619        0.238557   \n",
       "5   Comedy     0.0         108.0          38364855  2.836486        0.258570   \n",
       "16   Drama     0.0         103.0         110989157  8.249096        0.411401   \n",
       "23  Horror     0.0          83.0          30443277  1.174520        0.464642   \n",
       "28   Drama     0.0          95.0          21896367  0.459758        0.040930   \n",
       "\n",
       "    is_profitable  is_sequel  Family  \n",
       "3               1  No Sequel  Family  \n",
       "5               1  No Sequel  Family  \n",
       "16              1  No Sequel  Family  \n",
       "23              1  No Sequel  Family  \n",
       "28              1  No Sequel  Family  "
      ]
     },
     "execution_count": 38,
     "metadata": {},
     "output_type": "execute_result"
    }
   ],
   "source": [
    "# create new dataframe with G, PG, and PG-13 titles only.\n",
    "\n",
    "fam_mov = (\n",
    "    mdo_clean[mdo_clean['rating']\n",
    "              .isin(['G', 'PG', 'PG-13'])]\n",
    "    )\n",
    "\n",
    "fam_mov.head()"
   ]
  },
  {
   "cell_type": "code",
   "execution_count": 39,
   "metadata": {
    "ExecuteTime": {
     "end_time": "2022-08-03T17:26:44.292102Z",
     "start_time": "2022-08-03T17:26:43.002069Z"
    },
    "scrolled": false
   },
   "outputs": [
    {
     "data": {
      "image/png": "[encoded data removed]",
      "text/plain": [
       "<Figure size 576x360 with 2 Axes>"
      ]
     },
     "metadata": {
      "needs_background": "light"
     },
     "output_type": "display_data"
    }
   ],
   "source": [
    "# Correlation matrix of family movie data to understand any relationships between variables.\n",
    "\n",
    "plt.figure(figsize = (8,5))\n",
    "corrFamMov = fam_mov.corr()\n",
    "\n",
    "sns.heatmap(corrFamMov, annot=True, cmap='BrBG')\n",
    "plt.show()"
   ]
  },
  {
   "cell_type": "markdown",
   "metadata": {},
   "source": [
    "Displayed a correlation matrix to determine any relationships between our numerical values.  Family movies are still showing strong relationships between box office performance, and production budget."
   ]
  },
  {
   "cell_type": "markdown",
   "metadata": {},
   "source": [
    "### Argument for Animated Movies\n",
    "\n",
    "Focus on movies that have a production method of animation vs live action."
   ]
  },
  {
   "cell_type": "code",
   "execution_count": 40,
   "metadata": {
    "ExecuteTime": {
     "end_time": "2022-08-03T17:26:44.316112Z",
     "start_time": "2022-08-03T17:26:44.295084Z"
    }
   },
   "outputs": [
    {
     "data": {
      "text/plain": [
       "Live Action    1560\n",
       "Animation       235\n",
       "Name: prod_method_group, dtype: int64"
      ]
     },
     "execution_count": 40,
     "metadata": {},
     "output_type": "execute_result"
    }
   ],
   "source": [
    "# Create a field that groups our production methods together into a group.  This will make understanding easier\n",
    "# as most of the categories will be listed under animation.\n",
    "\n",
    "# Create a list of our conditions\n",
    "conditions = (\n",
    "    [mdo_clean.loc[:,'production_method']\n",
    "     .isin(['Live Action']),\n",
    "              \n",
    "     mdo_clean.loc[:,'production_method']\n",
    "     .isin(['Animation/Live Action',\n",
    "        'Digital Animation',\n",
    "        'Stop-Motion Animation',\n",
    "        'Hand Animation',\n",
    "        'Multiple Production Methods',\n",
    "        'Rotoscoping'])]\n",
    "    )\n",
    "\n",
    "# Create a list of the values we want to assign for each condition\n",
    "values = ['Live Action','Animation']\n",
    "\n",
    "\n",
    "# Create a new column and use np.select to assign values to it using our lists as arguments\n",
    "mdo_clean.loc[:,'prod_method_group'] = np.select(conditions, values, default=0)\n",
    "mdo_clean['prod_method_group'].value_counts()"
   ]
  },
  {
   "cell_type": "code",
   "execution_count": 41,
   "metadata": {
    "ExecuteTime": {
     "end_time": "2022-08-03T17:26:44.329816Z",
     "start_time": "2022-08-03T17:26:44.319123Z"
    },
    "scrolled": true
   },
   "outputs": [
    {
     "data": {
      "text/plain": [
       "prod_method_group\n",
       "Animation      1.800777\n",
       "Live Action    1.101905\n",
       "Name: return, dtype: float64"
      ]
     },
     "execution_count": 41,
     "metadata": {},
     "output_type": "execute_result"
    }
   ],
   "source": [
    "mdo_clean.groupby('prod_method_group')['return'].median()"
   ]
  },
  {
   "cell_type": "markdown",
   "metadata": {},
   "source": [
    "Animated movies have a 60% higher median return vs live action films."
   ]
  },
  {
   "cell_type": "code",
   "execution_count": 42,
   "metadata": {
    "ExecuteTime": {
     "end_time": "2022-08-03T17:26:44.358090Z",
     "start_time": "2022-08-03T17:26:44.333014Z"
    }
   },
   "outputs": [
    {
     "data": {
      "text/html": [
       "<div>\n",
       "<style scoped>\n",
       "    .dataframe tbody tr th:only-of-type {\n",
       "        vertical-align: middle;\n",
       "    }\n",
       "\n",
       "    .dataframe tbody tr th {\n",
       "        vertical-align: top;\n",
       "    }\n",
       "\n",
       "    .dataframe thead th {\n",
       "        text-align: right;\n",
       "    }\n",
       "</style>\n",
       "<table border=\"1\" class=\"dataframe\">\n",
       "  <thead>\n",
       "    <tr style=\"text-align: right;\">\n",
       "      <th>prod_method_group</th>\n",
       "      <th>Animation</th>\n",
       "      <th>Live Action</th>\n",
       "    </tr>\n",
       "    <tr>\n",
       "      <th>rating</th>\n",
       "      <th></th>\n",
       "      <th></th>\n",
       "    </tr>\n",
       "  </thead>\n",
       "  <tbody>\n",
       "    <tr>\n",
       "      <th>G</th>\n",
       "      <td>23</td>\n",
       "      <td>11</td>\n",
       "    </tr>\n",
       "    <tr>\n",
       "      <th>NC-17</th>\n",
       "      <td>0</td>\n",
       "      <td>1</td>\n",
       "    </tr>\n",
       "    <tr>\n",
       "      <th>Not Rated</th>\n",
       "      <td>3</td>\n",
       "      <td>30</td>\n",
       "    </tr>\n",
       "    <tr>\n",
       "      <th>PG</th>\n",
       "      <td>160</td>\n",
       "      <td>138</td>\n",
       "    </tr>\n",
       "    <tr>\n",
       "      <th>PG-13</th>\n",
       "      <td>39</td>\n",
       "      <td>697</td>\n",
       "    </tr>\n",
       "    <tr>\n",
       "      <th>R</th>\n",
       "      <td>10</td>\n",
       "      <td>683</td>\n",
       "    </tr>\n",
       "  </tbody>\n",
       "</table>\n",
       "</div>"
      ],
      "text/plain": [
       "prod_method_group  Animation  Live Action\n",
       "rating                                   \n",
       "G                         23           11\n",
       "NC-17                      0            1\n",
       "Not Rated                  3           30\n",
       "PG                       160          138\n",
       "PG-13                     39          697\n",
       "R                         10          683"
      ]
     },
     "execution_count": 42,
     "metadata": {},
     "output_type": "execute_result"
    }
   ],
   "source": [
    "# Creating a pivot table to show the rating records between animated and non-animated movies.\n",
    "# Just making sure there is representation in each category (i.e. not all rated R movies are live action)\n",
    "pd.pivot_table(mdo_clean, \n",
    "                        values='return', \n",
    "                        columns='prod_method_group', \n",
    "                        index='rating', \n",
    "                        aggfunc='count', \n",
    "                        fill_value=0)"
   ]
  },
  {
   "cell_type": "code",
   "execution_count": 43,
   "metadata": {
    "ExecuteTime": {
     "end_time": "2022-08-03T17:26:44.383612Z",
     "start_time": "2022-08-03T17:26:44.360926Z"
    },
    "scrolled": false
   },
   "outputs": [
    {
     "data": {
      "text/html": [
       "<div>\n",
       "<style scoped>\n",
       "    .dataframe tbody tr th:only-of-type {\n",
       "        vertical-align: middle;\n",
       "    }\n",
       "\n",
       "    .dataframe tbody tr th {\n",
       "        vertical-align: top;\n",
       "    }\n",
       "\n",
       "    .dataframe thead th {\n",
       "        text-align: right;\n",
       "    }\n",
       "</style>\n",
       "<table border=\"1\" class=\"dataframe\">\n",
       "  <thead>\n",
       "    <tr style=\"text-align: right;\">\n",
       "      <th></th>\n",
       "      <th>prod_method_group</th>\n",
       "      <th>production_year</th>\n",
       "      <th>total_box_office</th>\n",
       "    </tr>\n",
       "  </thead>\n",
       "  <tbody>\n",
       "    <tr>\n",
       "      <th>0</th>\n",
       "      <td>Animation</td>\n",
       "      <td>2006</td>\n",
       "      <td>115954793.5</td>\n",
       "    </tr>\n",
       "    <tr>\n",
       "      <th>1</th>\n",
       "      <td>Animation</td>\n",
       "      <td>2007</td>\n",
       "      <td>408383484.0</td>\n",
       "    </tr>\n",
       "    <tr>\n",
       "      <th>2</th>\n",
       "      <td>Animation</td>\n",
       "      <td>2008</td>\n",
       "      <td>194980101.5</td>\n",
       "    </tr>\n",
       "    <tr>\n",
       "      <th>3</th>\n",
       "      <td>Animation</td>\n",
       "      <td>2009</td>\n",
       "      <td>270997378.0</td>\n",
       "    </tr>\n",
       "    <tr>\n",
       "      <th>4</th>\n",
       "      <td>Animation</td>\n",
       "      <td>2010</td>\n",
       "      <td>199256333.5</td>\n",
       "    </tr>\n",
       "    <tr>\n",
       "      <th>5</th>\n",
       "      <td>Animation</td>\n",
       "      <td>2011</td>\n",
       "      <td>362485352.0</td>\n",
       "    </tr>\n",
       "    <tr>\n",
       "      <th>6</th>\n",
       "      <td>Animation</td>\n",
       "      <td>2012</td>\n",
       "      <td>375740705.0</td>\n",
       "    </tr>\n",
       "    <tr>\n",
       "      <th>7</th>\n",
       "      <td>Animation</td>\n",
       "      <td>2013</td>\n",
       "      <td>269806430.0</td>\n",
       "    </tr>\n",
       "    <tr>\n",
       "      <th>8</th>\n",
       "      <td>Animation</td>\n",
       "      <td>2014</td>\n",
       "      <td>353756621.0</td>\n",
       "    </tr>\n",
       "    <tr>\n",
       "      <th>9</th>\n",
       "      <td>Animation</td>\n",
       "      <td>2015</td>\n",
       "      <td>301209748.5</td>\n",
       "    </tr>\n",
       "    <tr>\n",
       "      <th>10</th>\n",
       "      <td>Animation</td>\n",
       "      <td>2016</td>\n",
       "      <td>198612633.0</td>\n",
       "    </tr>\n",
       "    <tr>\n",
       "      <th>11</th>\n",
       "      <td>Animation</td>\n",
       "      <td>2017</td>\n",
       "      <td>383549151.0</td>\n",
       "    </tr>\n",
       "    <tr>\n",
       "      <th>12</th>\n",
       "      <td>Animation</td>\n",
       "      <td>2018</td>\n",
       "      <td>372570147.5</td>\n",
       "    </tr>\n",
       "    <tr>\n",
       "      <th>13</th>\n",
       "      <td>Live Action</td>\n",
       "      <td>2006</td>\n",
       "      <td>71315090.0</td>\n",
       "    </tr>\n",
       "    <tr>\n",
       "      <th>14</th>\n",
       "      <td>Live Action</td>\n",
       "      <td>2007</td>\n",
       "      <td>64232714.0</td>\n",
       "    </tr>\n",
       "    <tr>\n",
       "      <th>15</th>\n",
       "      <td>Live Action</td>\n",
       "      <td>2008</td>\n",
       "      <td>52649951.0</td>\n",
       "    </tr>\n",
       "    <tr>\n",
       "      <th>16</th>\n",
       "      <td>Live Action</td>\n",
       "      <td>2009</td>\n",
       "      <td>53679692.5</td>\n",
       "    </tr>\n",
       "    <tr>\n",
       "      <th>17</th>\n",
       "      <td>Live Action</td>\n",
       "      <td>2010</td>\n",
       "      <td>63355123.5</td>\n",
       "    </tr>\n",
       "    <tr>\n",
       "      <th>18</th>\n",
       "      <td>Live Action</td>\n",
       "      <td>2011</td>\n",
       "      <td>82925064.0</td>\n",
       "    </tr>\n",
       "    <tr>\n",
       "      <th>19</th>\n",
       "      <td>Live Action</td>\n",
       "      <td>2012</td>\n",
       "      <td>74326015.0</td>\n",
       "    </tr>\n",
       "    <tr>\n",
       "      <th>20</th>\n",
       "      <td>Live Action</td>\n",
       "      <td>2013</td>\n",
       "      <td>70949793.0</td>\n",
       "    </tr>\n",
       "    <tr>\n",
       "      <th>21</th>\n",
       "      <td>Live Action</td>\n",
       "      <td>2014</td>\n",
       "      <td>65282732.0</td>\n",
       "    </tr>\n",
       "    <tr>\n",
       "      <th>22</th>\n",
       "      <td>Live Action</td>\n",
       "      <td>2015</td>\n",
       "      <td>67591298.0</td>\n",
       "    </tr>\n",
       "    <tr>\n",
       "      <th>23</th>\n",
       "      <td>Live Action</td>\n",
       "      <td>2016</td>\n",
       "      <td>87120291.0</td>\n",
       "    </tr>\n",
       "    <tr>\n",
       "      <th>24</th>\n",
       "      <td>Live Action</td>\n",
       "      <td>2017</td>\n",
       "      <td>102445196.0</td>\n",
       "    </tr>\n",
       "    <tr>\n",
       "      <th>25</th>\n",
       "      <td>Live Action</td>\n",
       "      <td>2018</td>\n",
       "      <td>104233865.0</td>\n",
       "    </tr>\n",
       "  </tbody>\n",
       "</table>\n",
       "</div>"
      ],
      "text/plain": [
       "   prod_method_group  production_year  total_box_office\n",
       "0          Animation             2006       115954793.5\n",
       "1          Animation             2007       408383484.0\n",
       "2          Animation             2008       194980101.5\n",
       "3          Animation             2009       270997378.0\n",
       "4          Animation             2010       199256333.5\n",
       "5          Animation             2011       362485352.0\n",
       "6          Animation             2012       375740705.0\n",
       "7          Animation             2013       269806430.0\n",
       "8          Animation             2014       353756621.0\n",
       "9          Animation             2015       301209748.5\n",
       "10         Animation             2016       198612633.0\n",
       "11         Animation             2017       383549151.0\n",
       "12         Animation             2018       372570147.5\n",
       "13       Live Action             2006        71315090.0\n",
       "14       Live Action             2007        64232714.0\n",
       "15       Live Action             2008        52649951.0\n",
       "16       Live Action             2009        53679692.5\n",
       "17       Live Action             2010        63355123.5\n",
       "18       Live Action             2011        82925064.0\n",
       "19       Live Action             2012        74326015.0\n",
       "20       Live Action             2013        70949793.0\n",
       "21       Live Action             2014        65282732.0\n",
       "22       Live Action             2015        67591298.0\n",
       "23       Live Action             2016        87120291.0\n",
       "24       Live Action             2017       102445196.0\n",
       "25       Live Action             2018       104233865.0"
      ]
     },
     "execution_count": 43,
     "metadata": {},
     "output_type": "execute_result"
    }
   ],
   "source": [
    "# Dataframe to plot median total box office by year, and production year.\n",
    "\n",
    "intarg = (\n",
    "    mdo_clean\n",
    "    .groupby(['prod_method_group', 'production_year'])['total_box_office']\n",
    "    .median()\n",
    "    .reset_index()\n",
    "    )\n",
    "\n",
    "intarg"
   ]
  },
  {
   "cell_type": "code",
   "execution_count": 44,
   "metadata": {
    "ExecuteTime": {
     "end_time": "2022-08-03T17:26:44.810184Z",
     "start_time": "2022-08-03T17:26:44.388679Z"
    },
    "scrolled": false
   },
   "outputs": [
    {
     "data": {
      "image/png": "[encoded data removed]",
      "text/plain": [
       "<Figure size 864x432 with 1 Axes>"
      ]
     },
     "metadata": {
      "needs_background": "light"
     },
     "output_type": "display_data"
    }
   ],
   "source": [
    "# Chart to show grouping above of median total box office by production method group and year.\n",
    "\n",
    "fig, ax1 = plt.subplots(figsize=(12,6))\n",
    "\n",
    "sns.barplot(data = intarg, \n",
    "            x='production_year', \n",
    "            y='total_box_office', \n",
    "            hue='prod_method_group', \n",
    "            palette='BrBG')\n",
    "\n",
    "ax1.set_title('Total Box Office by Production Year & Production Method Group')\n",
    "ax1.set_xlabel('Production Year')\n",
    "ax1.set_ylabel('Median Total Box Office')\n",
    "ax1.legend(title = False, loc='upper left')\n",
    "\n",
    "fmt = '${x:,.0f}'\n",
    "tick = mtick.StrMethodFormatter(fmt)\n",
    "ax1.yaxis.set_major_formatter(tick);"
   ]
  },
  {
   "cell_type": "markdown",
   "metadata": {
    "ExecuteTime": {
     "end_time": "2022-08-03T15:47:40.539808Z",
     "start_time": "2022-08-03T15:47:40.535486Z"
    }
   },
   "source": [
    "Animated movies have a higher median total box office performance year over year.  We know this value is higher, but this chart shows that\n",
    "animated movies have performed this way consistently over time.  There is a little variance between years when looking at animated movies alone, however\n",
    "that is most likely due to the smaller sample size."
   ]
  },
  {
   "cell_type": "markdown",
   "metadata": {},
   "source": [
    "### Argument for Sequels\n",
    "\n",
    "Develop franchise movies to optimize box office performance and additional opportunities for monetization."
   ]
  },
  {
   "cell_type": "code",
   "execution_count": 45,
   "metadata": {
    "ExecuteTime": {
     "end_time": "2022-08-03T17:26:44.833520Z",
     "start_time": "2022-08-03T17:26:44.812921Z"
    },
    "scrolled": false
   },
   "outputs": [
    {
     "data": {
      "text/html": [
       "<div>\n",
       "<style scoped>\n",
       "    .dataframe tbody tr th:only-of-type {\n",
       "        vertical-align: middle;\n",
       "    }\n",
       "\n",
       "    .dataframe tbody tr th {\n",
       "        vertical-align: top;\n",
       "    }\n",
       "\n",
       "    .dataframe thead th {\n",
       "        text-align: right;\n",
       "    }\n",
       "</style>\n",
       "<table border=\"1\" class=\"dataframe\">\n",
       "  <thead>\n",
       "    <tr style=\"text-align: right;\">\n",
       "      <th></th>\n",
       "      <th>production_year</th>\n",
       "      <th>movie_odid</th>\n",
       "      <th>production_budget</th>\n",
       "      <th>domestic_box_office</th>\n",
       "      <th>international_box_office</th>\n",
       "      <th>running_time</th>\n",
       "      <th>total_box_office</th>\n",
       "      <th>return</th>\n",
       "      <th>percent_of_int</th>\n",
       "      <th>is_profitable</th>\n",
       "    </tr>\n",
       "    <tr>\n",
       "      <th>sequel</th>\n",
       "      <th></th>\n",
       "      <th></th>\n",
       "      <th></th>\n",
       "      <th></th>\n",
       "      <th></th>\n",
       "      <th></th>\n",
       "      <th></th>\n",
       "      <th></th>\n",
       "      <th></th>\n",
       "      <th></th>\n",
       "    </tr>\n",
       "  </thead>\n",
       "  <tbody>\n",
       "    <tr>\n",
       "      <th>0.0</th>\n",
       "      <td>2011.0</td>\n",
       "      <td>141835100.0</td>\n",
       "      <td>39000000.0</td>\n",
       "      <td>43684162.5</td>\n",
       "      <td>45732940.0</td>\n",
       "      <td>106.0</td>\n",
       "      <td>90140118.0</td>\n",
       "      <td>1.182864</td>\n",
       "      <td>0.508073</td>\n",
       "      <td>1.0</td>\n",
       "    </tr>\n",
       "    <tr>\n",
       "      <th>1.0</th>\n",
       "      <td>2013.0</td>\n",
       "      <td>160385100.0</td>\n",
       "      <td>125000000.0</td>\n",
       "      <td>139990127.5</td>\n",
       "      <td>243964033.5</td>\n",
       "      <td>113.0</td>\n",
       "      <td>385504519.0</td>\n",
       "      <td>2.599259</td>\n",
       "      <td>0.637483</td>\n",
       "      <td>1.0</td>\n",
       "    </tr>\n",
       "  </tbody>\n",
       "</table>\n",
       "</div>"
      ],
      "text/plain": [
       "        production_year   movie_odid  production_budget  domestic_box_office  \\\n",
       "sequel                                                                         \n",
       "0.0              2011.0  141835100.0         39000000.0           43684162.5   \n",
       "1.0              2013.0  160385100.0        125000000.0          139990127.5   \n",
       "\n",
       "        international_box_office  running_time  total_box_office    return  \\\n",
       "sequel                                                                       \n",
       "0.0                   45732940.0         106.0        90140118.0  1.182864   \n",
       "1.0                  243964033.5         113.0       385504519.0  2.599259   \n",
       "\n",
       "        percent_of_int  is_profitable  \n",
       "sequel                                 \n",
       "0.0           0.508073            1.0  \n",
       "1.0           0.637483            1.0  "
      ]
     },
     "execution_count": 45,
     "metadata": {},
     "output_type": "execute_result"
    }
   ],
   "source": [
    "# Group by sequel flag to understand impact within family movies.\n",
    "\n",
    "fam_mov.groupby('sequel').median()"
   ]
  },
  {
   "cell_type": "code",
   "execution_count": 46,
   "metadata": {
    "ExecuteTime": {
     "end_time": "2022-08-03T17:26:44.868573Z",
     "start_time": "2022-08-03T17:26:44.838645Z"
    }
   },
   "outputs": [
    {
     "data": {
      "text/html": [
       "<div>\n",
       "<style scoped>\n",
       "    .dataframe tbody tr th:only-of-type {\n",
       "        vertical-align: middle;\n",
       "    }\n",
       "\n",
       "    .dataframe tbody tr th {\n",
       "        vertical-align: top;\n",
       "    }\n",
       "\n",
       "    .dataframe thead th {\n",
       "        text-align: right;\n",
       "    }\n",
       "</style>\n",
       "<table border=\"1\" class=\"dataframe\">\n",
       "  <thead>\n",
       "    <tr style=\"text-align: right;\">\n",
       "      <th>sequel</th>\n",
       "      <th>0.0</th>\n",
       "      <th>1.0</th>\n",
       "    </tr>\n",
       "    <tr>\n",
       "      <th>production_year</th>\n",
       "      <th></th>\n",
       "      <th></th>\n",
       "    </tr>\n",
       "  </thead>\n",
       "  <tbody>\n",
       "    <tr>\n",
       "      <th>2006</th>\n",
       "      <td>0.785761</td>\n",
       "      <td>2.694373</td>\n",
       "    </tr>\n",
       "    <tr>\n",
       "      <th>2007</th>\n",
       "      <td>1.386720</td>\n",
       "      <td>2.415718</td>\n",
       "    </tr>\n",
       "    <tr>\n",
       "      <th>2008</th>\n",
       "      <td>1.149311</td>\n",
       "      <td>1.626732</td>\n",
       "    </tr>\n",
       "    <tr>\n",
       "      <th>2009</th>\n",
       "      <td>0.822305</td>\n",
       "      <td>2.740855</td>\n",
       "    </tr>\n",
       "    <tr>\n",
       "      <th>2010</th>\n",
       "      <td>1.131426</td>\n",
       "      <td>1.794282</td>\n",
       "    </tr>\n",
       "    <tr>\n",
       "      <th>2011</th>\n",
       "      <td>1.081241</td>\n",
       "      <td>2.930699</td>\n",
       "    </tr>\n",
       "    <tr>\n",
       "      <th>2012</th>\n",
       "      <td>0.894264</td>\n",
       "      <td>2.717942</td>\n",
       "    </tr>\n",
       "    <tr>\n",
       "      <th>2013</th>\n",
       "      <td>1.228403</td>\n",
       "      <td>2.583173</td>\n",
       "    </tr>\n",
       "    <tr>\n",
       "      <th>2014</th>\n",
       "      <td>1.731787</td>\n",
       "      <td>2.791125</td>\n",
       "    </tr>\n",
       "    <tr>\n",
       "      <th>2015</th>\n",
       "      <td>1.299485</td>\n",
       "      <td>2.876652</td>\n",
       "    </tr>\n",
       "    <tr>\n",
       "      <th>2016</th>\n",
       "      <td>1.524627</td>\n",
       "      <td>2.292976</td>\n",
       "    </tr>\n",
       "    <tr>\n",
       "      <th>2017</th>\n",
       "      <td>2.006765</td>\n",
       "      <td>3.199105</td>\n",
       "    </tr>\n",
       "    <tr>\n",
       "      <th>2018</th>\n",
       "      <td>1.652283</td>\n",
       "      <td>1.968023</td>\n",
       "    </tr>\n",
       "  </tbody>\n",
       "</table>\n",
       "</div>"
      ],
      "text/plain": [
       "sequel                0.0       1.0\n",
       "production_year                    \n",
       "2006             0.785761  2.694373\n",
       "2007             1.386720  2.415718\n",
       "2008             1.149311  1.626732\n",
       "2009             0.822305  2.740855\n",
       "2010             1.131426  1.794282\n",
       "2011             1.081241  2.930699\n",
       "2012             0.894264  2.717942\n",
       "2013             1.228403  2.583173\n",
       "2014             1.731787  2.791125\n",
       "2015             1.299485  2.876652\n",
       "2016             1.524627  2.292976\n",
       "2017             2.006765  3.199105\n",
       "2018             1.652283  1.968023"
      ]
     },
     "execution_count": 46,
     "metadata": {},
     "output_type": "execute_result"
    }
   ],
   "source": [
    "# create variable for grouping percent of international box office sequel, and year.\n",
    "\n",
    "fambox = pd.pivot_table(fam_mov, \n",
    "                        values='return', \n",
    "                        columns='sequel', \n",
    "                        index='production_year', \n",
    "                        aggfunc=np.median, \n",
    "                        fill_value=0)\n",
    "\n",
    "fambox"
   ]
  },
  {
   "cell_type": "code",
   "execution_count": 47,
   "metadata": {
    "ExecuteTime": {
     "end_time": "2022-08-03T17:26:45.171798Z",
     "start_time": "2022-08-03T17:26:44.870912Z"
    },
    "scrolled": false
   },
   "outputs": [
    {
     "data": {
      "image/png": "[encoded data removed]",
      "text/plain": [
       "<Figure size 864x432 with 1 Axes>"
      ]
     },
     "metadata": {
      "needs_background": "light"
     },
     "output_type": "display_data"
    }
   ],
   "source": [
    "# Chart showing data above\n",
    "\n",
    "fig, ax1 = plt.subplots(figsize=(12,6))\n",
    "\n",
    "sns.lineplot(data = fambox,\n",
    "             marker='o',\n",
    "             palette='BrBG')\n",
    "\n",
    "ax1.set_title('Family Movies ROI/ return by Production Year')\n",
    "ax1.set_xlabel('Production Year')\n",
    "ax1.set_ylabel('ROI/ return')\n",
    "ax1.legend(title = False, labels=['No Sequel', 'Has Sequel']);"
   ]
  },
  {
   "cell_type": "markdown",
   "metadata": {},
   "source": [
    "Movies that have a sequel have performed better on the international stage.  Having a higher percentage of international box office has a higher return median.  Thus with these variables, having a sequel or franchise based movies, will further ensure success for return on investment."
   ]
  },
  {
   "cell_type": "code",
   "execution_count": 48,
   "metadata": {
    "ExecuteTime": {
     "end_time": "2022-08-03T17:26:45.183014Z",
     "start_time": "2022-08-03T17:26:45.174689Z"
    }
   },
   "outputs": [
    {
     "data": {
      "text/plain": [
       "Live Action              846\n",
       "Digital Animation        135\n",
       "Animation/Live Action     73\n",
       "Stop-Motion Animation      9\n",
       "Hand Animation             5\n",
       "Name: production_method, dtype: int64"
      ]
     },
     "execution_count": 48,
     "metadata": {},
     "output_type": "execute_result"
    }
   ],
   "source": [
    "# high level view of genre movie counts, just understanding records between the categories.\n",
    "\n",
    "fam_mov['production_method'].value_counts()"
   ]
  },
  {
   "cell_type": "code",
   "execution_count": 49,
   "metadata": {
    "ExecuteTime": {
     "end_time": "2022-08-03T17:26:45.204017Z",
     "start_time": "2022-08-03T17:26:45.185422Z"
    }
   },
   "outputs": [
    {
     "data": {
      "text/html": [
       "<div>\n",
       "<style scoped>\n",
       "    .dataframe tbody tr th:only-of-type {\n",
       "        vertical-align: middle;\n",
       "    }\n",
       "\n",
       "    .dataframe tbody tr th {\n",
       "        vertical-align: top;\n",
       "    }\n",
       "\n",
       "    .dataframe thead th {\n",
       "        text-align: right;\n",
       "    }\n",
       "</style>\n",
       "<table border=\"1\" class=\"dataframe\">\n",
       "  <thead>\n",
       "    <tr style=\"text-align: right;\">\n",
       "      <th></th>\n",
       "      <th>sequel</th>\n",
       "      <th>production_method</th>\n",
       "      <th>return</th>\n",
       "    </tr>\n",
       "  </thead>\n",
       "  <tbody>\n",
       "    <tr>\n",
       "      <th>0</th>\n",
       "      <td>0.0</td>\n",
       "      <td>Animation/Live Action</td>\n",
       "      <td>1.867156</td>\n",
       "    </tr>\n",
       "    <tr>\n",
       "      <th>1</th>\n",
       "      <td>0.0</td>\n",
       "      <td>Digital Animation</td>\n",
       "      <td>1.447918</td>\n",
       "    </tr>\n",
       "    <tr>\n",
       "      <th>2</th>\n",
       "      <td>0.0</td>\n",
       "      <td>Hand Animation</td>\n",
       "      <td>1.580927</td>\n",
       "    </tr>\n",
       "    <tr>\n",
       "      <th>3</th>\n",
       "      <td>0.0</td>\n",
       "      <td>Live Action</td>\n",
       "      <td>1.131426</td>\n",
       "    </tr>\n",
       "    <tr>\n",
       "      <th>4</th>\n",
       "      <td>0.0</td>\n",
       "      <td>Stop-Motion Animation</td>\n",
       "      <td>0.865771</td>\n",
       "    </tr>\n",
       "    <tr>\n",
       "      <th>5</th>\n",
       "      <td>1.0</td>\n",
       "      <td>Animation/Live Action</td>\n",
       "      <td>2.841467</td>\n",
       "    </tr>\n",
       "    <tr>\n",
       "      <th>6</th>\n",
       "      <td>1.0</td>\n",
       "      <td>Digital Animation</td>\n",
       "      <td>2.856657</td>\n",
       "    </tr>\n",
       "    <tr>\n",
       "      <th>7</th>\n",
       "      <td>1.0</td>\n",
       "      <td>Live Action</td>\n",
       "      <td>2.468451</td>\n",
       "    </tr>\n",
       "  </tbody>\n",
       "</table>\n",
       "</div>"
      ],
      "text/plain": [
       "   sequel      production_method    return\n",
       "0     0.0  Animation/Live Action  1.867156\n",
       "1     0.0      Digital Animation  1.447918\n",
       "2     0.0         Hand Animation  1.580927\n",
       "3     0.0            Live Action  1.131426\n",
       "4     0.0  Stop-Motion Animation  0.865771\n",
       "5     1.0  Animation/Live Action  2.841467\n",
       "6     1.0      Digital Animation  2.856657\n",
       "7     1.0            Live Action  2.468451"
      ]
     },
     "execution_count": 49,
     "metadata": {},
     "output_type": "execute_result"
    }
   ],
   "source": [
    "# creating a pivot table for charting below.\n",
    "\n",
    "tabledf = (\n",
    "    fam_mov\n",
    "    .groupby(['sequel', 'production_method'])['return']\n",
    "    .median()\n",
    "    .reset_index()\n",
    "    )\n",
    "\n",
    "tabledf"
   ]
  },
  {
   "cell_type": "code",
   "execution_count": 50,
   "metadata": {
    "ExecuteTime": {
     "end_time": "2022-08-03T17:26:45.586397Z",
     "start_time": "2022-08-03T17:26:45.207010Z"
    }
   },
   "outputs": [
    {
     "data": {
      "image/png": "[encoded data removed]",
      "text/plain": [
       "<Figure size 864x432 with 1 Axes>"
      ]
     },
     "metadata": {
      "needs_background": "light"
     },
     "output_type": "display_data"
    }
   ],
   "source": [
    "labels = ['No Sequel', 'Has Sequel']\n",
    "\n",
    "fig, ax = plt.subplots(figsize=(12,6))\n",
    "\n",
    "sns.barplot(data = tabledf, \n",
    "            x='return', \n",
    "            y='production_method', \n",
    "            hue='sequel', \n",
    "            orient='h', \n",
    "            palette='BrBG'\n",
    "            )\n",
    "\n",
    "ax.set_title('Family Movie Median ROI/return by Production Method & Franchise')\n",
    "ax.set_xlabel('ROI/ return')\n",
    "ax.set_ylabel('Production Method')\n",
    "\n",
    "\n",
    "h, l = ax.get_legend_handles_labels()\n",
    "ax.legend(h, labels, loc='lower right');\n"
   ]
  },
  {
   "cell_type": "markdown",
   "metadata": {},
   "source": [
    "We know that movies with a sequel have a higher return.  In addition, family rated movies that have a sequel perform the best as animated films."
   ]
  },
  {
   "cell_type": "markdown",
   "metadata": {
    "heading_collapsed": true
   },
   "source": [
    "# Conclusion\n",
    "\n",
    "\n",
    "Most movies that were released in this data set (between 2006 and 2018, and have a budget of over $10M) are profitable.  However, when you start to look at the type of content (rating) of the movies, you can begin to dicern a higher probability of profitability.  Something that is really important for a company that is just beginning their content journey.\n",
    "\n",
    "For Microsoft, creating profitable movies from the start of the studio will help their chances of being successful, and funding additional films with revenue generated from previous movies.  In summary, focusing on these 3 movie attributes and distribution will make them most successful:\n",
    "\n",
    "1.  **Create G, PG, PG-13 (“Family”) rated movies to optimize ROI.**\n",
    "2.  **Animated movies perform the best at the box office.**\n",
    "3.  **Develop franchise movies to optimize box office performance & ROI.**\n",
    "\n"
   ]
  },
  {
   "cell_type": "markdown",
   "metadata": {
    "ExecuteTime": {
     "end_time": "2022-07-26T18:08:31.889330Z",
     "start_time": "2022-07-26T18:08:31.887085Z"
    }
   },
   "source": [
    "# Next Steps\n",
    "\n",
    "Further analyses could yield additional insights to further improve success at Microsoft:\n",
    "\n",
    "1. **Look at production studio data to determine inital success of movies types within the suggested rating categories.** \n",
    "2. **Understand review data and how it impacts success for both studio, and franchises.**\n",
    "3. **Look at sequel success in relation to cast consistency;  are people going to see the movie because of the story, or the cast.**"
   ]
  }
 ],
 "metadata": {
  "kernelspec": {
   "display_name": "Python 3",
   "language": "python",
   "name": "python3"
  },
  "language_info": {
   "codemirror_mode": {
    "name": "ipython",
    "version": 3
   },
   "file_extension": ".py",
   "mimetype": "text/x-python",
   "name": "python",
   "nbconvert_exporter": "python",
   "pygments_lexer": "ipython3",
   "version": "3.8.5"
  },
  "toc": {
   "base_numbering": 1,
   "nav_menu": {},
   "number_sections": true,
   "sideBar": true,
   "skip_h1_title": false,
   "title_cell": "Table of Contents",
   "title_sidebar": "Contents",
   "toc_cell": false,
   "toc_position": {
    "height": "calc(100% - 180px)",
    "left": "10px",
    "top": "150px",
    "width": "268.8px"
   },
   "toc_section_display": true,
   "toc_window_display": false
  }
 },
 "nbformat": 4,
 "nbformat_minor": 2
}
