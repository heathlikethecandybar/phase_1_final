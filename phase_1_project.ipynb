{
 "cells": [
  {
   "cell_type": "markdown",
   "metadata": {
    "ExecuteTime": {
     "end_time": "2022-07-26T18:07:17.858503Z",
     "start_time": "2022-07-26T18:07:17.856002Z"
    }
   },
   "source": [
    "# Microsoft Movie Studio Analysis \n",
    "\n",
    "\n",
    "* Student name/ Author: Heath Rittler\n",
    "* Student pace: self paced\n",
    "* Scheduled project review date/time: 8/1/2022\n",
    "* Instructor name: Claude Fried"
   ]
  },
  {
   "cell_type": "markdown",
   "metadata": {},
   "source": [
    "# Introduction\n",
    "Microsoft wants to create original video content. However, they do not know much about creating movies, or which types of movies are most successful at the box office. The purpose of this analysis is to evaluate box office data and to provide Microsoft with recommendations on which types of content would make them most successful in their endeavor.\n",
    "\n",
    "Suggestions for types of content:\n",
    "\n",
    "Create movies that have the highest ROI to maximize initial investment & early profitability.\n",
    "Focus on movies that are appealing to a broader audience and international box offices.\n",
    "Develop franchise movies to optimize box office performance and additional opportunities for monetization."
   ]
  },
  {
   "cell_type": "code",
   "execution_count": 116,
   "metadata": {
    "ExecuteTime": {
     "end_time": "2022-08-02T16:35:33.003193Z",
     "start_time": "2022-08-02T16:35:32.653052Z"
    }
   },
   "outputs": [],
   "source": [
    "# import cleaning, analysis, and charting packages\n",
    "\n",
    "import pandas as pd\n",
    "import numpy as np\n",
    "import sqlite3\n",
    "import requests as rq\n",
    "from sklearn.preprocessing import OneHotEncoder\n",
    "from zipfile import ZipFile\n",
    "from matplotlib import pyplot as plt\n",
    "import matplotlib.ticker as mtick\n",
    "import seaborn as sns\n",
    "\n",
    "\n",
    "%matplotlib inline\n",
    "plt.style.use('seaborn-talk')"
   ]
  },
  {
   "cell_type": "markdown",
   "metadata": {},
   "source": [
    "# Datasets explore\n",
    "Viewing and connecting to initial datasets that were provided.  Including dataset that I found as well through Opus."
   ]
  },
  {
   "cell_type": "markdown",
   "metadata": {
    "heading_collapsed": true
   },
   "source": [
    "## bom.movie_gross dataset"
   ]
  },
  {
   "cell_type": "code",
   "execution_count": 62,
   "metadata": {
    "ExecuteTime": {
     "end_time": "2022-07-27T14:15:02.195315Z",
     "start_time": "2022-07-27T14:15:02.177627Z"
    },
    "hidden": true
   },
   "outputs": [
    {
     "data": {
      "text/html": [
       "<div>\n",
       "<style scoped>\n",
       "    .dataframe tbody tr th:only-of-type {\n",
       "        vertical-align: middle;\n",
       "    }\n",
       "\n",
       "    .dataframe tbody tr th {\n",
       "        vertical-align: top;\n",
       "    }\n",
       "\n",
       "    .dataframe thead th {\n",
       "        text-align: right;\n",
       "    }\n",
       "</style>\n",
       "<table border=\"1\" class=\"dataframe\">\n",
       "  <thead>\n",
       "    <tr style=\"text-align: right;\">\n",
       "      <th></th>\n",
       "      <th>title</th>\n",
       "      <th>studio</th>\n",
       "      <th>domestic_gross</th>\n",
       "      <th>foreign_gross</th>\n",
       "      <th>year</th>\n",
       "    </tr>\n",
       "  </thead>\n",
       "  <tbody>\n",
       "    <tr>\n",
       "      <th>0</th>\n",
       "      <td>Toy Story 3</td>\n",
       "      <td>BV</td>\n",
       "      <td>415000000.0</td>\n",
       "      <td>652000000</td>\n",
       "      <td>2010</td>\n",
       "    </tr>\n",
       "    <tr>\n",
       "      <th>1</th>\n",
       "      <td>Alice in Wonderland (2010)</td>\n",
       "      <td>BV</td>\n",
       "      <td>334200000.0</td>\n",
       "      <td>691300000</td>\n",
       "      <td>2010</td>\n",
       "    </tr>\n",
       "    <tr>\n",
       "      <th>2</th>\n",
       "      <td>Harry Potter and the Deathly Hallows Part 1</td>\n",
       "      <td>WB</td>\n",
       "      <td>296000000.0</td>\n",
       "      <td>664300000</td>\n",
       "      <td>2010</td>\n",
       "    </tr>\n",
       "    <tr>\n",
       "      <th>3</th>\n",
       "      <td>Inception</td>\n",
       "      <td>WB</td>\n",
       "      <td>292600000.0</td>\n",
       "      <td>535700000</td>\n",
       "      <td>2010</td>\n",
       "    </tr>\n",
       "    <tr>\n",
       "      <th>4</th>\n",
       "      <td>Shrek Forever After</td>\n",
       "      <td>P/DW</td>\n",
       "      <td>238700000.0</td>\n",
       "      <td>513900000</td>\n",
       "      <td>2010</td>\n",
       "    </tr>\n",
       "  </tbody>\n",
       "</table>\n",
       "</div>"
      ],
      "text/plain": [
       "                                         title studio  domestic_gross  \\\n",
       "0                                  Toy Story 3     BV     415000000.0   \n",
       "1                   Alice in Wonderland (2010)     BV     334200000.0   \n",
       "2  Harry Potter and the Deathly Hallows Part 1     WB     296000000.0   \n",
       "3                                    Inception     WB     292600000.0   \n",
       "4                          Shrek Forever After   P/DW     238700000.0   \n",
       "\n",
       "  foreign_gross  year  \n",
       "0     652000000  2010  \n",
       "1     691300000  2010  \n",
       "2     664300000  2010  \n",
       "3     535700000  2010  \n",
       "4     513900000  2010  "
      ]
     },
     "execution_count": 62,
     "metadata": {},
     "output_type": "execute_result"
    }
   ],
   "source": [
    "df = pd.read_csv('data/bom.movie_gross.csv')\n",
    "df.head()\n",
    "## need tmdb.movies file for genres"
   ]
  },
  {
   "cell_type": "code",
   "execution_count": 63,
   "metadata": {
    "ExecuteTime": {
     "end_time": "2022-07-27T14:15:02.659936Z",
     "start_time": "2022-07-27T14:15:02.653761Z"
    },
    "hidden": true,
    "scrolled": false
   },
   "outputs": [
    {
     "name": "stdout",
     "output_type": "stream",
     "text": [
      "The \"bom.movie_gross.csv\" dataset starts in year 2010 and ends in 2018 .\n",
      "There are 3387 movie title records in the dataset.\n"
     ]
    }
   ],
   "source": [
    "print('The \"bom.movie_gross.csv\" dataset starts in year', df['year'].min(),'and ends in', df['year'].max(),'.')\n",
    "print('There are', df['title'].count(),'movie title records in the dataset.')"
   ]
  },
  {
   "cell_type": "code",
   "execution_count": 64,
   "metadata": {
    "ExecuteTime": {
     "end_time": "2022-07-27T14:15:03.122286Z",
     "start_time": "2022-07-27T14:15:03.115568Z"
    },
    "hidden": true,
    "scrolled": true
   },
   "outputs": [
    {
     "data": {
      "text/plain": [
       "title             False\n",
       "studio             True\n",
       "domestic_gross     True\n",
       "foreign_gross      True\n",
       "year              False\n",
       "dtype: bool"
      ]
     },
     "execution_count": 64,
     "metadata": {},
     "output_type": "execute_result"
    }
   ],
   "source": [
    "df.isna().any()"
   ]
  },
  {
   "cell_type": "code",
   "execution_count": 65,
   "metadata": {
    "ExecuteTime": {
     "end_time": "2022-07-27T14:15:03.634966Z",
     "start_time": "2022-07-27T14:15:03.626374Z"
    },
    "hidden": true
   },
   "outputs": [
    {
     "data": {
      "text/plain": [
       "0       652000000.0\n",
       "1       691300000.0\n",
       "2       664300000.0\n",
       "3       535700000.0\n",
       "4       513900000.0\n",
       "           ...     \n",
       "3382            0.0\n",
       "3383            0.0\n",
       "3384            0.0\n",
       "3385            0.0\n",
       "3386            0.0\n",
       "Name: foreign_gross, Length: 3387, dtype: float64"
      ]
     },
     "execution_count": 65,
     "metadata": {},
     "output_type": "execute_result"
    }
   ],
   "source": [
    "df['foreign_gross'].str.replace(\",\",\"\").fillna(0).astype(float)"
   ]
  },
  {
   "cell_type": "code",
   "execution_count": 66,
   "metadata": {
    "ExecuteTime": {
     "end_time": "2022-07-27T14:15:04.163410Z",
     "start_time": "2022-07-27T14:15:04.154754Z"
    },
    "hidden": true
   },
   "outputs": [],
   "source": [
    "#cleaning gnarliness in the foreign gross column and changing to int\n",
    "df['foreign_gross'] = pd.to_numeric(df['foreign_gross'], errors='coerce')\n",
    "df = df.dropna(subset=['foreign_gross'])\n",
    "df['foreign_gross'] = df['foreign_gross'].astype(int)"
   ]
  },
  {
   "cell_type": "code",
   "execution_count": 67,
   "metadata": {
    "ExecuteTime": {
     "end_time": "2022-07-27T14:15:04.724806Z",
     "start_time": "2022-07-27T14:15:04.713242Z"
    },
    "hidden": true,
    "scrolled": true
   },
   "outputs": [
    {
     "name": "stdout",
     "output_type": "stream",
     "text": [
      "<class 'pandas.core.frame.DataFrame'>\n",
      "Int64Index: 2002 entries, 0 to 3353\n",
      "Data columns (total 5 columns):\n",
      " #   Column          Non-Null Count  Dtype  \n",
      "---  ------          --------------  -----  \n",
      " 0   title           2002 non-null   object \n",
      " 1   studio          2002 non-null   object \n",
      " 2   domestic_gross  2002 non-null   float64\n",
      " 3   foreign_gross   2002 non-null   int64  \n",
      " 4   year            2002 non-null   int64  \n",
      "dtypes: float64(1), int64(2), object(2)\n",
      "memory usage: 93.8+ KB\n"
     ]
    }
   ],
   "source": [
    "df_clean = df.dropna(axis=0)\n",
    "df_clean.info()"
   ]
  },
  {
   "cell_type": "code",
   "execution_count": 70,
   "metadata": {
    "ExecuteTime": {
     "end_time": "2022-07-27T14:15:09.482137Z",
     "start_time": "2022-07-27T14:15:09.478194Z"
    },
    "hidden": true
   },
   "outputs": [],
   "source": [
    "df_clean.loc[:,'total_gross'] = (df_clean['domestic_gross'] \n",
    "                                 + df_clean['foreign_gross'])"
   ]
  },
  {
   "cell_type": "code",
   "execution_count": 69,
   "metadata": {
    "ExecuteTime": {
     "end_time": "2022-07-27T14:15:06.170737Z",
     "start_time": "2022-07-27T14:15:06.165960Z"
    },
    "hidden": true
   },
   "outputs": [
    {
     "name": "stdout",
     "output_type": "stream",
     "text": [
      "The \"bom.movie_gross.csv\" dataset starts in year 2010 and ends in 2018 .\n",
      "There are 2002 movie title records in the dataset.\n"
     ]
    }
   ],
   "source": [
    "print('The \"bom.movie_gross.csv\" dataset starts in year', df_clean['year'].min(),'and ends in', df_clean['year'].max(),'.')\n",
    "print('There are', df_clean['title'].count(),'movie title records in the dataset.')"
   ]
  },
  {
   "cell_type": "markdown",
   "metadata": {
    "heading_collapsed": true
   },
   "source": [
    "## tmdb.movies dataset"
   ]
  },
  {
   "cell_type": "code",
   "execution_count": 207,
   "metadata": {
    "ExecuteTime": {
     "end_time": "2022-07-24T18:33:47.843476Z",
     "start_time": "2022-07-24T18:33:47.830111Z"
    },
    "hidden": true
   },
   "outputs": [
    {
     "data": {
      "text/html": [
       "<div>\n",
       "<style scoped>\n",
       "    .dataframe tbody tr th:only-of-type {\n",
       "        vertical-align: middle;\n",
       "    }\n",
       "\n",
       "    .dataframe tbody tr th {\n",
       "        vertical-align: top;\n",
       "    }\n",
       "\n",
       "    .dataframe thead th {\n",
       "        text-align: right;\n",
       "    }\n",
       "</style>\n",
       "<table border=\"1\" class=\"dataframe\">\n",
       "  <thead>\n",
       "    <tr style=\"text-align: right;\">\n",
       "      <th></th>\n",
       "      <th>version https://git-lfs.github.com/spec/v1</th>\n",
       "    </tr>\n",
       "  </thead>\n",
       "  <tbody>\n",
       "    <tr>\n",
       "      <th>0</th>\n",
       "      <td>oid sha256:24ecd0e242d8ccafe144275656c1c1b3280...</td>\n",
       "    </tr>\n",
       "    <tr>\n",
       "      <th>1</th>\n",
       "      <td>size 2301228</td>\n",
       "    </tr>\n",
       "  </tbody>\n",
       "</table>\n",
       "</div>"
      ],
      "text/plain": [
       "          version https://git-lfs.github.com/spec/v1\n",
       "0  oid sha256:24ecd0e242d8ccafe144275656c1c1b3280...\n",
       "1                                       size 2301228"
      ]
     },
     "execution_count": 207,
     "metadata": {},
     "output_type": "execute_result"
    }
   ],
   "source": [
    "data = pd.read_csv('/Users/heathrittler/Flatiron/phase_1/capstone/phase_1_project/dsc-phase-1-project-v2-4/data/tmdb.movies.csv')\n",
    "data.head()"
   ]
  },
  {
   "cell_type": "markdown",
   "metadata": {
    "ExecuteTime": {
     "end_time": "2022-07-24T18:33:36.394623Z",
     "start_time": "2022-07-24T18:33:36.392133Z"
    },
    "heading_collapsed": true
   },
   "source": [
    "## budgets dataset"
   ]
  },
  {
   "cell_type": "code",
   "execution_count": 208,
   "metadata": {
    "ExecuteTime": {
     "end_time": "2022-07-24T18:33:49.207154Z",
     "start_time": "2022-07-24T18:33:49.194126Z"
    },
    "hidden": true
   },
   "outputs": [
    {
     "data": {
      "text/html": [
       "<div>\n",
       "<style scoped>\n",
       "    .dataframe tbody tr th:only-of-type {\n",
       "        vertical-align: middle;\n",
       "    }\n",
       "\n",
       "    .dataframe tbody tr th {\n",
       "        vertical-align: top;\n",
       "    }\n",
       "\n",
       "    .dataframe thead th {\n",
       "        text-align: right;\n",
       "    }\n",
       "</style>\n",
       "<table border=\"1\" class=\"dataframe\">\n",
       "  <thead>\n",
       "    <tr style=\"text-align: right;\">\n",
       "      <th></th>\n",
       "      <th>version https://git-lfs.github.com/spec/v1</th>\n",
       "    </tr>\n",
       "  </thead>\n",
       "  <tbody>\n",
       "    <tr>\n",
       "      <th>0</th>\n",
       "      <td>oid sha256:f5adafbc041f0d1cf8716b21751ddc46df6...</td>\n",
       "    </tr>\n",
       "    <tr>\n",
       "      <th>1</th>\n",
       "      <td>size 422521</td>\n",
       "    </tr>\n",
       "  </tbody>\n",
       "</table>\n",
       "</div>"
      ],
      "text/plain": [
       "          version https://git-lfs.github.com/spec/v1\n",
       "0  oid sha256:f5adafbc041f0d1cf8716b21751ddc46df6...\n",
       "1                                        size 422521"
      ]
     },
     "execution_count": 208,
     "metadata": {},
     "output_type": "execute_result"
    }
   ],
   "source": [
    "budgets = pd.read_csv('/Users/heathrittler/Flatiron/phase_1/capstone/phase_1_project/dsc-phase-1-project-v2-4/data/tn.movie_budgets.csv')\n",
    "budgets.head()"
   ]
  },
  {
   "cell_type": "markdown",
   "metadata": {
    "heading_collapsed": true
   },
   "source": [
    "## Mov_Info dataset"
   ]
  },
  {
   "cell_type": "code",
   "execution_count": 80,
   "metadata": {
    "ExecuteTime": {
     "end_time": "2022-07-24T17:37:04.272122Z",
     "start_time": "2022-07-24T17:37:04.265452Z"
    },
    "hidden": true
   },
   "outputs": [],
   "source": [
    "mov_info = pd.read_csv('//Users/heathrittler/Flatiron/phase_1/capstone/phase_1_project/dsc-phase-1-project-v2-4/data/rt.movie_info.tsv', sep='\\t')\n",
    "mov_info.head()\n",
    "#keep id, synopsis, rating, genre, theatre date, dvd date, runtime, studio"
   ]
  },
  {
   "cell_type": "markdown",
   "metadata": {
    "heading_collapsed": true
   },
   "source": [
    "## rt.reviews dataset"
   ]
  },
  {
   "cell_type": "code",
   "execution_count": 203,
   "metadata": {
    "ExecuteTime": {
     "end_time": "2022-07-24T18:31:04.274375Z",
     "start_time": "2022-07-24T18:31:04.264330Z"
    },
    "hidden": true
   },
   "outputs": [],
   "source": [
    "reviews = pd.read_csv('/Users/heathrittler/Flatiron/phase_1/capstone/phase_1_project/dsc-phase-1-project-v2-4/data/rt.reviews.tsv', sep='\\t', encoding= 'unicode_escape')\n",
    "reviews.head()"
   ]
  },
  {
   "cell_type": "markdown",
   "metadata": {
    "ExecuteTime": {
     "end_time": "2022-07-24T18:01:38.406786Z",
     "start_time": "2022-07-24T18:01:38.403962Z"
    }
   },
   "source": [
    "## Movies SQL database"
   ]
  },
  {
   "cell_type": "code",
   "execution_count": 189,
   "metadata": {
    "ExecuteTime": {
     "end_time": "2022-08-02T17:11:05.433680Z",
     "start_time": "2022-08-02T17:11:01.390037Z"
    },
    "scrolled": true
   },
   "outputs": [],
   "source": [
    "# movie_basics and movie_ratings tables are most relevant\n",
    "conn = sqlite3.connect('/Users/heathrittler/Desktop/data/im.db')\n",
    "\n",
    "lang = pd.read_sql(\"\"\"SELECT * FROM movie_basics mb \n",
    "            LEFT JOIN movie_akas ma ON mb.movie_id = ma.movie_id\n",
    "            ;\"\"\", conn)"
   ]
  },
  {
   "cell_type": "code",
   "execution_count": 190,
   "metadata": {
    "ExecuteTime": {
     "end_time": "2022-08-02T17:11:05.583039Z",
     "start_time": "2022-08-02T17:11:05.436417Z"
    },
    "scrolled": false
   },
   "outputs": [
    {
     "name": "stdout",
     "output_type": "stream",
     "text": [
      "<class 'pandas.core.frame.DataFrame'>\n",
      "Int64Index: 41715 entries, 0 to 355535\n",
      "Data columns (total 14 columns):\n",
      " #   Column             Non-Null Count  Dtype  \n",
      "---  ------             --------------  -----  \n",
      " 0   movie_id           41715 non-null  object \n",
      " 1   primary_title      41715 non-null  object \n",
      " 2   original_title     41715 non-null  object \n",
      " 3   start_year         41715 non-null  int64  \n",
      " 4   runtime_minutes    39550 non-null  float64\n",
      " 5   genres             41355 non-null  object \n",
      " 6   movie_id           41715 non-null  object \n",
      " 7   ordering           41715 non-null  float64\n",
      " 8   title              41715 non-null  object \n",
      " 9   region             41715 non-null  object \n",
      " 10  language           41715 non-null  object \n",
      " 11  types              31069 non-null  object \n",
      " 12  attributes         5323 non-null   object \n",
      " 13  is_original_title  41715 non-null  float64\n",
      "dtypes: float64(3), int64(1), object(10)\n",
      "memory usage: 4.8+ MB\n"
     ]
    }
   ],
   "source": [
    "lang_clean = lang[lang['language'].notnull()]\n",
    "lang_clean.info()"
   ]
  },
  {
   "cell_type": "code",
   "execution_count": 191,
   "metadata": {
    "ExecuteTime": {
     "end_time": "2022-08-02T17:11:05.773934Z",
     "start_time": "2022-08-02T17:11:05.586274Z"
    }
   },
   "outputs": [
    {
     "data": {
      "text/plain": [
       "<AxesSubplot:>"
      ]
     },
     "execution_count": 191,
     "metadata": {},
     "output_type": "execute_result"
    },
    {
     "data": {
      "image/png": "[encoded data removed]",
      "text/plain": [
       "<Figure size 748.8x514.8 with 1 Axes>"
      ]
     },
     "metadata": {
      "needs_background": "light"
     },
     "output_type": "display_data"
    }
   ],
   "source": [
    "lang_clean['language'].value_counts().plot()"
   ]
  },
  {
   "cell_type": "code",
   "execution_count": 254,
   "metadata": {
    "ExecuteTime": {
     "end_time": "2022-07-24T19:14:38.826790Z",
     "start_time": "2022-07-24T19:14:38.824074Z"
    }
   },
   "outputs": [],
   "source": [
    "conn.close()"
   ]
  },
  {
   "cell_type": "markdown",
   "metadata": {
    "heading_collapsed": true
   },
   "source": [
    "## Opus Movie Data"
   ]
  },
  {
   "cell_type": "code",
   "execution_count": 23,
   "metadata": {
    "ExecuteTime": {
     "end_time": "2022-08-02T12:22:08.489308Z",
     "start_time": "2022-08-02T12:22:08.464331Z"
    },
    "hidden": true,
    "scrolled": false
   },
   "outputs": [
    {
     "data": {
      "text/html": [
       "<div>\n",
       "<style scoped>\n",
       "    .dataframe tbody tr th:only-of-type {\n",
       "        vertical-align: middle;\n",
       "    }\n",
       "\n",
       "    .dataframe tbody tr th {\n",
       "        vertical-align: top;\n",
       "    }\n",
       "\n",
       "    .dataframe thead th {\n",
       "        text-align: right;\n",
       "    }\n",
       "</style>\n",
       "<table border=\"1\" class=\"dataframe\">\n",
       "  <thead>\n",
       "    <tr style=\"text-align: right;\">\n",
       "      <th></th>\n",
       "      <th>movie_name</th>\n",
       "      <th>production_year</th>\n",
       "      <th>movie_odid</th>\n",
       "      <th>production_budget</th>\n",
       "      <th>domestic_box_office</th>\n",
       "      <th>international_box_office</th>\n",
       "      <th>rating</th>\n",
       "      <th>creative_type</th>\n",
       "      <th>source</th>\n",
       "      <th>production_method</th>\n",
       "      <th>genre</th>\n",
       "      <th>sequel</th>\n",
       "      <th>running_time</th>\n",
       "    </tr>\n",
       "  </thead>\n",
       "  <tbody>\n",
       "    <tr>\n",
       "      <th>0</th>\n",
       "      <td>Madea's Family Reunion</td>\n",
       "      <td>2006</td>\n",
       "      <td>8220100</td>\n",
       "      <td>10000000</td>\n",
       "      <td>63257940</td>\n",
       "      <td>62581</td>\n",
       "      <td>PG-13</td>\n",
       "      <td>Contemporary Fiction</td>\n",
       "      <td>Based on Play</td>\n",
       "      <td>Live Action</td>\n",
       "      <td>Comedy</td>\n",
       "      <td>1.0</td>\n",
       "      <td>NaN</td>\n",
       "    </tr>\n",
       "    <tr>\n",
       "      <th>1</th>\n",
       "      <td>Krrish</td>\n",
       "      <td>2006</td>\n",
       "      <td>58540100</td>\n",
       "      <td>10000000</td>\n",
       "      <td>1430721</td>\n",
       "      <td>31000000</td>\n",
       "      <td>Not Rated</td>\n",
       "      <td>Science Fiction</td>\n",
       "      <td>Original Screenplay</td>\n",
       "      <td>Live Action</td>\n",
       "      <td>Action</td>\n",
       "      <td>1.0</td>\n",
       "      <td>NaN</td>\n",
       "    </tr>\n",
       "    <tr>\n",
       "      <th>2</th>\n",
       "      <td>End of the Spear</td>\n",
       "      <td>2006</td>\n",
       "      <td>34620100</td>\n",
       "      <td>10000000</td>\n",
       "      <td>11748661</td>\n",
       "      <td>175380</td>\n",
       "      <td>PG-13</td>\n",
       "      <td>Historical Fiction</td>\n",
       "      <td>Original Screenplay</td>\n",
       "      <td>Live Action</td>\n",
       "      <td>Drama</td>\n",
       "      <td>0.0</td>\n",
       "      <td>NaN</td>\n",
       "    </tr>\n",
       "    <tr>\n",
       "      <th>3</th>\n",
       "      <td>A Prairie Home Companion</td>\n",
       "      <td>2006</td>\n",
       "      <td>24910100</td>\n",
       "      <td>10000000</td>\n",
       "      <td>20342852</td>\n",
       "      <td>6373339</td>\n",
       "      <td>PG-13</td>\n",
       "      <td>Contemporary Fiction</td>\n",
       "      <td>Original Screenplay</td>\n",
       "      <td>Live Action</td>\n",
       "      <td>Comedy</td>\n",
       "      <td>0.0</td>\n",
       "      <td>105.0</td>\n",
       "    </tr>\n",
       "    <tr>\n",
       "      <th>4</th>\n",
       "      <td>Saw III</td>\n",
       "      <td>2006</td>\n",
       "      <td>5840100</td>\n",
       "      <td>10000000</td>\n",
       "      <td>80238724</td>\n",
       "      <td>83638091</td>\n",
       "      <td>R</td>\n",
       "      <td>Contemporary Fiction</td>\n",
       "      <td>Original Screenplay</td>\n",
       "      <td>Live Action</td>\n",
       "      <td>Horror</td>\n",
       "      <td>1.0</td>\n",
       "      <td>NaN</td>\n",
       "    </tr>\n",
       "  </tbody>\n",
       "</table>\n",
       "</div>"
      ],
      "text/plain": [
       "                 movie_name  production_year  movie_odid  production_budget  \\\n",
       "0    Madea's Family Reunion             2006     8220100           10000000   \n",
       "1                    Krrish             2006    58540100           10000000   \n",
       "2          End of the Spear             2006    34620100           10000000   \n",
       "3  A Prairie Home Companion             2006    24910100           10000000   \n",
       "4                   Saw III             2006     5840100           10000000   \n",
       "\n",
       "   domestic_box_office  international_box_office     rating  \\\n",
       "0             63257940                     62581      PG-13   \n",
       "1              1430721                  31000000  Not Rated   \n",
       "2             11748661                    175380      PG-13   \n",
       "3             20342852                   6373339      PG-13   \n",
       "4             80238724                  83638091          R   \n",
       "\n",
       "          creative_type               source production_method   genre  \\\n",
       "0  Contemporary Fiction        Based on Play       Live Action  Comedy   \n",
       "1       Science Fiction  Original Screenplay       Live Action  Action   \n",
       "2    Historical Fiction  Original Screenplay       Live Action   Drama   \n",
       "3  Contemporary Fiction  Original Screenplay       Live Action  Comedy   \n",
       "4  Contemporary Fiction  Original Screenplay       Live Action  Horror   \n",
       "\n",
       "   sequel  running_time  \n",
       "0     1.0           NaN  \n",
       "1     1.0           NaN  \n",
       "2     0.0           NaN  \n",
       "3     0.0         105.0  \n",
       "4     1.0           NaN  "
      ]
     },
     "execution_count": 23,
     "metadata": {},
     "output_type": "execute_result"
    }
   ],
   "source": [
    "mdo = pd.read_csv('data/MovieData.csv')\n",
    "mdo.head()"
   ]
  },
  {
   "cell_type": "markdown",
   "metadata": {
    "ExecuteTime": {
     "end_time": "2022-07-24T18:32:13.695186Z",
     "start_time": "2022-07-24T18:32:13.693140Z"
    }
   },
   "source": [
    "# Opus Movie Data Selection"
   ]
  },
  {
   "cell_type": "markdown",
   "metadata": {},
   "source": [
    "## OpusData ***Cleaning***"
   ]
  },
  {
   "cell_type": "code",
   "execution_count": 120,
   "metadata": {
    "ExecuteTime": {
     "end_time": "2022-08-02T16:35:42.771675Z",
     "start_time": "2022-08-02T16:35:42.746001Z"
    }
   },
   "outputs": [
    {
     "name": "stdout",
     "output_type": "stream",
     "text": [
      "<class 'pandas.core.frame.DataFrame'>\n",
      "RangeIndex: 1936 entries, 0 to 1935\n",
      "Data columns (total 13 columns):\n",
      " #   Column                    Non-Null Count  Dtype  \n",
      "---  ------                    --------------  -----  \n",
      " 0   movie_name                1936 non-null   object \n",
      " 1   production_year           1936 non-null   int64  \n",
      " 2   movie_odid                1936 non-null   int64  \n",
      " 3   production_budget         1936 non-null   int64  \n",
      " 4   domestic_box_office       1936 non-null   int64  \n",
      " 5   international_box_office  1936 non-null   int64  \n",
      " 6   rating                    1913 non-null   object \n",
      " 7   creative_type             1923 non-null   object \n",
      " 8   source                    1915 non-null   object \n",
      " 9   production_method         1925 non-null   object \n",
      " 10  genre                     1926 non-null   object \n",
      " 11  sequel                    1934 non-null   float64\n",
      " 12  running_time              1822 non-null   float64\n",
      "dtypes: float64(2), int64(5), object(6)\n",
      "memory usage: 196.8+ KB\n"
     ]
    }
   ],
   "source": [
    "# read in dataframe from OpusData CSV.\n",
    "df = pd.read_csv('data/MovieData.csv')\n",
    "df.info()"
   ]
  },
  {
   "cell_type": "code",
   "execution_count": 121,
   "metadata": {
    "ExecuteTime": {
     "end_time": "2022-08-02T16:35:44.834339Z",
     "start_time": "2022-08-02T16:35:44.817279Z"
    }
   },
   "outputs": [
    {
     "name": "stdout",
     "output_type": "stream",
     "text": [
      "<class 'pandas.core.frame.DataFrame'>\n",
      "Int64Index: 1795 entries, 3 to 1935\n",
      "Data columns (total 13 columns):\n",
      " #   Column                    Non-Null Count  Dtype  \n",
      "---  ------                    --------------  -----  \n",
      " 0   movie_name                1795 non-null   object \n",
      " 1   production_year           1795 non-null   int64  \n",
      " 2   movie_odid                1795 non-null   int64  \n",
      " 3   production_budget         1795 non-null   int64  \n",
      " 4   domestic_box_office       1795 non-null   int64  \n",
      " 5   international_box_office  1795 non-null   int64  \n",
      " 6   rating                    1795 non-null   object \n",
      " 7   creative_type             1795 non-null   object \n",
      " 8   source                    1795 non-null   object \n",
      " 9   production_method         1795 non-null   object \n",
      " 10  genre                     1795 non-null   object \n",
      " 11  sequel                    1795 non-null   float64\n",
      " 12  running_time              1795 non-null   float64\n",
      "dtypes: float64(2), int64(5), object(6)\n",
      "memory usage: 196.3+ KB\n"
     ]
    }
   ],
   "source": [
    "# removed na data from the dataset.  1,795 values remain.\n",
    "mdo = df.dropna(axis=0)\n",
    "mdo.info()"
   ]
  },
  {
   "cell_type": "markdown",
   "metadata": {},
   "source": [
    "Cleaned dataframe and created a new variable called 'mdo_clean'.  This variable which now includes 1,795 records will be the dataset in which I perform my analysis.  After viewing the the fields available, I have decided to create a few additional measures and categorical variables or dimensions."
   ]
  },
  {
   "cell_type": "code",
   "execution_count": 122,
   "metadata": {
    "ExecuteTime": {
     "end_time": "2022-08-02T16:35:45.939616Z",
     "start_time": "2022-08-02T16:35:45.916198Z"
    },
    "scrolled": false
   },
   "outputs": [
    {
     "data": {
      "text/html": [
       "<div>\n",
       "<style scoped>\n",
       "    .dataframe tbody tr th:only-of-type {\n",
       "        vertical-align: middle;\n",
       "    }\n",
       "\n",
       "    .dataframe tbody tr th {\n",
       "        vertical-align: top;\n",
       "    }\n",
       "\n",
       "    .dataframe thead th {\n",
       "        text-align: right;\n",
       "    }\n",
       "</style>\n",
       "<table border=\"1\" class=\"dataframe\">\n",
       "  <thead>\n",
       "    <tr style=\"text-align: right;\">\n",
       "      <th></th>\n",
       "      <th>movie_name</th>\n",
       "      <th>production_year</th>\n",
       "      <th>movie_odid</th>\n",
       "      <th>production_budget</th>\n",
       "      <th>domestic_box_office</th>\n",
       "      <th>international_box_office</th>\n",
       "      <th>rating</th>\n",
       "      <th>creative_type</th>\n",
       "      <th>source</th>\n",
       "      <th>production_method</th>\n",
       "      <th>genre</th>\n",
       "      <th>sequel</th>\n",
       "      <th>running_time</th>\n",
       "      <th>total_box_office</th>\n",
       "    </tr>\n",
       "  </thead>\n",
       "  <tbody>\n",
       "    <tr>\n",
       "      <th>3</th>\n",
       "      <td>A Prairie Home Companion</td>\n",
       "      <td>2006</td>\n",
       "      <td>24910100</td>\n",
       "      <td>10000000</td>\n",
       "      <td>20342852</td>\n",
       "      <td>6373339</td>\n",
       "      <td>PG-13</td>\n",
       "      <td>Contemporary Fiction</td>\n",
       "      <td>Original Screenplay</td>\n",
       "      <td>Live Action</td>\n",
       "      <td>Comedy</td>\n",
       "      <td>0.0</td>\n",
       "      <td>105.0</td>\n",
       "      <td>26716191</td>\n",
       "    </tr>\n",
       "    <tr>\n",
       "      <th>5</th>\n",
       "      <td>Employee of the Month</td>\n",
       "      <td>2006</td>\n",
       "      <td>19540100</td>\n",
       "      <td>10000000</td>\n",
       "      <td>28444855</td>\n",
       "      <td>9920000</td>\n",
       "      <td>PG-13</td>\n",
       "      <td>Contemporary Fiction</td>\n",
       "      <td>Original Screenplay</td>\n",
       "      <td>Live Action</td>\n",
       "      <td>Comedy</td>\n",
       "      <td>0.0</td>\n",
       "      <td>108.0</td>\n",
       "      <td>38364855</td>\n",
       "    </tr>\n",
       "    <tr>\n",
       "      <th>13</th>\n",
       "      <td>Crank</td>\n",
       "      <td>2006</td>\n",
       "      <td>19850100</td>\n",
       "      <td>12000000</td>\n",
       "      <td>27838408</td>\n",
       "      <td>16086515</td>\n",
       "      <td>R</td>\n",
       "      <td>Contemporary Fiction</td>\n",
       "      <td>Original Screenplay</td>\n",
       "      <td>Live Action</td>\n",
       "      <td>Action</td>\n",
       "      <td>0.0</td>\n",
       "      <td>88.0</td>\n",
       "      <td>43924923</td>\n",
       "    </tr>\n",
       "    <tr>\n",
       "      <th>14</th>\n",
       "      <td>Fateless</td>\n",
       "      <td>2006</td>\n",
       "      <td>75540100</td>\n",
       "      <td>12000000</td>\n",
       "      <td>196857</td>\n",
       "      <td>0</td>\n",
       "      <td>R</td>\n",
       "      <td>Historical Fiction</td>\n",
       "      <td>Based on Fiction Book/Short Story</td>\n",
       "      <td>Live Action</td>\n",
       "      <td>Drama</td>\n",
       "      <td>0.0</td>\n",
       "      <td>140.0</td>\n",
       "      <td>196857</td>\n",
       "    </tr>\n",
       "    <tr>\n",
       "      <th>16</th>\n",
       "      <td>Step Up</td>\n",
       "      <td>2006</td>\n",
       "      <td>7780100</td>\n",
       "      <td>12000000</td>\n",
       "      <td>65328121</td>\n",
       "      <td>45661036</td>\n",
       "      <td>PG-13</td>\n",
       "      <td>Contemporary Fiction</td>\n",
       "      <td>Original Screenplay</td>\n",
       "      <td>Live Action</td>\n",
       "      <td>Drama</td>\n",
       "      <td>0.0</td>\n",
       "      <td>103.0</td>\n",
       "      <td>110989157</td>\n",
       "    </tr>\n",
       "  </tbody>\n",
       "</table>\n",
       "</div>"
      ],
      "text/plain": [
       "                  movie_name  production_year  movie_odid  production_budget  \\\n",
       "3   A Prairie Home Companion             2006    24910100           10000000   \n",
       "5      Employee of the Month             2006    19540100           10000000   \n",
       "13                     Crank             2006    19850100           12000000   \n",
       "14                  Fateless             2006    75540100           12000000   \n",
       "16                   Step Up             2006     7780100           12000000   \n",
       "\n",
       "    domestic_box_office  international_box_office rating  \\\n",
       "3              20342852                   6373339  PG-13   \n",
       "5              28444855                   9920000  PG-13   \n",
       "13             27838408                  16086515      R   \n",
       "14               196857                         0      R   \n",
       "16             65328121                  45661036  PG-13   \n",
       "\n",
       "           creative_type                             source production_method  \\\n",
       "3   Contemporary Fiction                Original Screenplay       Live Action   \n",
       "5   Contemporary Fiction                Original Screenplay       Live Action   \n",
       "13  Contemporary Fiction                Original Screenplay       Live Action   \n",
       "14    Historical Fiction  Based on Fiction Book/Short Story       Live Action   \n",
       "16  Contemporary Fiction                Original Screenplay       Live Action   \n",
       "\n",
       "     genre  sequel  running_time  total_box_office  \n",
       "3   Comedy     0.0         105.0          26716191  \n",
       "5   Comedy     0.0         108.0          38364855  \n",
       "13  Action     0.0          88.0          43924923  \n",
       "14   Drama     0.0         140.0            196857  \n",
       "16   Drama     0.0         103.0         110989157  "
      ]
     },
     "execution_count": 122,
     "metadata": {},
     "output_type": "execute_result"
    }
   ],
   "source": [
    "# Adding total box office metric, which is the sum of the domestic and international box offices.\n",
    "mdo_clean = mdo.copy()\n",
    "mdo_clean.loc[:,'total_box_office'] = (\n",
    "    mdo['domestic_box_office'] + mdo['international_box_office']\n",
    "    )\n",
    "\n",
    "mdo_clean.head()\n"
   ]
  },
  {
   "cell_type": "code",
   "execution_count": 123,
   "metadata": {
    "ExecuteTime": {
     "end_time": "2022-08-02T16:35:46.423780Z",
     "start_time": "2022-08-02T16:35:46.401212Z"
    },
    "scrolled": true
   },
   "outputs": [
    {
     "data": {
      "text/html": [
       "<div>\n",
       "<style scoped>\n",
       "    .dataframe tbody tr th:only-of-type {\n",
       "        vertical-align: middle;\n",
       "    }\n",
       "\n",
       "    .dataframe tbody tr th {\n",
       "        vertical-align: top;\n",
       "    }\n",
       "\n",
       "    .dataframe thead th {\n",
       "        text-align: right;\n",
       "    }\n",
       "</style>\n",
       "<table border=\"1\" class=\"dataframe\">\n",
       "  <thead>\n",
       "    <tr style=\"text-align: right;\">\n",
       "      <th></th>\n",
       "      <th>movie_name</th>\n",
       "      <th>production_year</th>\n",
       "      <th>movie_odid</th>\n",
       "      <th>production_budget</th>\n",
       "      <th>domestic_box_office</th>\n",
       "      <th>international_box_office</th>\n",
       "      <th>rating</th>\n",
       "      <th>creative_type</th>\n",
       "      <th>source</th>\n",
       "      <th>production_method</th>\n",
       "      <th>genre</th>\n",
       "      <th>sequel</th>\n",
       "      <th>running_time</th>\n",
       "      <th>total_box_office</th>\n",
       "      <th>return</th>\n",
       "    </tr>\n",
       "  </thead>\n",
       "  <tbody>\n",
       "    <tr>\n",
       "      <th>3</th>\n",
       "      <td>A Prairie Home Companion</td>\n",
       "      <td>2006</td>\n",
       "      <td>24910100</td>\n",
       "      <td>10000000</td>\n",
       "      <td>20342852</td>\n",
       "      <td>6373339</td>\n",
       "      <td>PG-13</td>\n",
       "      <td>Contemporary Fiction</td>\n",
       "      <td>Original Screenplay</td>\n",
       "      <td>Live Action</td>\n",
       "      <td>Comedy</td>\n",
       "      <td>0.0</td>\n",
       "      <td>105.0</td>\n",
       "      <td>26716191</td>\n",
       "      <td>1.671619</td>\n",
       "    </tr>\n",
       "    <tr>\n",
       "      <th>5</th>\n",
       "      <td>Employee of the Month</td>\n",
       "      <td>2006</td>\n",
       "      <td>19540100</td>\n",
       "      <td>10000000</td>\n",
       "      <td>28444855</td>\n",
       "      <td>9920000</td>\n",
       "      <td>PG-13</td>\n",
       "      <td>Contemporary Fiction</td>\n",
       "      <td>Original Screenplay</td>\n",
       "      <td>Live Action</td>\n",
       "      <td>Comedy</td>\n",
       "      <td>0.0</td>\n",
       "      <td>108.0</td>\n",
       "      <td>38364855</td>\n",
       "      <td>2.836486</td>\n",
       "    </tr>\n",
       "    <tr>\n",
       "      <th>13</th>\n",
       "      <td>Crank</td>\n",
       "      <td>2006</td>\n",
       "      <td>19850100</td>\n",
       "      <td>12000000</td>\n",
       "      <td>27838408</td>\n",
       "      <td>16086515</td>\n",
       "      <td>R</td>\n",
       "      <td>Contemporary Fiction</td>\n",
       "      <td>Original Screenplay</td>\n",
       "      <td>Live Action</td>\n",
       "      <td>Action</td>\n",
       "      <td>0.0</td>\n",
       "      <td>88.0</td>\n",
       "      <td>43924923</td>\n",
       "      <td>2.660410</td>\n",
       "    </tr>\n",
       "    <tr>\n",
       "      <th>14</th>\n",
       "      <td>Fateless</td>\n",
       "      <td>2006</td>\n",
       "      <td>75540100</td>\n",
       "      <td>12000000</td>\n",
       "      <td>196857</td>\n",
       "      <td>0</td>\n",
       "      <td>R</td>\n",
       "      <td>Historical Fiction</td>\n",
       "      <td>Based on Fiction Book/Short Story</td>\n",
       "      <td>Live Action</td>\n",
       "      <td>Drama</td>\n",
       "      <td>0.0</td>\n",
       "      <td>140.0</td>\n",
       "      <td>196857</td>\n",
       "      <td>-0.983595</td>\n",
       "    </tr>\n",
       "    <tr>\n",
       "      <th>16</th>\n",
       "      <td>Step Up</td>\n",
       "      <td>2006</td>\n",
       "      <td>7780100</td>\n",
       "      <td>12000000</td>\n",
       "      <td>65328121</td>\n",
       "      <td>45661036</td>\n",
       "      <td>PG-13</td>\n",
       "      <td>Contemporary Fiction</td>\n",
       "      <td>Original Screenplay</td>\n",
       "      <td>Live Action</td>\n",
       "      <td>Drama</td>\n",
       "      <td>0.0</td>\n",
       "      <td>103.0</td>\n",
       "      <td>110989157</td>\n",
       "      <td>8.249096</td>\n",
       "    </tr>\n",
       "  </tbody>\n",
       "</table>\n",
       "</div>"
      ],
      "text/plain": [
       "                  movie_name  production_year  movie_odid  production_budget  \\\n",
       "3   A Prairie Home Companion             2006    24910100           10000000   \n",
       "5      Employee of the Month             2006    19540100           10000000   \n",
       "13                     Crank             2006    19850100           12000000   \n",
       "14                  Fateless             2006    75540100           12000000   \n",
       "16                   Step Up             2006     7780100           12000000   \n",
       "\n",
       "    domestic_box_office  international_box_office rating  \\\n",
       "3              20342852                   6373339  PG-13   \n",
       "5              28444855                   9920000  PG-13   \n",
       "13             27838408                  16086515      R   \n",
       "14               196857                         0      R   \n",
       "16             65328121                  45661036  PG-13   \n",
       "\n",
       "           creative_type                             source production_method  \\\n",
       "3   Contemporary Fiction                Original Screenplay       Live Action   \n",
       "5   Contemporary Fiction                Original Screenplay       Live Action   \n",
       "13  Contemporary Fiction                Original Screenplay       Live Action   \n",
       "14    Historical Fiction  Based on Fiction Book/Short Story       Live Action   \n",
       "16  Contemporary Fiction                Original Screenplay       Live Action   \n",
       "\n",
       "     genre  sequel  running_time  total_box_office    return  \n",
       "3   Comedy     0.0         105.0          26716191  1.671619  \n",
       "5   Comedy     0.0         108.0          38364855  2.836486  \n",
       "13  Action     0.0          88.0          43924923  2.660410  \n",
       "14   Drama     0.0         140.0            196857 -0.983595  \n",
       "16   Drama     0.0         103.0         110989157  8.249096  "
      ]
     },
     "execution_count": 123,
     "metadata": {},
     "output_type": "execute_result"
    }
   ],
   "source": [
    "# Adding ROI cacluation (total box office/ production budget - 1)\n",
    "mdo_clean.loc[:,'return'] = (\n",
    "    mdo_clean['total_box_office']/ mdo_clean['production_budget'] - 1\n",
    "    )\n",
    "\n",
    "mdo_clean.head()"
   ]
  },
  {
   "cell_type": "code",
   "execution_count": 124,
   "metadata": {
    "ExecuteTime": {
     "end_time": "2022-08-02T16:35:46.927957Z",
     "start_time": "2022-08-02T16:35:46.905938Z"
    }
   },
   "outputs": [
    {
     "data": {
      "text/html": [
       "<div>\n",
       "<style scoped>\n",
       "    .dataframe tbody tr th:only-of-type {\n",
       "        vertical-align: middle;\n",
       "    }\n",
       "\n",
       "    .dataframe tbody tr th {\n",
       "        vertical-align: top;\n",
       "    }\n",
       "\n",
       "    .dataframe thead th {\n",
       "        text-align: right;\n",
       "    }\n",
       "</style>\n",
       "<table border=\"1\" class=\"dataframe\">\n",
       "  <thead>\n",
       "    <tr style=\"text-align: right;\">\n",
       "      <th></th>\n",
       "      <th>movie_name</th>\n",
       "      <th>production_year</th>\n",
       "      <th>movie_odid</th>\n",
       "      <th>production_budget</th>\n",
       "      <th>domestic_box_office</th>\n",
       "      <th>international_box_office</th>\n",
       "      <th>rating</th>\n",
       "      <th>creative_type</th>\n",
       "      <th>source</th>\n",
       "      <th>production_method</th>\n",
       "      <th>genre</th>\n",
       "      <th>sequel</th>\n",
       "      <th>running_time</th>\n",
       "      <th>total_box_office</th>\n",
       "      <th>return</th>\n",
       "      <th>percent_of_int</th>\n",
       "    </tr>\n",
       "  </thead>\n",
       "  <tbody>\n",
       "    <tr>\n",
       "      <th>3</th>\n",
       "      <td>A Prairie Home Companion</td>\n",
       "      <td>2006</td>\n",
       "      <td>24910100</td>\n",
       "      <td>10000000</td>\n",
       "      <td>20342852</td>\n",
       "      <td>6373339</td>\n",
       "      <td>PG-13</td>\n",
       "      <td>Contemporary Fiction</td>\n",
       "      <td>Original Screenplay</td>\n",
       "      <td>Live Action</td>\n",
       "      <td>Comedy</td>\n",
       "      <td>0.0</td>\n",
       "      <td>105.0</td>\n",
       "      <td>26716191</td>\n",
       "      <td>1.671619</td>\n",
       "      <td>0.238557</td>\n",
       "    </tr>\n",
       "    <tr>\n",
       "      <th>5</th>\n",
       "      <td>Employee of the Month</td>\n",
       "      <td>2006</td>\n",
       "      <td>19540100</td>\n",
       "      <td>10000000</td>\n",
       "      <td>28444855</td>\n",
       "      <td>9920000</td>\n",
       "      <td>PG-13</td>\n",
       "      <td>Contemporary Fiction</td>\n",
       "      <td>Original Screenplay</td>\n",
       "      <td>Live Action</td>\n",
       "      <td>Comedy</td>\n",
       "      <td>0.0</td>\n",
       "      <td>108.0</td>\n",
       "      <td>38364855</td>\n",
       "      <td>2.836486</td>\n",
       "      <td>0.258570</td>\n",
       "    </tr>\n",
       "    <tr>\n",
       "      <th>13</th>\n",
       "      <td>Crank</td>\n",
       "      <td>2006</td>\n",
       "      <td>19850100</td>\n",
       "      <td>12000000</td>\n",
       "      <td>27838408</td>\n",
       "      <td>16086515</td>\n",
       "      <td>R</td>\n",
       "      <td>Contemporary Fiction</td>\n",
       "      <td>Original Screenplay</td>\n",
       "      <td>Live Action</td>\n",
       "      <td>Action</td>\n",
       "      <td>0.0</td>\n",
       "      <td>88.0</td>\n",
       "      <td>43924923</td>\n",
       "      <td>2.660410</td>\n",
       "      <td>0.366228</td>\n",
       "    </tr>\n",
       "    <tr>\n",
       "      <th>14</th>\n",
       "      <td>Fateless</td>\n",
       "      <td>2006</td>\n",
       "      <td>75540100</td>\n",
       "      <td>12000000</td>\n",
       "      <td>196857</td>\n",
       "      <td>0</td>\n",
       "      <td>R</td>\n",
       "      <td>Historical Fiction</td>\n",
       "      <td>Based on Fiction Book/Short Story</td>\n",
       "      <td>Live Action</td>\n",
       "      <td>Drama</td>\n",
       "      <td>0.0</td>\n",
       "      <td>140.0</td>\n",
       "      <td>196857</td>\n",
       "      <td>-0.983595</td>\n",
       "      <td>0.000000</td>\n",
       "    </tr>\n",
       "    <tr>\n",
       "      <th>16</th>\n",
       "      <td>Step Up</td>\n",
       "      <td>2006</td>\n",
       "      <td>7780100</td>\n",
       "      <td>12000000</td>\n",
       "      <td>65328121</td>\n",
       "      <td>45661036</td>\n",
       "      <td>PG-13</td>\n",
       "      <td>Contemporary Fiction</td>\n",
       "      <td>Original Screenplay</td>\n",
       "      <td>Live Action</td>\n",
       "      <td>Drama</td>\n",
       "      <td>0.0</td>\n",
       "      <td>103.0</td>\n",
       "      <td>110989157</td>\n",
       "      <td>8.249096</td>\n",
       "      <td>0.411401</td>\n",
       "    </tr>\n",
       "  </tbody>\n",
       "</table>\n",
       "</div>"
      ],
      "text/plain": [
       "                  movie_name  production_year  movie_odid  production_budget  \\\n",
       "3   A Prairie Home Companion             2006    24910100           10000000   \n",
       "5      Employee of the Month             2006    19540100           10000000   \n",
       "13                     Crank             2006    19850100           12000000   \n",
       "14                  Fateless             2006    75540100           12000000   \n",
       "16                   Step Up             2006     7780100           12000000   \n",
       "\n",
       "    domestic_box_office  international_box_office rating  \\\n",
       "3              20342852                   6373339  PG-13   \n",
       "5              28444855                   9920000  PG-13   \n",
       "13             27838408                  16086515      R   \n",
       "14               196857                         0      R   \n",
       "16             65328121                  45661036  PG-13   \n",
       "\n",
       "           creative_type                             source production_method  \\\n",
       "3   Contemporary Fiction                Original Screenplay       Live Action   \n",
       "5   Contemporary Fiction                Original Screenplay       Live Action   \n",
       "13  Contemporary Fiction                Original Screenplay       Live Action   \n",
       "14    Historical Fiction  Based on Fiction Book/Short Story       Live Action   \n",
       "16  Contemporary Fiction                Original Screenplay       Live Action   \n",
       "\n",
       "     genre  sequel  running_time  total_box_office    return  percent_of_int  \n",
       "3   Comedy     0.0         105.0          26716191  1.671619        0.238557  \n",
       "5   Comedy     0.0         108.0          38364855  2.836486        0.258570  \n",
       "13  Action     0.0          88.0          43924923  2.660410        0.366228  \n",
       "14   Drama     0.0         140.0            196857 -0.983595        0.000000  \n",
       "16   Drama     0.0         103.0         110989157  8.249096        0.411401  "
      ]
     },
     "execution_count": 124,
     "metadata": {},
     "output_type": "execute_result"
    }
   ],
   "source": [
    "# Adding percent of international to total box office\n",
    "mdo_clean.loc[:,'percent_of_int'] = (\n",
    "    mdo_clean['international_box_office'] / mdo_clean['total_box_office']\n",
    "    )\n",
    "\n",
    "mdo_clean.head()"
   ]
  },
  {
   "cell_type": "code",
   "execution_count": 125,
   "metadata": {
    "ExecuteTime": {
     "end_time": "2022-08-02T16:35:47.445236Z",
     "start_time": "2022-08-02T16:35:47.433149Z"
    }
   },
   "outputs": [
    {
     "data": {
      "text/plain": [
       "rating\n",
       "G            0.911765\n",
       "NC-17        1.000000\n",
       "Not Rated    0.606061\n",
       "PG           0.848993\n",
       "PG-13        0.823370\n",
       "R            0.682540\n",
       "Name: is_profitable, dtype: float64"
      ]
     },
     "execution_count": 125,
     "metadata": {},
     "output_type": "execute_result"
    }
   ],
   "source": [
    "# adding flag for profitability.\n",
    "conditions = [mdo_clean.loc[:,'return'] >= 0,\n",
    "              mdo_clean.loc[:,'return'] < 0]\n",
    "\n",
    "values = [1,0]\n",
    "\n",
    "mdo_clean.loc[:,'is_profitable'] = np.select(conditions, values, default=0)\n",
    "mdo_clean.groupby('rating')['is_profitable'].mean()"
   ]
  },
  {
   "cell_type": "code",
   "execution_count": 126,
   "metadata": {
    "ExecuteTime": {
     "end_time": "2022-08-02T16:35:48.459157Z",
     "start_time": "2022-08-02T16:35:48.445269Z"
    }
   },
   "outputs": [],
   "source": [
    "# adding friendly label for sequel categorical\n",
    "conditions = [mdo_clean.loc[:,'sequel'] > 0,\n",
    "              mdo_clean.loc[:,'sequel'] == 0]\n",
    "\n",
    "values = ['Has Sequel','No Sequel']\n",
    "\n",
    "mdo_clean.loc[:,'is_sequel'] = np.select(conditions, values, default=0)"
   ]
  },
  {
   "cell_type": "markdown",
   "metadata": {},
   "source": [
    "Since my primary focus for \"success\" is ROI, I have added a total box office category, along with a ROI measure, and a profitablitiy flag.  In addition to adding these columns, I added a charting friendly categorical variable for the sequel column."
   ]
  },
  {
   "cell_type": "markdown",
   "metadata": {},
   "source": [
    "## OpusData ***Analysis***"
   ]
  },
  {
   "cell_type": "code",
   "execution_count": null,
   "metadata": {},
   "outputs": [],
   "source": [
    "# Summary stats for numeric columns; initial understanding of data distribution and which\n",
    "# measure of central tendency will be best applied for my analyses.\n",
    "\n",
    "mdo_clean.describe()"
   ]
  },
  {
   "cell_type": "code",
   "execution_count": 32,
   "metadata": {
    "ExecuteTime": {
     "end_time": "2022-08-02T12:42:02.976974Z",
     "start_time": "2022-08-02T12:42:02.950606Z"
    }
   },
   "outputs": [
    {
     "data": {
      "text/html": [
       "<div>\n",
       "<style scoped>\n",
       "    .dataframe tbody tr th:only-of-type {\n",
       "        vertical-align: middle;\n",
       "    }\n",
       "\n",
       "    .dataframe tbody tr th {\n",
       "        vertical-align: top;\n",
       "    }\n",
       "\n",
       "    .dataframe thead th {\n",
       "        text-align: right;\n",
       "    }\n",
       "</style>\n",
       "<table border=\"1\" class=\"dataframe\">\n",
       "  <thead>\n",
       "    <tr style=\"text-align: right;\">\n",
       "      <th></th>\n",
       "      <th>production_year</th>\n",
       "      <th>movie_odid</th>\n",
       "      <th>total_box_office</th>\n",
       "    </tr>\n",
       "  </thead>\n",
       "  <tbody>\n",
       "    <tr>\n",
       "      <th>0</th>\n",
       "      <td>2006</td>\n",
       "      <td>96</td>\n",
       "      <td>13139666540</td>\n",
       "    </tr>\n",
       "    <tr>\n",
       "      <th>1</th>\n",
       "      <td>2007</td>\n",
       "      <td>133</td>\n",
       "      <td>17609479712</td>\n",
       "    </tr>\n",
       "    <tr>\n",
       "      <th>2</th>\n",
       "      <td>2008</td>\n",
       "      <td>169</td>\n",
       "      <td>20841914089</td>\n",
       "    </tr>\n",
       "    <tr>\n",
       "      <th>3</th>\n",
       "      <td>2009</td>\n",
       "      <td>175</td>\n",
       "      <td>24708029118</td>\n",
       "    </tr>\n",
       "    <tr>\n",
       "      <th>4</th>\n",
       "      <td>2010</td>\n",
       "      <td>226</td>\n",
       "      <td>28282185867</td>\n",
       "    </tr>\n",
       "    <tr>\n",
       "      <th>5</th>\n",
       "      <td>2011</td>\n",
       "      <td>185</td>\n",
       "      <td>35216319041</td>\n",
       "    </tr>\n",
       "    <tr>\n",
       "      <th>6</th>\n",
       "      <td>2012</td>\n",
       "      <td>96</td>\n",
       "      <td>19885339850</td>\n",
       "    </tr>\n",
       "    <tr>\n",
       "      <th>7</th>\n",
       "      <td>2013</td>\n",
       "      <td>122</td>\n",
       "      <td>21668174194</td>\n",
       "    </tr>\n",
       "    <tr>\n",
       "      <th>8</th>\n",
       "      <td>2014</td>\n",
       "      <td>142</td>\n",
       "      <td>28684658909</td>\n",
       "    </tr>\n",
       "    <tr>\n",
       "      <th>9</th>\n",
       "      <td>2015</td>\n",
       "      <td>160</td>\n",
       "      <td>27279573182</td>\n",
       "    </tr>\n",
       "    <tr>\n",
       "      <th>10</th>\n",
       "      <td>2016</td>\n",
       "      <td>136</td>\n",
       "      <td>28285207426</td>\n",
       "    </tr>\n",
       "    <tr>\n",
       "      <th>11</th>\n",
       "      <td>2017</td>\n",
       "      <td>118</td>\n",
       "      <td>28989517783</td>\n",
       "    </tr>\n",
       "    <tr>\n",
       "      <th>12</th>\n",
       "      <td>2018</td>\n",
       "      <td>37</td>\n",
       "      <td>9498367645</td>\n",
       "    </tr>\n",
       "  </tbody>\n",
       "</table>\n",
       "</div>"
      ],
      "text/plain": [
       "    production_year  movie_odid  total_box_office\n",
       "0              2006          96       13139666540\n",
       "1              2007         133       17609479712\n",
       "2              2008         169       20841914089\n",
       "3              2009         175       24708029118\n",
       "4              2010         226       28282185867\n",
       "5              2011         185       35216319041\n",
       "6              2012          96       19885339850\n",
       "7              2013         122       21668174194\n",
       "8              2014         142       28684658909\n",
       "9              2015         160       27279573182\n",
       "10             2016         136       28285207426\n",
       "11             2017         118       28989517783\n",
       "12             2018          37        9498367645"
      ]
     },
     "execution_count": 32,
     "metadata": {},
     "output_type": "execute_result"
    }
   ],
   "source": [
    "# Organizing counts and total box office sum for summary chart\n",
    "\n",
    "counts = (\n",
    "    mdo_clean\n",
    "    .groupby('production_year')['movie_odid']\n",
    "    .count()\n",
    "    .reset_index()\n",
    "    )\n",
    "\n",
    "totalboxyear = (\n",
    "    mdo_clean\n",
    "    .groupby('production_year')['total_box_office']\n",
    "    .sum()\n",
    "    .reset_index()\n",
    "    )\n",
    "\n",
    "\n",
    "result = pd.merge(counts, totalboxyear, how=\"inner\", on=['production_year', 'production_year'])\n",
    "result"
   ]
  },
  {
   "cell_type": "code",
   "execution_count": 33,
   "metadata": {
    "ExecuteTime": {
     "end_time": "2022-08-02T12:42:04.690101Z",
     "start_time": "2022-08-02T12:42:04.278615Z"
    }
   },
   "outputs": [
    {
     "data": {
      "image/png": "[encoded data removed]",
      "text/plain": [
       "<Figure size 864x432 with 2 Axes>"
      ]
     },
     "metadata": {
      "needs_background": "light"
     },
     "output_type": "display_data"
    }
   ],
   "source": [
    "# Summary chart for number of movies and total box office by year\n",
    "\n",
    "fig, ax1 = plt.subplots(figsize=(12,6))\n",
    "\n",
    "lp = sns.lineplot(data = result['total_box_office'], \n",
    "                  marker='o', \n",
    "                  sort = False, \n",
    "                  ax=ax1, \n",
    "                  label='Number of Movies', \n",
    "                  color='#dfc27d')\n",
    "\n",
    "ax2 = ax1.twinx()\n",
    "\n",
    "bp = sns.barplot(data = result, \n",
    "                 x='production_year', \n",
    "                 y='movie_odid', \n",
    "                 alpha=0.5, \n",
    "                 ax=ax2, \n",
    "                 color='#35978f', \n",
    "                 label='Total Box Office Revenue')\n",
    "\n",
    "ax1.set_title('Number of Movies & Total Box Office Revenue by Year')\n",
    "ax1.set_xlabel('Production Year')\n",
    "ax1.set_ylabel('Total Box Office')\n",
    "ax2.set_ylabel('Number of Movies')\n",
    "fig.legend(loc='upper right', bbox_to_anchor=(.88,.88))\n",
    "ax1.get_legend().remove()\n",
    "fmt = '${x:,.0f}'\n",
    "tick = mtick.StrMethodFormatter(fmt)\n",
    "ax1.yaxis.set_major_formatter(tick);"
   ]
  },
  {
   "cell_type": "markdown",
   "metadata": {},
   "source": [
    "Initial chart to understand values and trends over time.  Focusing on the macro trends, the number of records and total box office spend for each time period represented.  Based on this visualization, I have a better understanding of which years I should not weight disproportionally (i.e. 2012, 2018).  It would be interesting to understand at a macro level what happened in 2012, because it seems as if movies that are included in this dataset both dropped off from a release count perspective and a total box office.  Since I only have year in this dataset, and not date, I have decided not to focus too much on date."
   ]
  },
  {
   "cell_type": "code",
   "execution_count": 34,
   "metadata": {
    "ExecuteTime": {
     "end_time": "2022-08-02T12:42:07.982804Z",
     "start_time": "2022-08-02T12:42:06.830441Z"
    }
   },
   "outputs": [
    {
     "data": {
      "image/png": "[encoded data removed]",
      "text/plain": [
       "<Figure size 576x360 with 2 Axes>"
      ]
     },
     "metadata": {
      "needs_background": "light"
     },
     "output_type": "display_data"
    }
   ],
   "source": [
    "# Correlation matrix of numerical values in opus dataset.  \n",
    "\n",
    "plt.figure(figsize = (8,5))\n",
    "corrM = mdo_clean.corr()\n",
    "\n",
    "sns.heatmap(corrM, annot=True, cmap='BrBG')\n",
    "plt.show()"
   ]
  },
  {
   "cell_type": "markdown",
   "metadata": {},
   "source": [
    "Stronger positive correlations exist between box office results and production budget.  This gives me confidence in my\n",
    "data set since I selected a data set that was limited to larger budgets.  Would like to further evaluate international box office as a potential solution."
   ]
  },
  {
   "cell_type": "code",
   "execution_count": 35,
   "metadata": {
    "ExecuteTime": {
     "end_time": "2022-08-02T12:42:10.075564Z",
     "start_time": "2022-08-02T12:42:09.677944Z"
    }
   },
   "outputs": [
    {
     "data": {
      "image/png": "[encoded data removed]",
      "text/plain": [
       "<Figure size 576x360 with 1 Axes>"
      ]
     },
     "metadata": {
      "needs_background": "light"
     },
     "output_type": "display_data"
    }
   ],
   "source": [
    "#sns.scatterplot(data=mdo_clean, x='return', y='total_box_office')\n",
    "\n",
    "plt.figure(figsize = (8,5))\n",
    "\n",
    "rp = sns.regplot(x='return',\n",
    "            y='total_box_office', \n",
    "            data=mdo_clean,\n",
    "            scatter_kws={\"color\": '#35978f'}, \n",
    "            line_kws={\"color\": '#dfc27d'})\n",
    "\n",
    "rp.set_ylabel('Total Box Office')\n",
    "rp.set_xlabel('ROI/ return')\n",
    "rp.set_title('Total Box Office vs Return');"
   ]
  },
  {
   "cell_type": "markdown",
   "metadata": {},
   "source": [
    "Visualized total box office and return in a different way vs the correlation matrix above, displaying the strong positive relationship."
   ]
  },
  {
   "cell_type": "markdown",
   "metadata": {
    "ExecuteTime": {
     "end_time": "2022-07-26T18:04:43.428730Z",
     "start_time": "2022-07-26T18:04:43.426381Z"
    }
   },
   "source": [
    "### Argument for \"Family Movies\"\n",
    "\n",
    "Create movies that have the highest ROI to maximize initial investment & early profitability."
   ]
  },
  {
   "cell_type": "markdown",
   "metadata": {
    "ExecuteTime": {
     "end_time": "2022-08-02T12:25:03.688454Z",
     "start_time": "2022-08-02T12:25:03.684373Z"
    }
   },
   "source": [
    "Rating seems to be a interesting category to understand.  I charted a quick count of records to make sure the categories I was comparing had enough experience."
   ]
  },
  {
   "cell_type": "code",
   "execution_count": 36,
   "metadata": {
    "ExecuteTime": {
     "end_time": "2022-08-02T12:44:49.644364Z",
     "start_time": "2022-08-02T12:44:49.622968Z"
    },
    "scrolled": true
   },
   "outputs": [
    {
     "data": {
      "text/html": [
       "<div>\n",
       "<style scoped>\n",
       "    .dataframe tbody tr th:only-of-type {\n",
       "        vertical-align: middle;\n",
       "    }\n",
       "\n",
       "    .dataframe tbody tr th {\n",
       "        vertical-align: top;\n",
       "    }\n",
       "\n",
       "    .dataframe thead th {\n",
       "        text-align: right;\n",
       "    }\n",
       "</style>\n",
       "<table border=\"1\" class=\"dataframe\">\n",
       "  <thead>\n",
       "    <tr style=\"text-align: right;\">\n",
       "      <th></th>\n",
       "      <th>rating</th>\n",
       "      <th>production_year</th>\n",
       "      <th>movie_odid</th>\n",
       "      <th>production_budget</th>\n",
       "      <th>domestic_box_office</th>\n",
       "      <th>international_box_office</th>\n",
       "      <th>sequel</th>\n",
       "      <th>running_time</th>\n",
       "      <th>total_box_office</th>\n",
       "      <th>return</th>\n",
       "      <th>percent_of_int</th>\n",
       "      <th>is_profitable</th>\n",
       "    </tr>\n",
       "  </thead>\n",
       "  <tbody>\n",
       "    <tr>\n",
       "      <th>4</th>\n",
       "      <td>PG-13</td>\n",
       "      <td>1480530</td>\n",
       "      <td>99547583600</td>\n",
       "      <td>51482400000</td>\n",
       "      <td>64071363498</td>\n",
       "      <td>98938185069</td>\n",
       "      <td>136.0</td>\n",
       "      <td>83164.0</td>\n",
       "      <td>163009548567</td>\n",
       "      <td>1528.804234</td>\n",
       "      <td>366.309436</td>\n",
       "      <td>606</td>\n",
       "    </tr>\n",
       "    <tr>\n",
       "      <th>3</th>\n",
       "      <td>PG</td>\n",
       "      <td>599407</td>\n",
       "      <td>38854699800</td>\n",
       "      <td>21963600000</td>\n",
       "      <td>27868757027</td>\n",
       "      <td>42455279143</td>\n",
       "      <td>55.0</td>\n",
       "      <td>29786.0</td>\n",
       "      <td>70324036170</td>\n",
       "      <td>611.561885</td>\n",
       "      <td>155.396715</td>\n",
       "      <td>253</td>\n",
       "    </tr>\n",
       "    <tr>\n",
       "      <th>5</th>\n",
       "      <td>R</td>\n",
       "      <td>1394012</td>\n",
       "      <td>100226299300</td>\n",
       "      <td>23256270000</td>\n",
       "      <td>27687192501</td>\n",
       "      <td>33370015189</td>\n",
       "      <td>75.0</td>\n",
       "      <td>76899.0</td>\n",
       "      <td>61057207690</td>\n",
       "      <td>1245.657447</td>\n",
       "      <td>350.243995</td>\n",
       "      <td>473</td>\n",
       "    </tr>\n",
       "    <tr>\n",
       "      <th>0</th>\n",
       "      <td>G</td>\n",
       "      <td>68321</td>\n",
       "      <td>2853693400</td>\n",
       "      <td>2357500000</td>\n",
       "      <td>2894929346</td>\n",
       "      <td>4866246539</td>\n",
       "      <td>9.0</td>\n",
       "      <td>3181.0</td>\n",
       "      <td>7761175885</td>\n",
       "      <td>92.649955</td>\n",
       "      <td>19.269808</td>\n",
       "      <td>31</td>\n",
       "    </tr>\n",
       "    <tr>\n",
       "      <th>2</th>\n",
       "      <td>Not Rated</td>\n",
       "      <td>66426</td>\n",
       "      <td>6583723300</td>\n",
       "      <td>692900000</td>\n",
       "      <td>60805933</td>\n",
       "      <td>1810491681</td>\n",
       "      <td>2.0</td>\n",
       "      <td>3634.0</td>\n",
       "      <td>1871297614</td>\n",
       "      <td>52.774112</td>\n",
       "      <td>28.675472</td>\n",
       "      <td>20</td>\n",
       "    </tr>\n",
       "    <tr>\n",
       "      <th>1</th>\n",
       "      <td>NC-17</td>\n",
       "      <td>2007</td>\n",
       "      <td>47450100</td>\n",
       "      <td>15000000</td>\n",
       "      <td>4604982</td>\n",
       "      <td>60562448</td>\n",
       "      <td>0.0</td>\n",
       "      <td>158.0</td>\n",
       "      <td>65167430</td>\n",
       "      <td>3.344495</td>\n",
       "      <td>0.929336</td>\n",
       "      <td>1</td>\n",
       "    </tr>\n",
       "  </tbody>\n",
       "</table>\n",
       "</div>"
      ],
      "text/plain": [
       "      rating  production_year    movie_odid  production_budget  \\\n",
       "4      PG-13          1480530   99547583600        51482400000   \n",
       "3         PG           599407   38854699800        21963600000   \n",
       "5          R          1394012  100226299300        23256270000   \n",
       "0          G            68321    2853693400         2357500000   \n",
       "2  Not Rated            66426    6583723300          692900000   \n",
       "1      NC-17             2007      47450100           15000000   \n",
       "\n",
       "   domestic_box_office  international_box_office  sequel  running_time  \\\n",
       "4          64071363498               98938185069   136.0       83164.0   \n",
       "3          27868757027               42455279143    55.0       29786.0   \n",
       "5          27687192501               33370015189    75.0       76899.0   \n",
       "0           2894929346                4866246539     9.0        3181.0   \n",
       "2             60805933                1810491681     2.0        3634.0   \n",
       "1              4604982                  60562448     0.0         158.0   \n",
       "\n",
       "   total_box_office       return  percent_of_int  is_profitable  \n",
       "4      163009548567  1528.804234      366.309436            606  \n",
       "3       70324036170   611.561885      155.396715            253  \n",
       "5       61057207690  1245.657447      350.243995            473  \n",
       "0        7761175885    92.649955       19.269808             31  \n",
       "2        1871297614    52.774112       28.675472             20  \n",
       "1          65167430     3.344495        0.929336              1  "
      ]
     },
     "execution_count": 36,
     "metadata": {},
     "output_type": "execute_result"
    }
   ],
   "source": [
    "# Summary of totals by rating category\n",
    "\n",
    "(mdo_clean\n",
    " .groupby(['rating'])\n",
    " .sum()\n",
    " .reset_index()\n",
    " .sort_values(by='total_box_office', \n",
    "              ascending=False)\n",
    ")"
   ]
  },
  {
   "cell_type": "code",
   "execution_count": 37,
   "metadata": {
    "ExecuteTime": {
     "end_time": "2022-08-02T12:44:57.969330Z",
     "start_time": "2022-08-02T12:44:57.644987Z"
    },
    "scrolled": false
   },
   "outputs": [
    {
     "data": {
      "text/plain": [
       "''"
      ]
     },
     "execution_count": 37,
     "metadata": {},
     "output_type": "execute_result"
    },
    {
     "data": {
      "image/png": "[encoded data removed]",
      "text/plain": [
       "<Figure size 864x432 with 1 Axes>"
      ]
     },
     "metadata": {
      "needs_background": "light"
     },
     "output_type": "display_data"
    }
   ],
   "source": [
    "# Boxplots of total box office by rating.\n",
    "# mdo_clean.boxplot(column='total_box_office', by='rating');\n",
    "# PG-13 total box office driven by outliers.  G rated movies have the highest \n",
    "# median (total) box office performance, however not a lot of experience.  \n",
    "# PG rated movies have both a high median and a decent amount of experience at \n",
    "# the box office.\n",
    "\n",
    "fig, ax = plt.subplots(figsize=(12,6))\n",
    "\n",
    "ax.set_title('ROI Distribution by Rating')\n",
    "\n",
    "\n",
    "bp = sns.boxplot(data=mdo_clean, \n",
    "            y='return', \n",
    "            x='rating', \n",
    "            color='#35978f')\n",
    "\n",
    "bp.set_ylabel('ROI/ return')\n",
    "bp.set_xlabel('Rating')\n",
    ";"
   ]
  },
  {
   "cell_type": "markdown",
   "metadata": {},
   "source": [
    "PG-13 total box office driven by outliers.  G rated movies have the highest median (total) box office performance, however not a lot of experience.   PG rated movies have both a high median and a decent amount of experience at the box office.  I am going to group these variables together into a 'family' flag next to see how the experience weights the results."
   ]
  },
  {
   "cell_type": "code",
   "execution_count": 39,
   "metadata": {
    "ExecuteTime": {
     "end_time": "2022-08-02T12:46:24.685120Z",
     "start_time": "2022-08-02T12:46:24.675263Z"
    },
    "scrolled": true
   },
   "outputs": [
    {
     "data": {
      "text/plain": [
       "Family        1068\n",
       "Non-Family     727\n",
       "Name: Family, dtype: int64"
      ]
     },
     "execution_count": 39,
     "metadata": {},
     "output_type": "execute_result"
    }
   ],
   "source": [
    "# adding flag for 'family movies' vs 'non-family movies'.  'family movies' defined as IN (G, PG, PG-13).\n",
    "\n",
    "conditions = (\n",
    "    [mdo_clean.loc[:,'rating']\n",
    "     .isin(['G', 'PG', 'PG-13']),\n",
    "              \n",
    "     mdo_clean.loc[:,'rating']\n",
    "     .isin(['Not Rated', 'NC-17', 'R'])]\n",
    "    )\n",
    "\n",
    "values = ['Family','Non-Family']\n",
    "\n",
    "mdo_clean.loc[:,'Family'] = np.select(conditions, values, default=0)\n",
    "mdo_clean['Family'].value_counts()"
   ]
  },
  {
   "cell_type": "code",
   "execution_count": 40,
   "metadata": {
    "ExecuteTime": {
     "end_time": "2022-08-02T12:46:25.489775Z",
     "start_time": "2022-08-02T12:46:25.462729Z"
    }
   },
   "outputs": [
    {
     "data": {
      "text/html": [
       "<div>\n",
       "<style scoped>\n",
       "    .dataframe tbody tr th:only-of-type {\n",
       "        vertical-align: middle;\n",
       "    }\n",
       "\n",
       "    .dataframe tbody tr th {\n",
       "        vertical-align: top;\n",
       "    }\n",
       "\n",
       "    .dataframe thead th {\n",
       "        text-align: right;\n",
       "    }\n",
       "</style>\n",
       "<table border=\"1\" class=\"dataframe\">\n",
       "  <thead>\n",
       "    <tr style=\"text-align: right;\">\n",
       "      <th></th>\n",
       "      <th>Family</th>\n",
       "      <th>production_year</th>\n",
       "      <th>movie_odid</th>\n",
       "      <th>production_budget</th>\n",
       "      <th>domestic_box_office</th>\n",
       "      <th>international_box_office</th>\n",
       "      <th>sequel</th>\n",
       "      <th>running_time</th>\n",
       "      <th>total_box_office</th>\n",
       "      <th>return</th>\n",
       "      <th>percent_of_int</th>\n",
       "      <th>is_profitable</th>\n",
       "    </tr>\n",
       "  </thead>\n",
       "  <tbody>\n",
       "    <tr>\n",
       "      <th>0</th>\n",
       "      <td>Family</td>\n",
       "      <td>2011.0</td>\n",
       "      <td>143645100.0</td>\n",
       "      <td>45000000.0</td>\n",
       "      <td>53303923.5</td>\n",
       "      <td>58189214.0</td>\n",
       "      <td>0.0</td>\n",
       "      <td>107.0</td>\n",
       "      <td>114660599.5</td>\n",
       "      <td>1.423386</td>\n",
       "      <td>0.547821</td>\n",
       "      <td>1.0</td>\n",
       "    </tr>\n",
       "    <tr>\n",
       "      <th>1</th>\n",
       "      <td>Non-Family</td>\n",
       "      <td>2011.0</td>\n",
       "      <td>149540100.0</td>\n",
       "      <td>25000000.0</td>\n",
       "      <td>23591043.0</td>\n",
       "      <td>23334984.0</td>\n",
       "      <td>0.0</td>\n",
       "      <td>110.0</td>\n",
       "      <td>48977233.0</td>\n",
       "      <td>0.768996</td>\n",
       "      <td>0.523360</td>\n",
       "      <td>1.0</td>\n",
       "    </tr>\n",
       "  </tbody>\n",
       "</table>\n",
       "</div>"
      ],
      "text/plain": [
       "       Family  production_year   movie_odid  production_budget  \\\n",
       "0      Family           2011.0  143645100.0         45000000.0   \n",
       "1  Non-Family           2011.0  149540100.0         25000000.0   \n",
       "\n",
       "   domestic_box_office  international_box_office  sequel  running_time  \\\n",
       "0           53303923.5                58189214.0     0.0         107.0   \n",
       "1           23591043.0                23334984.0     0.0         110.0   \n",
       "\n",
       "   total_box_office    return  percent_of_int  is_profitable  \n",
       "0       114660599.5  1.423386        0.547821            1.0  \n",
       "1        48977233.0  0.768996        0.523360            1.0  "
      ]
     },
     "execution_count": 40,
     "metadata": {},
     "output_type": "execute_result"
    }
   ],
   "source": [
    "# Median values for family vs non family numerical data.\n",
    "\n",
    "fam_group = (\n",
    "    mdo_clean.groupby('Family')\n",
    "    .median()\n",
    "    .reset_index()\n",
    "    )\n",
    "\n",
    "fam_group"
   ]
  },
  {
   "cell_type": "code",
   "execution_count": 43,
   "metadata": {
    "ExecuteTime": {
     "end_time": "2022-08-02T12:47:27.298503Z",
     "start_time": "2022-08-02T12:47:27.102832Z"
    },
    "scrolled": false
   },
   "outputs": [
    {
     "data": {
      "text/plain": [
       "''"
      ]
     },
     "execution_count": 43,
     "metadata": {},
     "output_type": "execute_result"
    },
    {
     "data": {
      "image/png": "[encoded data removed]",
      "text/plain": [
       "<Figure size 864x432 with 1 Axes>"
      ]
     },
     "metadata": {
      "needs_background": "light"
     },
     "output_type": "display_data"
    }
   ],
   "source": [
    "# Chart to show delta between family and non family median international box office.\n",
    "\n",
    "fig, ax = plt.subplots(figsize=(12,6))\n",
    "\n",
    "bp = sns.barplot(data=fam_group, \n",
    "            y='total_box_office', \n",
    "            x='Family', \n",
    "            palette = 'BrBG')\n",
    "\n",
    "bp.set_ylabel('Median Total Box Office')\n",
    "bp.set_xlabel('Family vs Non-Family')\n",
    "bp.set_title('Median Total Box Office Revenue by Rating Group')\n",
    "\n",
    "fmt = '${x:,.0f}'\n",
    "tick = mtick.StrMethodFormatter(fmt)\n",
    "ax.yaxis.set_major_formatter(tick)\n",
    ";"
   ]
  },
  {
   "cell_type": "markdown",
   "metadata": {},
   "source": [
    "Family movies clearly have a higher median box office vs non-family movies.  This is primarily being driven by a higher percentage of international movie box office percentages - shown below."
   ]
  },
  {
   "cell_type": "code",
   "execution_count": 44,
   "metadata": {
    "ExecuteTime": {
     "end_time": "2022-08-02T12:48:27.825067Z",
     "start_time": "2022-08-02T12:48:27.818407Z"
    },
    "scrolled": true
   },
   "outputs": [
    {
     "data": {
      "text/plain": [
       "rating\n",
       "G            0.613246\n",
       "NC-17        0.929336\n",
       "Not Rated    0.986614\n",
       "PG           0.555254\n",
       "PG-13        0.535883\n",
       "R            0.508475\n",
       "Name: percent_of_int, dtype: float64"
      ]
     },
     "execution_count": 44,
     "metadata": {},
     "output_type": "execute_result"
    }
   ],
   "source": [
    "mdo_clean.groupby('rating')['percent_of_int'].median()\n",
    "\n",
    "#plt.figure(figsize = (8,4))\n",
    "#sns.barplot(y='percent_of_int', x='rating', data = fam_mov, palette='BrBG', order = fam_mov.sort_values('percent_of_int', ascending = True).rating)\n",
    "\n",
    "#Not rated, and NC-17 rated movies have a higher international box office impact on the total box office.  G/PG/PG-13 also perform better than R rated movies on the international stage."
   ]
  },
  {
   "cell_type": "code",
   "execution_count": 45,
   "metadata": {
    "ExecuteTime": {
     "end_time": "2022-08-02T12:48:28.503544Z",
     "start_time": "2022-08-02T12:48:28.471273Z"
    }
   },
   "outputs": [
    {
     "data": {
      "text/html": [
       "<div>\n",
       "<style scoped>\n",
       "    .dataframe tbody tr th:only-of-type {\n",
       "        vertical-align: middle;\n",
       "    }\n",
       "\n",
       "    .dataframe tbody tr th {\n",
       "        vertical-align: top;\n",
       "    }\n",
       "\n",
       "    .dataframe thead th {\n",
       "        text-align: right;\n",
       "    }\n",
       "</style>\n",
       "<table border=\"1\" class=\"dataframe\">\n",
       "  <thead>\n",
       "    <tr style=\"text-align: right;\">\n",
       "      <th>Family</th>\n",
       "      <th>Family</th>\n",
       "      <th>Non-Family</th>\n",
       "    </tr>\n",
       "    <tr>\n",
       "      <th>production_year</th>\n",
       "      <th></th>\n",
       "      <th></th>\n",
       "    </tr>\n",
       "  </thead>\n",
       "  <tbody>\n",
       "    <tr>\n",
       "      <th>2006</th>\n",
       "      <td>0.908239</td>\n",
       "      <td>0.379025</td>\n",
       "    </tr>\n",
       "    <tr>\n",
       "      <th>2007</th>\n",
       "      <td>1.454847</td>\n",
       "      <td>0.611666</td>\n",
       "    </tr>\n",
       "    <tr>\n",
       "      <th>2008</th>\n",
       "      <td>1.206220</td>\n",
       "      <td>0.456290</td>\n",
       "    </tr>\n",
       "    <tr>\n",
       "      <th>2009</th>\n",
       "      <td>1.087926</td>\n",
       "      <td>0.629676</td>\n",
       "    </tr>\n",
       "    <tr>\n",
       "      <th>2010</th>\n",
       "      <td>1.197185</td>\n",
       "      <td>0.509634</td>\n",
       "    </tr>\n",
       "    <tr>\n",
       "      <th>2011</th>\n",
       "      <td>1.475338</td>\n",
       "      <td>0.658262</td>\n",
       "    </tr>\n",
       "    <tr>\n",
       "      <th>2012</th>\n",
       "      <td>1.466032</td>\n",
       "      <td>1.224738</td>\n",
       "    </tr>\n",
       "    <tr>\n",
       "      <th>2013</th>\n",
       "      <td>1.669760</td>\n",
       "      <td>1.236402</td>\n",
       "    </tr>\n",
       "    <tr>\n",
       "      <th>2014</th>\n",
       "      <td>1.929897</td>\n",
       "      <td>0.691226</td>\n",
       "    </tr>\n",
       "    <tr>\n",
       "      <th>2015</th>\n",
       "      <td>1.659514</td>\n",
       "      <td>0.547951</td>\n",
       "    </tr>\n",
       "    <tr>\n",
       "      <th>2016</th>\n",
       "      <td>1.678453</td>\n",
       "      <td>1.320263</td>\n",
       "    </tr>\n",
       "    <tr>\n",
       "      <th>2017</th>\n",
       "      <td>2.148097</td>\n",
       "      <td>1.613940</td>\n",
       "    </tr>\n",
       "    <tr>\n",
       "      <th>2018</th>\n",
       "      <td>1.954738</td>\n",
       "      <td>0.870399</td>\n",
       "    </tr>\n",
       "  </tbody>\n",
       "</table>\n",
       "</div>"
      ],
      "text/plain": [
       "Family             Family  Non-Family\n",
       "production_year                      \n",
       "2006             0.908239    0.379025\n",
       "2007             1.454847    0.611666\n",
       "2008             1.206220    0.456290\n",
       "2009             1.087926    0.629676\n",
       "2010             1.197185    0.509634\n",
       "2011             1.475338    0.658262\n",
       "2012             1.466032    1.224738\n",
       "2013             1.669760    1.236402\n",
       "2014             1.929897    0.691226\n",
       "2015             1.659514    0.547951\n",
       "2016             1.678453    1.320263\n",
       "2017             2.148097    1.613940\n",
       "2018             1.954738    0.870399"
      ]
     },
     "execution_count": 45,
     "metadata": {},
     "output_type": "execute_result"
    }
   ],
   "source": [
    "# create variable/ pivot table to undersand return within family and non family movies\n",
    "\n",
    "medfams = pd.pivot_table(mdo_clean, \n",
    "                         values='return', \n",
    "                         columns='Family', \n",
    "                         index='production_year', \n",
    "                         aggfunc=np.median, \n",
    "                         fill_value=0)\n",
    "\n",
    "medfams"
   ]
  },
  {
   "cell_type": "code",
   "execution_count": 46,
   "metadata": {
    "ExecuteTime": {
     "end_time": "2022-08-02T12:48:30.222972Z",
     "start_time": "2022-08-02T12:48:29.956512Z"
    }
   },
   "outputs": [
    {
     "data": {
      "image/png": "[encoded data removed]",
      "text/plain": [
       "<Figure size 864x432 with 1 Axes>"
      ]
     },
     "metadata": {
      "needs_background": "light"
     },
     "output_type": "display_data"
    }
   ],
   "source": [
    "# create chart showing roi for fam vs non fam movies by year\n",
    "\n",
    "plt.subplots(figsize=(12,6))\n",
    "\n",
    "lp = sns.lineplot(data = medfams, marker='o', sort = False, palette='BrBG')\n",
    "\n",
    "lp.set_title('ROI by Family and Non-Family Movies by Production Year')\n",
    "lp.set_xlabel('Production Year')\n",
    "lp.set_ylabel('ROI/ return on investment Multiple')\n",
    "lp.legend(title = False);"
   ]
  },
  {
   "cell_type": "markdown",
   "metadata": {},
   "source": [
    "Family movies have consistently performed better over the experience in this period.  Even though there are a few ups and downs in the line chart, the relative ratio to non-family movies is pretty clear.  Going to create a family movie specific dataset now and continue my analysis within family rated movies only."
   ]
  },
  {
   "cell_type": "code",
   "execution_count": 29,
   "metadata": {
    "ExecuteTime": {
     "end_time": "2022-07-27T14:01:06.576481Z",
     "start_time": "2022-07-27T14:01:06.556952Z"
    },
    "scrolled": false
   },
   "outputs": [
    {
     "data": {
      "text/html": [
       "<div>\n",
       "<style scoped>\n",
       "    .dataframe tbody tr th:only-of-type {\n",
       "        vertical-align: middle;\n",
       "    }\n",
       "\n",
       "    .dataframe tbody tr th {\n",
       "        vertical-align: top;\n",
       "    }\n",
       "\n",
       "    .dataframe thead th {\n",
       "        text-align: right;\n",
       "    }\n",
       "</style>\n",
       "<table border=\"1\" class=\"dataframe\">\n",
       "  <thead>\n",
       "    <tr style=\"text-align: right;\">\n",
       "      <th></th>\n",
       "      <th>movie_name</th>\n",
       "      <th>production_year</th>\n",
       "      <th>movie_odid</th>\n",
       "      <th>production_budget</th>\n",
       "      <th>domestic_box_office</th>\n",
       "      <th>international_box_office</th>\n",
       "      <th>rating</th>\n",
       "      <th>creative_type</th>\n",
       "      <th>source</th>\n",
       "      <th>production_method</th>\n",
       "      <th>genre</th>\n",
       "      <th>sequel</th>\n",
       "      <th>running_time</th>\n",
       "      <th>total_box_office</th>\n",
       "      <th>return</th>\n",
       "      <th>percent_of_int</th>\n",
       "      <th>is_profitable</th>\n",
       "      <th>is_sequel</th>\n",
       "    </tr>\n",
       "  </thead>\n",
       "  <tbody>\n",
       "    <tr>\n",
       "      <th>3</th>\n",
       "      <td>A Prairie Home Companion</td>\n",
       "      <td>2006</td>\n",
       "      <td>24910100</td>\n",
       "      <td>10000000</td>\n",
       "      <td>20342852</td>\n",
       "      <td>6373339</td>\n",
       "      <td>PG-13</td>\n",
       "      <td>Contemporary Fiction</td>\n",
       "      <td>Original Screenplay</td>\n",
       "      <td>Live Action</td>\n",
       "      <td>Comedy</td>\n",
       "      <td>0.0</td>\n",
       "      <td>105.0</td>\n",
       "      <td>26716191</td>\n",
       "      <td>1.671619</td>\n",
       "      <td>0.238557</td>\n",
       "      <td>1</td>\n",
       "      <td>No Sequel</td>\n",
       "    </tr>\n",
       "    <tr>\n",
       "      <th>5</th>\n",
       "      <td>Employee of the Month</td>\n",
       "      <td>2006</td>\n",
       "      <td>19540100</td>\n",
       "      <td>10000000</td>\n",
       "      <td>28444855</td>\n",
       "      <td>9920000</td>\n",
       "      <td>PG-13</td>\n",
       "      <td>Contemporary Fiction</td>\n",
       "      <td>Original Screenplay</td>\n",
       "      <td>Live Action</td>\n",
       "      <td>Comedy</td>\n",
       "      <td>0.0</td>\n",
       "      <td>108.0</td>\n",
       "      <td>38364855</td>\n",
       "      <td>2.836486</td>\n",
       "      <td>0.258570</td>\n",
       "      <td>1</td>\n",
       "      <td>No Sequel</td>\n",
       "    </tr>\n",
       "    <tr>\n",
       "      <th>16</th>\n",
       "      <td>Step Up</td>\n",
       "      <td>2006</td>\n",
       "      <td>7780100</td>\n",
       "      <td>12000000</td>\n",
       "      <td>65328121</td>\n",
       "      <td>45661036</td>\n",
       "      <td>PG-13</td>\n",
       "      <td>Contemporary Fiction</td>\n",
       "      <td>Original Screenplay</td>\n",
       "      <td>Live Action</td>\n",
       "      <td>Drama</td>\n",
       "      <td>0.0</td>\n",
       "      <td>103.0</td>\n",
       "      <td>110989157</td>\n",
       "      <td>8.249096</td>\n",
       "      <td>0.411401</td>\n",
       "      <td>1</td>\n",
       "      <td>No Sequel</td>\n",
       "    </tr>\n",
       "    <tr>\n",
       "      <th>23</th>\n",
       "      <td>An American Haunting</td>\n",
       "      <td>2006</td>\n",
       "      <td>130560100</td>\n",
       "      <td>14000000</td>\n",
       "      <td>16298046</td>\n",
       "      <td>14145231</td>\n",
       "      <td>PG-13</td>\n",
       "      <td>Historical Fiction</td>\n",
       "      <td>Based on Fiction Book/Short Story</td>\n",
       "      <td>Live Action</td>\n",
       "      <td>Horror</td>\n",
       "      <td>0.0</td>\n",
       "      <td>83.0</td>\n",
       "      <td>30443277</td>\n",
       "      <td>1.174520</td>\n",
       "      <td>0.464642</td>\n",
       "      <td>1</td>\n",
       "      <td>No Sequel</td>\n",
       "    </tr>\n",
       "    <tr>\n",
       "      <th>28</th>\n",
       "      <td>Flicka</td>\n",
       "      <td>2006</td>\n",
       "      <td>24440100</td>\n",
       "      <td>15000000</td>\n",
       "      <td>21000147</td>\n",
       "      <td>896220</td>\n",
       "      <td>PG</td>\n",
       "      <td>Contemporary Fiction</td>\n",
       "      <td>Based on Fiction Book/Short Story</td>\n",
       "      <td>Live Action</td>\n",
       "      <td>Drama</td>\n",
       "      <td>0.0</td>\n",
       "      <td>95.0</td>\n",
       "      <td>21896367</td>\n",
       "      <td>0.459758</td>\n",
       "      <td>0.040930</td>\n",
       "      <td>1</td>\n",
       "      <td>No Sequel</td>\n",
       "    </tr>\n",
       "  </tbody>\n",
       "</table>\n",
       "</div>"
      ],
      "text/plain": [
       "                  movie_name  production_year  movie_odid  production_budget  \\\n",
       "3   A Prairie Home Companion             2006    24910100           10000000   \n",
       "5      Employee of the Month             2006    19540100           10000000   \n",
       "16                   Step Up             2006     7780100           12000000   \n",
       "23      An American Haunting             2006   130560100           14000000   \n",
       "28                    Flicka             2006    24440100           15000000   \n",
       "\n",
       "    domestic_box_office  international_box_office rating  \\\n",
       "3              20342852                   6373339  PG-13   \n",
       "5              28444855                   9920000  PG-13   \n",
       "16             65328121                  45661036  PG-13   \n",
       "23             16298046                  14145231  PG-13   \n",
       "28             21000147                    896220     PG   \n",
       "\n",
       "           creative_type                             source production_method  \\\n",
       "3   Contemporary Fiction                Original Screenplay       Live Action   \n",
       "5   Contemporary Fiction                Original Screenplay       Live Action   \n",
       "16  Contemporary Fiction                Original Screenplay       Live Action   \n",
       "23    Historical Fiction  Based on Fiction Book/Short Story       Live Action   \n",
       "28  Contemporary Fiction  Based on Fiction Book/Short Story       Live Action   \n",
       "\n",
       "     genre  sequel  running_time  total_box_office    return  percent_of_int  \\\n",
       "3   Comedy     0.0         105.0          26716191  1.671619        0.238557   \n",
       "5   Comedy     0.0         108.0          38364855  2.836486        0.258570   \n",
       "16   Drama     0.0         103.0         110989157  8.249096        0.411401   \n",
       "23  Horror     0.0          83.0          30443277  1.174520        0.464642   \n",
       "28   Drama     0.0          95.0          21896367  0.459758        0.040930   \n",
       "\n",
       "    is_profitable  is_sequel  \n",
       "3               1  No Sequel  \n",
       "5               1  No Sequel  \n",
       "16              1  No Sequel  \n",
       "23              1  No Sequel  \n",
       "28              1  No Sequel  "
      ]
     },
     "execution_count": 29,
     "metadata": {},
     "output_type": "execute_result"
    }
   ],
   "source": [
    "# create new dataframe with G, PG, and PG-13 titles only.\n",
    "\n",
    "fam_mov = (\n",
    "    mdo_clean[mdo_clean['rating']\n",
    "              .isin(['G', 'PG', 'PG-13'])]\n",
    "    )\n",
    "\n",
    "fam_mov.head()"
   ]
  },
  {
   "cell_type": "code",
   "execution_count": 30,
   "metadata": {
    "ExecuteTime": {
     "end_time": "2022-07-27T14:01:11.461460Z",
     "start_time": "2022-07-27T14:01:10.335859Z"
    },
    "scrolled": false
   },
   "outputs": [
    {
     "data": {
      "image/png": "[encoded data removed]",
      "text/plain": [
       "<Figure size 576x360 with 2 Axes>"
      ]
     },
     "metadata": {
      "needs_background": "light"
     },
     "output_type": "display_data"
    }
   ],
   "source": [
    "# Correlation matrix of family movie data to understand any relationships between variables.\n",
    "\n",
    "plt.figure(figsize = (8,5))\n",
    "corrFamMov = fam_mov.corr()\n",
    "\n",
    "sns.heatmap(corrFamMov, annot=True, cmap='BrBG')\n",
    "plt.show()"
   ]
  },
  {
   "cell_type": "markdown",
   "metadata": {},
   "source": [
    "Displayed a correlation matrix to determine any relationships between our numerical values.  Family movies are still showing strong relationships between box office performance, and production budget."
   ]
  },
  {
   "cell_type": "markdown",
   "metadata": {},
   "source": [
    "### Argument for Family movies released internationally\n",
    "\n",
    "Focus on family movies that are appealing to an international audience."
   ]
  },
  {
   "cell_type": "code",
   "execution_count": 31,
   "metadata": {
    "ExecuteTime": {
     "end_time": "2022-07-27T14:01:11.895417Z",
     "start_time": "2022-07-27T14:01:11.464258Z"
    },
    "scrolled": false
   },
   "outputs": [
    {
     "data": {
      "image/png": "[encoded data removed]",
      "text/plain": [
       "<Figure size 576x360 with 1 Axes>"
      ]
     },
     "metadata": {
      "needs_background": "light"
     },
     "output_type": "display_data"
    }
   ],
   "source": [
    "# Scatterplot of total box office to international box office for family movies.\n",
    "\n",
    "plt.figure(figsize = (8,5))\n",
    "\n",
    "rp = sns.regplot(x='total_box_office',\n",
    "            y='international_box_office', \n",
    "            data=fam_mov,\n",
    "            scatter_kws={\"color\": '#35978f'}, \n",
    "            line_kws={\"color\": '#dfc27d'})\n",
    "\n",
    "rp.set_xlabel('Total Box Office')\n",
    "rp.set_ylabel('International Box Office')\n",
    "rp.set_title('Relationship between Total and International Box Office for Family Movies')\n",
    "\n",
    "fmt = '${x:,.0f}'\n",
    "tick = mtick.StrMethodFormatter(fmt)\n",
    "rp.yaxis.set_major_formatter(tick);"
   ]
  },
  {
   "cell_type": "code",
   "execution_count": 44,
   "metadata": {
    "ExecuteTime": {
     "end_time": "2022-07-27T14:04:02.752342Z",
     "start_time": "2022-07-27T14:04:02.736606Z"
    },
    "scrolled": false
   },
   "outputs": [
    {
     "data": {
      "text/html": [
       "<div>\n",
       "<style scoped>\n",
       "    .dataframe tbody tr th:only-of-type {\n",
       "        vertical-align: middle;\n",
       "    }\n",
       "\n",
       "    .dataframe tbody tr th {\n",
       "        vertical-align: top;\n",
       "    }\n",
       "\n",
       "    .dataframe thead th {\n",
       "        text-align: right;\n",
       "    }\n",
       "</style>\n",
       "<table border=\"1\" class=\"dataframe\">\n",
       "  <thead>\n",
       "    <tr style=\"text-align: right;\">\n",
       "      <th></th>\n",
       "      <th>Family</th>\n",
       "      <th>production_year</th>\n",
       "      <th>international_box_office</th>\n",
       "    </tr>\n",
       "  </thead>\n",
       "  <tbody>\n",
       "    <tr>\n",
       "      <th>0</th>\n",
       "      <td>Family</td>\n",
       "      <td>2006</td>\n",
       "      <td>39687709.0</td>\n",
       "    </tr>\n",
       "    <tr>\n",
       "      <th>1</th>\n",
       "      <td>Family</td>\n",
       "      <td>2007</td>\n",
       "      <td>52108232.0</td>\n",
       "    </tr>\n",
       "    <tr>\n",
       "      <th>2</th>\n",
       "      <td>Family</td>\n",
       "      <td>2008</td>\n",
       "      <td>46749406.0</td>\n",
       "    </tr>\n",
       "    <tr>\n",
       "      <th>3</th>\n",
       "      <td>Family</td>\n",
       "      <td>2009</td>\n",
       "      <td>39242930.5</td>\n",
       "    </tr>\n",
       "    <tr>\n",
       "      <th>4</th>\n",
       "      <td>Family</td>\n",
       "      <td>2010</td>\n",
       "      <td>52550643.0</td>\n",
       "    </tr>\n",
       "    <tr>\n",
       "      <th>5</th>\n",
       "      <td>Family</td>\n",
       "      <td>2011</td>\n",
       "      <td>76932170.0</td>\n",
       "    </tr>\n",
       "    <tr>\n",
       "      <th>6</th>\n",
       "      <td>Family</td>\n",
       "      <td>2012</td>\n",
       "      <td>66246092.0</td>\n",
       "    </tr>\n",
       "    <tr>\n",
       "      <th>7</th>\n",
       "      <td>Family</td>\n",
       "      <td>2013</td>\n",
       "      <td>65380751.5</td>\n",
       "    </tr>\n",
       "    <tr>\n",
       "      <th>8</th>\n",
       "      <td>Family</td>\n",
       "      <td>2014</td>\n",
       "      <td>94195547.0</td>\n",
       "    </tr>\n",
       "    <tr>\n",
       "      <th>9</th>\n",
       "      <td>Family</td>\n",
       "      <td>2015</td>\n",
       "      <td>63800000.0</td>\n",
       "    </tr>\n",
       "    <tr>\n",
       "      <th>10</th>\n",
       "      <td>Family</td>\n",
       "      <td>2016</td>\n",
       "      <td>100455270.0</td>\n",
       "    </tr>\n",
       "    <tr>\n",
       "      <th>11</th>\n",
       "      <td>Family</td>\n",
       "      <td>2017</td>\n",
       "      <td>98992840.0</td>\n",
       "    </tr>\n",
       "    <tr>\n",
       "      <th>12</th>\n",
       "      <td>Family</td>\n",
       "      <td>2018</td>\n",
       "      <td>112039078.0</td>\n",
       "    </tr>\n",
       "    <tr>\n",
       "      <th>13</th>\n",
       "      <td>Non-Family</td>\n",
       "      <td>2006</td>\n",
       "      <td>29471026.0</td>\n",
       "    </tr>\n",
       "    <tr>\n",
       "      <th>14</th>\n",
       "      <td>Non-Family</td>\n",
       "      <td>2007</td>\n",
       "      <td>28342050.0</td>\n",
       "    </tr>\n",
       "    <tr>\n",
       "      <th>15</th>\n",
       "      <td>Non-Family</td>\n",
       "      <td>2008</td>\n",
       "      <td>17699328.0</td>\n",
       "    </tr>\n",
       "    <tr>\n",
       "      <th>16</th>\n",
       "      <td>Non-Family</td>\n",
       "      <td>2009</td>\n",
       "      <td>20000000.0</td>\n",
       "    </tr>\n",
       "    <tr>\n",
       "      <th>17</th>\n",
       "      <td>Non-Family</td>\n",
       "      <td>2010</td>\n",
       "      <td>16996031.0</td>\n",
       "    </tr>\n",
       "    <tr>\n",
       "      <th>18</th>\n",
       "      <td>Non-Family</td>\n",
       "      <td>2011</td>\n",
       "      <td>30297893.5</td>\n",
       "    </tr>\n",
       "    <tr>\n",
       "      <th>19</th>\n",
       "      <td>Non-Family</td>\n",
       "      <td>2012</td>\n",
       "      <td>31400000.0</td>\n",
       "    </tr>\n",
       "    <tr>\n",
       "      <th>20</th>\n",
       "      <td>Non-Family</td>\n",
       "      <td>2013</td>\n",
       "      <td>23699905.5</td>\n",
       "    </tr>\n",
       "    <tr>\n",
       "      <th>21</th>\n",
       "      <td>Non-Family</td>\n",
       "      <td>2014</td>\n",
       "      <td>11770623.5</td>\n",
       "    </tr>\n",
       "    <tr>\n",
       "      <th>22</th>\n",
       "      <td>Non-Family</td>\n",
       "      <td>2015</td>\n",
       "      <td>21298277.0</td>\n",
       "    </tr>\n",
       "    <tr>\n",
       "      <th>23</th>\n",
       "      <td>Non-Family</td>\n",
       "      <td>2016</td>\n",
       "      <td>32060466.0</td>\n",
       "    </tr>\n",
       "    <tr>\n",
       "      <th>24</th>\n",
       "      <td>Non-Family</td>\n",
       "      <td>2017</td>\n",
       "      <td>35869575.0</td>\n",
       "    </tr>\n",
       "    <tr>\n",
       "      <th>25</th>\n",
       "      <td>Non-Family</td>\n",
       "      <td>2018</td>\n",
       "      <td>17709893.0</td>\n",
       "    </tr>\n",
       "  </tbody>\n",
       "</table>\n",
       "</div>"
      ],
      "text/plain": [
       "        Family  production_year  international_box_office\n",
       "0       Family             2006                39687709.0\n",
       "1       Family             2007                52108232.0\n",
       "2       Family             2008                46749406.0\n",
       "3       Family             2009                39242930.5\n",
       "4       Family             2010                52550643.0\n",
       "5       Family             2011                76932170.0\n",
       "6       Family             2012                66246092.0\n",
       "7       Family             2013                65380751.5\n",
       "8       Family             2014                94195547.0\n",
       "9       Family             2015                63800000.0\n",
       "10      Family             2016               100455270.0\n",
       "11      Family             2017                98992840.0\n",
       "12      Family             2018               112039078.0\n",
       "13  Non-Family             2006                29471026.0\n",
       "14  Non-Family             2007                28342050.0\n",
       "15  Non-Family             2008                17699328.0\n",
       "16  Non-Family             2009                20000000.0\n",
       "17  Non-Family             2010                16996031.0\n",
       "18  Non-Family             2011                30297893.5\n",
       "19  Non-Family             2012                31400000.0\n",
       "20  Non-Family             2013                23699905.5\n",
       "21  Non-Family             2014                11770623.5\n",
       "22  Non-Family             2015                21298277.0\n",
       "23  Non-Family             2016                32060466.0\n",
       "24  Non-Family             2017                35869575.0\n",
       "25  Non-Family             2018                17709893.0"
      ]
     },
     "execution_count": 44,
     "metadata": {},
     "output_type": "execute_result"
    }
   ],
   "source": [
    "# dataframe to plot median international box office by year, and family flag.\n",
    "\n",
    "intarg = (\n",
    "    mdo_clean\n",
    "    .groupby(['Family', 'production_year'])['international_box_office']\n",
    "    .median()\n",
    "    .reset_index()\n",
    "    )\n",
    "\n",
    "intarg"
   ]
  },
  {
   "cell_type": "code",
   "execution_count": 45,
   "metadata": {
    "ExecuteTime": {
     "end_time": "2022-07-27T14:04:04.670737Z",
     "start_time": "2022-07-27T14:04:04.327778Z"
    },
    "scrolled": false
   },
   "outputs": [
    {
     "data": {
      "image/png": "[encoded data removed]",
      "text/plain": [
       "<Figure size 864x432 with 1 Axes>"
      ]
     },
     "metadata": {
      "needs_background": "light"
     },
     "output_type": "display_data"
    }
   ],
   "source": [
    "# chart to show grouping above of median international box office family vs non family and year.\n",
    "\n",
    "fig, ax1 = plt.subplots(figsize=(12,6))\n",
    "\n",
    "sns.barplot(data = intarg, \n",
    "            x='production_year', \n",
    "            y='international_box_office', \n",
    "            hue='Family', \n",
    "            palette='BrBG')\n",
    "\n",
    "ax1.set_title('International Box Office by Production Year & Family vs Non-Family')\n",
    "ax1.set_xlabel('Production Year')\n",
    "ax1.set_ylabel('Median International Box Office')\n",
    "ax1.legend(title = False)\n",
    "\n",
    "fmt = '${x:,.0f}'\n",
    "tick = mtick.StrMethodFormatter(fmt)\n",
    "ax1.yaxis.set_major_formatter(tick);"
   ]
  },
  {
   "cell_type": "code",
   "execution_count": 157,
   "metadata": {
    "ExecuteTime": {
     "end_time": "2022-08-02T16:51:49.919170Z",
     "start_time": "2022-08-02T16:51:49.914283Z"
    },
    "scrolled": false
   },
   "outputs": [],
   "source": [
    "mdo_nds = mdo_clean.drop_duplicates(subset=['movie_name'], keep='first')"
   ]
  },
  {
   "cell_type": "code",
   "execution_count": 158,
   "metadata": {
    "ExecuteTime": {
     "end_time": "2022-08-02T16:51:53.277782Z",
     "start_time": "2022-08-02T16:51:53.237420Z"
    }
   },
   "outputs": [],
   "source": [
    "lang_nds = lang_clean.drop_duplicates(subset=['primary_title'], keep='first')"
   ]
  },
  {
   "cell_type": "code",
   "execution_count": 198,
   "metadata": {
    "ExecuteTime": {
     "end_time": "2022-08-02T17:13:36.074410Z",
     "start_time": "2022-08-02T17:13:36.053074Z"
    },
    "scrolled": false
   },
   "outputs": [
    {
     "name": "stdout",
     "output_type": "stream",
     "text": [
      "<class 'pandas.core.frame.DataFrame'>\n",
      "Int64Index: 76 entries, 5 to 1925\n",
      "Data columns (total 32 columns):\n",
      " #   Column                    Non-Null Count  Dtype  \n",
      "---  ------                    --------------  -----  \n",
      " 0   movie_name                76 non-null     object \n",
      " 1   production_year           76 non-null     int64  \n",
      " 2   movie_odid                76 non-null     int64  \n",
      " 3   production_budget         76 non-null     int64  \n",
      " 4   domestic_box_office       76 non-null     int64  \n",
      " 5   international_box_office  76 non-null     int64  \n",
      " 6   rating                    76 non-null     object \n",
      " 7   creative_type             76 non-null     object \n",
      " 8   source                    76 non-null     object \n",
      " 9   production_method         76 non-null     object \n",
      " 10  genre                     76 non-null     object \n",
      " 11  sequel                    76 non-null     float64\n",
      " 12  running_time              76 non-null     float64\n",
      " 13  total_box_office          76 non-null     int64  \n",
      " 14  return                    76 non-null     float64\n",
      " 15  percent_of_int            76 non-null     float64\n",
      " 16  is_profitable             76 non-null     int64  \n",
      " 17  is_sequel                 76 non-null     object \n",
      " 18  movie_id                  76 non-null     object \n",
      " 19  primary_title             76 non-null     object \n",
      " 20  original_title            76 non-null     object \n",
      " 21  start_year                76 non-null     int64  \n",
      " 22  runtime_minutes           73 non-null     float64\n",
      " 23  genres                    75 non-null     object \n",
      " 24  movie_id                  76 non-null     object \n",
      " 25  ordering                  76 non-null     float64\n",
      " 26  title                     76 non-null     object \n",
      " 27  region                    76 non-null     object \n",
      " 28  language                  76 non-null     object \n",
      " 29  types                     37 non-null     object \n",
      " 30  attributes                6 non-null      object \n",
      " 31  is_original_title         76 non-null     float64\n",
      "dtypes: float64(7), int64(8), object(17)\n",
      "memory usage: 19.6+ KB\n"
     ]
    }
   ],
   "source": [
    "mdo_clean_lang = mdo_nds.join(lang_nds, lsuffix='movie_name', rsuffix='primary_title', how='inner')\n",
    "mdo_clean_lang.info()"
   ]
  },
  {
   "cell_type": "code",
   "execution_count": 199,
   "metadata": {
    "ExecuteTime": {
     "end_time": "2022-08-02T17:13:42.769229Z",
     "start_time": "2022-08-02T17:13:42.762927Z"
    }
   },
   "outputs": [
    {
     "data": {
      "text/plain": [
       "en     21\n",
       "bg     17\n",
       "tr     11\n",
       "he     10\n",
       "fr      9\n",
       "hi      2\n",
       "sr      1\n",
       "cmn     1\n",
       "es      1\n",
       "ka      1\n",
       "bn      1\n",
       "qbn     1\n",
       "Name: language, dtype: int64"
      ]
     },
     "execution_count": 199,
     "metadata": {},
     "output_type": "execute_result"
    }
   ],
   "source": [
    "mdo_clean_lang['language'].value_counts()"
   ]
  },
  {
   "cell_type": "code",
   "execution_count": 200,
   "metadata": {
    "ExecuteTime": {
     "end_time": "2022-08-02T17:13:44.135739Z",
     "start_time": "2022-08-02T17:13:43.894489Z"
    }
   },
   "outputs": [
    {
     "data": {
      "text/plain": [
       "<AxesSubplot:ylabel='language'>"
      ]
     },
     "execution_count": 200,
     "metadata": {},
     "output_type": "execute_result"
    },
    {
     "data": {
      "image/png": "[encoded data removed]",
      "text/plain": [
       "<Figure size 748.8x514.8 with 1 Axes>"
      ]
     },
     "metadata": {
      "needs_background": "light"
     },
     "output_type": "display_data"
    }
   ],
   "source": [
    "langbox = pd.pivot_table(mdo_clean_lang, \n",
    "                        values='percent_of_int',  \n",
    "                        index='language', \n",
    "                        aggfunc=np.median, \n",
    "                        fill_value=0)\n",
    "\n",
    "langbox.sort_values(by='percent_of_int', ascending=True).plot(kind='barh')"
   ]
  },
  {
   "cell_type": "markdown",
   "metadata": {},
   "source": [
    "### Argument for Sequels (in Family Movies and International)\n",
    "\n",
    "Develop franchise movies to optimize box office performance and additional opportunities for monetization."
   ]
  },
  {
   "cell_type": "code",
   "execution_count": 73,
   "metadata": {
    "ExecuteTime": {
     "end_time": "2022-07-27T12:50:45.848764Z",
     "start_time": "2022-07-27T12:50:45.831650Z"
    },
    "scrolled": false
   },
   "outputs": [
    {
     "data": {
      "text/html": [
       "<div>\n",
       "<style scoped>\n",
       "    .dataframe tbody tr th:only-of-type {\n",
       "        vertical-align: middle;\n",
       "    }\n",
       "\n",
       "    .dataframe tbody tr th {\n",
       "        vertical-align: top;\n",
       "    }\n",
       "\n",
       "    .dataframe thead th {\n",
       "        text-align: right;\n",
       "    }\n",
       "</style>\n",
       "<table border=\"1\" class=\"dataframe\">\n",
       "  <thead>\n",
       "    <tr style=\"text-align: right;\">\n",
       "      <th></th>\n",
       "      <th>production_year</th>\n",
       "      <th>movie_odid</th>\n",
       "      <th>production_budget</th>\n",
       "      <th>domestic_box_office</th>\n",
       "      <th>international_box_office</th>\n",
       "      <th>running_time</th>\n",
       "      <th>total_box_office</th>\n",
       "      <th>return</th>\n",
       "      <th>percent_of_int</th>\n",
       "      <th>is_profitable</th>\n",
       "    </tr>\n",
       "    <tr>\n",
       "      <th>sequel</th>\n",
       "      <th></th>\n",
       "      <th></th>\n",
       "      <th></th>\n",
       "      <th></th>\n",
       "      <th></th>\n",
       "      <th></th>\n",
       "      <th></th>\n",
       "      <th></th>\n",
       "      <th></th>\n",
       "      <th></th>\n",
       "    </tr>\n",
       "  </thead>\n",
       "  <tbody>\n",
       "    <tr>\n",
       "      <th>0.0</th>\n",
       "      <td>2011.0</td>\n",
       "      <td>141835100.0</td>\n",
       "      <td>39000000.0</td>\n",
       "      <td>43684162.5</td>\n",
       "      <td>45732940.0</td>\n",
       "      <td>106.0</td>\n",
       "      <td>90140118.0</td>\n",
       "      <td>1.182864</td>\n",
       "      <td>0.508073</td>\n",
       "      <td>1.0</td>\n",
       "    </tr>\n",
       "    <tr>\n",
       "      <th>1.0</th>\n",
       "      <td>2013.0</td>\n",
       "      <td>160385100.0</td>\n",
       "      <td>125000000.0</td>\n",
       "      <td>139990127.5</td>\n",
       "      <td>243964033.5</td>\n",
       "      <td>113.0</td>\n",
       "      <td>385504519.0</td>\n",
       "      <td>2.599259</td>\n",
       "      <td>0.637483</td>\n",
       "      <td>1.0</td>\n",
       "    </tr>\n",
       "  </tbody>\n",
       "</table>\n",
       "</div>"
      ],
      "text/plain": [
       "        production_year   movie_odid  production_budget  domestic_box_office  \\\n",
       "sequel                                                                         \n",
       "0.0              2011.0  141835100.0         39000000.0           43684162.5   \n",
       "1.0              2013.0  160385100.0        125000000.0          139990127.5   \n",
       "\n",
       "        international_box_office  running_time  total_box_office    return  \\\n",
       "sequel                                                                       \n",
       "0.0                   45732940.0         106.0        90140118.0  1.182864   \n",
       "1.0                  243964033.5         113.0       385504519.0  2.599259   \n",
       "\n",
       "        percent_of_int  is_profitable  \n",
       "sequel                                 \n",
       "0.0           0.508073            1.0  \n",
       "1.0           0.637483            1.0  "
      ]
     },
     "execution_count": 73,
     "metadata": {},
     "output_type": "execute_result"
    }
   ],
   "source": [
    "# Group by sequel flag to understand impact within family movies.\n",
    "\n",
    "fam_mov.groupby('sequel').median()"
   ]
  },
  {
   "cell_type": "code",
   "execution_count": 97,
   "metadata": {
    "ExecuteTime": {
     "end_time": "2022-07-27T12:59:59.212146Z",
     "start_time": "2022-07-27T12:59:59.191872Z"
    }
   },
   "outputs": [
    {
     "data": {
      "text/html": [
       "<div>\n",
       "<style scoped>\n",
       "    .dataframe tbody tr th:only-of-type {\n",
       "        vertical-align: middle;\n",
       "    }\n",
       "\n",
       "    .dataframe tbody tr th {\n",
       "        vertical-align: top;\n",
       "    }\n",
       "\n",
       "    .dataframe thead th {\n",
       "        text-align: right;\n",
       "    }\n",
       "</style>\n",
       "<table border=\"1\" class=\"dataframe\">\n",
       "  <thead>\n",
       "    <tr style=\"text-align: right;\">\n",
       "      <th>sequel</th>\n",
       "      <th>0.0</th>\n",
       "      <th>1.0</th>\n",
       "    </tr>\n",
       "    <tr>\n",
       "      <th>production_year</th>\n",
       "      <th></th>\n",
       "      <th></th>\n",
       "    </tr>\n",
       "  </thead>\n",
       "  <tbody>\n",
       "    <tr>\n",
       "      <th>2006</th>\n",
       "      <td>0.423007</td>\n",
       "      <td>0.633666</td>\n",
       "    </tr>\n",
       "    <tr>\n",
       "      <th>2007</th>\n",
       "      <td>0.414527</td>\n",
       "      <td>0.623930</td>\n",
       "    </tr>\n",
       "    <tr>\n",
       "      <th>2008</th>\n",
       "      <td>0.507101</td>\n",
       "      <td>0.665311</td>\n",
       "    </tr>\n",
       "    <tr>\n",
       "      <th>2009</th>\n",
       "      <td>0.479602</td>\n",
       "      <td>0.568584</td>\n",
       "    </tr>\n",
       "    <tr>\n",
       "      <th>2010</th>\n",
       "      <td>0.510457</td>\n",
       "      <td>0.614375</td>\n",
       "    </tr>\n",
       "    <tr>\n",
       "      <th>2011</th>\n",
       "      <td>0.550526</td>\n",
       "      <td>0.654263</td>\n",
       "    </tr>\n",
       "    <tr>\n",
       "      <th>2012</th>\n",
       "      <td>0.541350</td>\n",
       "      <td>0.647685</td>\n",
       "    </tr>\n",
       "    <tr>\n",
       "      <th>2013</th>\n",
       "      <td>0.582935</td>\n",
       "      <td>0.669265</td>\n",
       "    </tr>\n",
       "    <tr>\n",
       "      <th>2014</th>\n",
       "      <td>0.593471</td>\n",
       "      <td>0.636413</td>\n",
       "    </tr>\n",
       "    <tr>\n",
       "      <th>2015</th>\n",
       "      <td>0.584576</td>\n",
       "      <td>0.653798</td>\n",
       "    </tr>\n",
       "    <tr>\n",
       "      <th>2016</th>\n",
       "      <td>0.528717</td>\n",
       "      <td>0.633021</td>\n",
       "    </tr>\n",
       "    <tr>\n",
       "      <th>2017</th>\n",
       "      <td>0.456577</td>\n",
       "      <td>0.627142</td>\n",
       "    </tr>\n",
       "    <tr>\n",
       "      <th>2018</th>\n",
       "      <td>0.533927</td>\n",
       "      <td>0.550328</td>\n",
       "    </tr>\n",
       "  </tbody>\n",
       "</table>\n",
       "</div>"
      ],
      "text/plain": [
       "sequel                0.0       1.0\n",
       "production_year                    \n",
       "2006             0.423007  0.633666\n",
       "2007             0.414527  0.623930\n",
       "2008             0.507101  0.665311\n",
       "2009             0.479602  0.568584\n",
       "2010             0.510457  0.614375\n",
       "2011             0.550526  0.654263\n",
       "2012             0.541350  0.647685\n",
       "2013             0.582935  0.669265\n",
       "2014             0.593471  0.636413\n",
       "2015             0.584576  0.653798\n",
       "2016             0.528717  0.633021\n",
       "2017             0.456577  0.627142\n",
       "2018             0.533927  0.550328"
      ]
     },
     "execution_count": 97,
     "metadata": {},
     "output_type": "execute_result"
    }
   ],
   "source": [
    "# create variable for grouping percent of international box office sequel, and year.\n",
    "\n",
    "fambox = pd.pivot_table(fam_mov, \n",
    "                        values='percent_of_int', \n",
    "                        columns='sequel', \n",
    "                        index='production_year', \n",
    "                        aggfunc=np.median, \n",
    "                        fill_value=0)\n",
    "\n",
    "fambox"
   ]
  },
  {
   "cell_type": "code",
   "execution_count": 102,
   "metadata": {
    "ExecuteTime": {
     "end_time": "2022-07-27T13:00:45.767153Z",
     "start_time": "2022-07-27T13:00:45.492471Z"
    }
   },
   "outputs": [
    {
     "data": {
      "image/png": "[encoded data removed]",
      "text/plain": [
       "<Figure size 864x432 with 1 Axes>"
      ]
     },
     "metadata": {
      "needs_background": "light"
     },
     "output_type": "display_data"
    }
   ],
   "source": [
    "# Chart showing data above\n",
    "\n",
    "fig, ax1 = plt.subplots(figsize=(12,6))\n",
    "\n",
    "sns.lineplot(data = fambox,\n",
    "             marker='o',\n",
    "             palette='BrBG')\n",
    "\n",
    "ax1.set_title('International Box Office as a Percentage of Total Box Office by Production Year')\n",
    "ax1.set_xlabel('Production Year')\n",
    "ax1.set_ylabel('International Box Office Percentage of Total')\n",
    "ax1.legend(title = False, labels=['Has Sequel', 'No Sequel']);"
   ]
  },
  {
   "cell_type": "code",
   "execution_count": 30,
   "metadata": {
    "ExecuteTime": {
     "end_time": "2022-07-27T12:27:58.183729Z",
     "start_time": "2022-07-27T12:27:58.177411Z"
    }
   },
   "outputs": [
    {
     "data": {
      "text/plain": [
       "Live Action              846\n",
       "Digital Animation        135\n",
       "Animation/Live Action     73\n",
       "Stop-Motion Animation      9\n",
       "Hand Animation             5\n",
       "Name: production_method, dtype: int64"
      ]
     },
     "execution_count": 30,
     "metadata": {},
     "output_type": "execute_result"
    }
   ],
   "source": [
    "# high level view of genre movie counts\n",
    "\n",
    "fam_mov['production_method'].value_counts()"
   ]
  },
  {
   "cell_type": "code",
   "execution_count": 31,
   "metadata": {
    "ExecuteTime": {
     "end_time": "2022-07-27T12:27:58.816624Z",
     "start_time": "2022-07-27T12:27:58.803622Z"
    }
   },
   "outputs": [
    {
     "data": {
      "text/html": [
       "<div>\n",
       "<style scoped>\n",
       "    .dataframe tbody tr th:only-of-type {\n",
       "        vertical-align: middle;\n",
       "    }\n",
       "\n",
       "    .dataframe tbody tr th {\n",
       "        vertical-align: top;\n",
       "    }\n",
       "\n",
       "    .dataframe thead th {\n",
       "        text-align: right;\n",
       "    }\n",
       "</style>\n",
       "<table border=\"1\" class=\"dataframe\">\n",
       "  <thead>\n",
       "    <tr style=\"text-align: right;\">\n",
       "      <th></th>\n",
       "      <th>sequel</th>\n",
       "      <th>production_method</th>\n",
       "      <th>return</th>\n",
       "    </tr>\n",
       "  </thead>\n",
       "  <tbody>\n",
       "    <tr>\n",
       "      <th>0</th>\n",
       "      <td>0.0</td>\n",
       "      <td>Animation/Live Action</td>\n",
       "      <td>1.867156</td>\n",
       "    </tr>\n",
       "    <tr>\n",
       "      <th>1</th>\n",
       "      <td>0.0</td>\n",
       "      <td>Digital Animation</td>\n",
       "      <td>1.447918</td>\n",
       "    </tr>\n",
       "    <tr>\n",
       "      <th>2</th>\n",
       "      <td>0.0</td>\n",
       "      <td>Hand Animation</td>\n",
       "      <td>1.580927</td>\n",
       "    </tr>\n",
       "    <tr>\n",
       "      <th>3</th>\n",
       "      <td>0.0</td>\n",
       "      <td>Live Action</td>\n",
       "      <td>1.131426</td>\n",
       "    </tr>\n",
       "    <tr>\n",
       "      <th>4</th>\n",
       "      <td>0.0</td>\n",
       "      <td>Stop-Motion Animation</td>\n",
       "      <td>0.865771</td>\n",
       "    </tr>\n",
       "    <tr>\n",
       "      <th>5</th>\n",
       "      <td>1.0</td>\n",
       "      <td>Animation/Live Action</td>\n",
       "      <td>2.841467</td>\n",
       "    </tr>\n",
       "    <tr>\n",
       "      <th>6</th>\n",
       "      <td>1.0</td>\n",
       "      <td>Digital Animation</td>\n",
       "      <td>2.856657</td>\n",
       "    </tr>\n",
       "    <tr>\n",
       "      <th>7</th>\n",
       "      <td>1.0</td>\n",
       "      <td>Live Action</td>\n",
       "      <td>2.468451</td>\n",
       "    </tr>\n",
       "  </tbody>\n",
       "</table>\n",
       "</div>"
      ],
      "text/plain": [
       "   sequel      production_method    return\n",
       "0     0.0  Animation/Live Action  1.867156\n",
       "1     0.0      Digital Animation  1.447918\n",
       "2     0.0         Hand Animation  1.580927\n",
       "3     0.0            Live Action  1.131426\n",
       "4     0.0  Stop-Motion Animation  0.865771\n",
       "5     1.0  Animation/Live Action  2.841467\n",
       "6     1.0      Digital Animation  2.856657\n",
       "7     1.0            Live Action  2.468451"
      ]
     },
     "execution_count": 31,
     "metadata": {},
     "output_type": "execute_result"
    }
   ],
   "source": [
    "#table = pd.pivot_table(fam_mov, values='return', columns='sequel', index='production_method', aggfunc=np.mean, fill_value=0)\n",
    "#tabledf = pd.DataFrame(table).reset_index()\n",
    "#tabledf\n",
    "\n",
    "tabledf = (\n",
    "    fam_mov\n",
    "    .groupby(['sequel', 'production_method'])['return']\n",
    "    .median()\n",
    "    .reset_index()\n",
    "    )\n",
    "\n",
    "tabledf"
   ]
  },
  {
   "cell_type": "code",
   "execution_count": 157,
   "metadata": {
    "ExecuteTime": {
     "end_time": "2022-07-27T13:12:18.361412Z",
     "start_time": "2022-07-27T13:12:18.124298Z"
    }
   },
   "outputs": [
    {
     "data": {
      "image/png": "[encoded data removed]",
      "text/plain": [
       "<Figure size 864x432 with 1 Axes>"
      ]
     },
     "metadata": {
      "needs_background": "light"
     },
     "output_type": "display_data"
    }
   ],
   "source": [
    "labels = ['No Sequel', 'Has Sequel']\n",
    "\n",
    "fig, ax = plt.subplots(figsize=(12,6))\n",
    "\n",
    "sns.barplot(data = tabledf, \n",
    "            x='return', \n",
    "            y='production_method', \n",
    "            hue='sequel', \n",
    "            orient='h', \n",
    "            palette='BrBG'\n",
    "            )\n",
    "\n",
    "ax.set_title('Family Movie Median ROI/return by Production Method & Franchise')\n",
    "ax.set_xlabel('ROI/ return')\n",
    "ax.set_ylabel('Production Method')\n",
    "\n",
    "\n",
    "h, l = ax.get_legend_handles_labels()\n",
    "ax.legend(h, labels, loc='lower right');\n"
   ]
  },
  {
   "cell_type": "markdown",
   "metadata": {},
   "source": [
    "# Conclusion\n",
    "\n",
    "\n",
    "Most movies that were released in this data set (between 2006 and 2018, and have a budget of over $10M) are profitable.  However, when you start to look at the type of content (rating) of the movies, you can begin to dicern a higher probability of profitability.  Something that is really important for a company that is just beginning their content journey.\n",
    "\n",
    "For Microsoft, creating profitable movies from the start of the studio will help their chances of being successful, and funding additional films with revenue generated from previous movies.  In summary, focusing on these 3 movie attributes and distribution will make them most successful:\n",
    "\n",
    "1. **Create family movies that have the highest ROI to maximize initial investment & early profitability.**\n",
    "2. **Focus on family movies that are appealing to an international audience.**\n",
    "3. **Develop franchise movies to optimize box office performance, and additional opportunities for monetization.**\n"
   ]
  },
  {
   "cell_type": "markdown",
   "metadata": {
    "ExecuteTime": {
     "end_time": "2022-07-26T18:08:31.889330Z",
     "start_time": "2022-07-26T18:08:31.887085Z"
    }
   },
   "source": [
    "# Next Steps\n",
    "\n",
    "Further analyses could yield additional insights to further improve success at Microsoft:\n",
    "\n",
    "1. **Look at production studio data to determine inital success of movies types within the suggested rating categories.** \n",
    "2. **Understand review data and how it impacts success for both studio, and franchises.**\n",
    "3. **Look at sequel success in relation to cast consistency;  are people going to see the movie because of the story, or the cast.**"
   ]
  }
 ],
 "metadata": {
  "kernelspec": {
   "display_name": "Python 3",
   "language": "python",
   "name": "python3"
  },
  "language_info": {
   "codemirror_mode": {
    "name": "ipython",
    "version": 3
   },
   "file_extension": ".py",
   "mimetype": "text/x-python",
   "name": "python",
   "nbconvert_exporter": "python",
   "pygments_lexer": "ipython3",
   "version": "3.8.5"
  },
  "toc": {
   "base_numbering": 1,
   "nav_menu": {},
   "number_sections": true,
   "sideBar": true,
   "skip_h1_title": false,
   "title_cell": "Table of Contents",
   "title_sidebar": "Contents",
   "toc_cell": false,
   "toc_position": {
    "height": "calc(100% - 180px)",
    "left": "10px",
    "top": "150px",
    "width": "268.8px"
   },
   "toc_section_display": true,
   "toc_window_display": false
  }
 },
 "nbformat": 4,
 "nbformat_minor": 2
}
